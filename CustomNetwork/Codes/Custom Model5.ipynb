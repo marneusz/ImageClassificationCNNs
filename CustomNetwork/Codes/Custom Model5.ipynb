{
 "cells": [
  {
   "cell_type": "code",
   "execution_count": 1,
   "metadata": {},
   "outputs": [],
   "source": [
    "import pandas as pd\n",
    "import numpy as np\n",
    "from matplotlib.image import imread\n",
    "import matplotlib.pyplot as plt\n",
    "import seaborn as sns\n",
    "\n",
    "from tensorflow.keras.utils import to_categorical\n",
    "from tensorflow.keras.models import Sequential\n",
    "from tensorflow.keras.layers import Dense, Conv2D, MaxPooling2D, Flatten, AveragePooling2D, BatchNormalization, Activation, Dropout\n",
    "from sklearn.metrics import classification_report,confusion_matrix\n",
    "from tensorflow.keras.datasets import cifar10\n",
    "from tensorflow.keras.callbacks import EarlyStopping\n",
    "from tensorflow.keras.regularizers import l2"
   ]
  },
  {
   "cell_type": "code",
   "execution_count": 2,
   "metadata": {},
   "outputs": [],
   "source": [
    "seed_value= 10\n",
    "\n",
    "import os\n",
    "os.environ['PYTHONHASHSEED']=str(seed_value)\n",
    "\n",
    "import random\n",
    "random.seed(seed_value)\n",
    "\n",
    "import numpy as np\n",
    "np.random.seed(seed_value)\n",
    "\n",
    "import tensorflow as tf\n",
    "tf.random.set_seed(seed_value)\n",
    "\n",
    "session_conf = tf.compat.v1.ConfigProto(intra_op_parallelism_threads=1, inter_op_parallelism_threads=1)\n",
    "sess = tf.compat.v1.Session(graph=tf.compat.v1.get_default_graph(), config=session_conf)\n",
    "tf.compat.v1.keras.backend.set_session(sess)"
   ]
  },
  {
   "cell_type": "code",
   "execution_count": 3,
   "metadata": {},
   "outputs": [],
   "source": [
    "labels = pd.read_csv('trainLabels.csv')"
   ]
  },
  {
   "cell_type": "code",
   "execution_count": 4,
   "metadata": {},
   "outputs": [],
   "source": [
    "train_images = []\n",
    "for i in labels.id:\n",
    "    train_images.append(imread('train/'+str(i)+'.png'))\n",
    "\n",
    "X_train = np.array(train_images)"
   ]
  },
  {
   "cell_type": "code",
   "execution_count": 5,
   "metadata": {},
   "outputs": [],
   "source": [
    "animals = sorted(labels.label.unique())\n",
    "mapping = {}\n",
    "for i in range(len(animals)):\n",
    "    mapping[animals[i]] = i\n",
    "\n",
    "reversed_mapping = {v:k for k,v in mapping.items()}"
   ]
  },
  {
   "cell_type": "code",
   "execution_count": 6,
   "metadata": {},
   "outputs": [],
   "source": [
    "y_train = labels.label.apply(lambda x: mapping[x])\n",
    "y_cat_train = to_categorical(y_train,10)"
   ]
  },
  {
   "cell_type": "code",
   "execution_count": 7,
   "metadata": {},
   "outputs": [],
   "source": [
    "(_, _), (X_test, y_test) = cifar10.load_data()\n",
    "X_test = X_test/255"
   ]
  },
  {
   "cell_type": "code",
   "execution_count": 8,
   "metadata": {},
   "outputs": [],
   "source": [
    "model = Sequential()\n",
    "\n",
    "## FIRST SET OF LAYERS\n",
    "\n",
    "# CONVOLUTIONAL LAYER\n",
    "model.add(Conv2D(filters=32, kernel_size=(3,3),input_shape=(32, 32, 3), \n",
    "                 activation='relu', padding = 'same', kernel_initializer='he_uniform'))\n",
    "model.add(Conv2D(filters=32, kernel_size=(3,3),input_shape=(32, 32, 3), \n",
    "                 activation='relu', padding = 'same', kernel_initializer='he_uniform'))\n",
    "# POOLING LAYER\n",
    "model.add(MaxPooling2D(pool_size=(2, 2)))\n",
    "model.add(Dropout(0.3))\n",
    "\n",
    "## SECOND SET OF LAYERS\n",
    "\n",
    "# CONVOLUTIONAL LAYER\n",
    "model.add(Conv2D(filters=64, kernel_size=(3,3),input_shape=(32, 32, 3), \n",
    "                 activation='relu', padding = 'same', kernel_initializer='he_uniform'))\n",
    "model.add(Conv2D(filters=64, kernel_size=(3,3),input_shape=(32, 32, 3), \n",
    "                 activation='relu', padding = 'same', kernel_initializer='he_uniform'))\n",
    "# POOLING LAYER\n",
    "model.add(MaxPooling2D(pool_size=(2, 2)))\n",
    "model.add(Dropout(0.3))\n",
    "\n",
    "## THIRD SET OF LAYERS\n",
    "\n",
    "# CONVOLUTIONAL LAYER\n",
    "model.add(Conv2D(filters=128, kernel_size=(3,3),input_shape=(32, 32, 3),\n",
    "                 activation='relu', padding = 'same', kernel_initializer='he_uniform'))\n",
    "model.add(Conv2D(filters=128, kernel_size=(3,3),input_shape=(32, 32, 3),\n",
    "                 activation='relu', padding = 'same', kernel_initializer='he_uniform'))\n",
    "# POOLING LAYER\n",
    "model.add(MaxPooling2D(pool_size=(2, 2)))\n",
    "model.add(Dropout(0.3))\n",
    "\n",
    "# BATCH NORMALIZATION\n",
    "model.add(BatchNormalization())\n",
    "\n",
    "\n",
    "# FLATTENING IMAGES\n",
    "model.add(Flatten())\n",
    "\n",
    "# HIDDEN LAYER\n",
    "model.add(Dense(256, activation='relu', kernel_initializer='he_uniform'))\n",
    "model.add(Dropout(0.4))\n",
    "\n",
    "# OUTPUT LAYER\n",
    "model.add(Dense(10, activation='softmax'))\n",
    "\n",
    "\n",
    "model.compile(loss='categorical_crossentropy',\n",
    "              optimizer='adam',\n",
    "              metrics=['accuracy'])"
   ]
  },
  {
   "cell_type": "code",
   "execution_count": 9,
   "metadata": {},
   "outputs": [
    {
     "name": "stdout",
     "output_type": "stream",
     "text": [
      "Model: \"sequential\"\n",
      "_________________________________________________________________\n",
      "Layer (type)                 Output Shape              Param #   \n",
      "=================================================================\n",
      "conv2d (Conv2D)              (None, 32, 32, 32)        896       \n",
      "_________________________________________________________________\n",
      "conv2d_1 (Conv2D)            (None, 32, 32, 32)        9248      \n",
      "_________________________________________________________________\n",
      "max_pooling2d (MaxPooling2D) (None, 16, 16, 32)        0         \n",
      "_________________________________________________________________\n",
      "dropout (Dropout)            (None, 16, 16, 32)        0         \n",
      "_________________________________________________________________\n",
      "conv2d_2 (Conv2D)            (None, 16, 16, 64)        18496     \n",
      "_________________________________________________________________\n",
      "conv2d_3 (Conv2D)            (None, 16, 16, 64)        36928     \n",
      "_________________________________________________________________\n",
      "max_pooling2d_1 (MaxPooling2 (None, 8, 8, 64)          0         \n",
      "_________________________________________________________________\n",
      "dropout_1 (Dropout)          (None, 8, 8, 64)          0         \n",
      "_________________________________________________________________\n",
      "conv2d_4 (Conv2D)            (None, 8, 8, 128)         73856     \n",
      "_________________________________________________________________\n",
      "conv2d_5 (Conv2D)            (None, 8, 8, 128)         147584    \n",
      "_________________________________________________________________\n",
      "max_pooling2d_2 (MaxPooling2 (None, 4, 4, 128)         0         \n",
      "_________________________________________________________________\n",
      "dropout_2 (Dropout)          (None, 4, 4, 128)         0         \n",
      "_________________________________________________________________\n",
      "batch_normalization (BatchNo (None, 4, 4, 128)         512       \n",
      "_________________________________________________________________\n",
      "flatten (Flatten)            (None, 2048)              0         \n",
      "_________________________________________________________________\n",
      "dense (Dense)                (None, 256)               524544    \n",
      "_________________________________________________________________\n",
      "dropout_3 (Dropout)          (None, 256)               0         \n",
      "_________________________________________________________________\n",
      "dense_1 (Dense)              (None, 10)                2570      \n",
      "=================================================================\n",
      "Total params: 814,634\n",
      "Trainable params: 814,378\n",
      "Non-trainable params: 256\n",
      "_________________________________________________________________\n"
     ]
    }
   ],
   "source": [
    "model.summary()"
   ]
  },
  {
   "cell_type": "code",
   "execution_count": 10,
   "metadata": {},
   "outputs": [],
   "source": [
    "early_stop = EarlyStopping(monitor='val_loss',patience=20)"
   ]
  },
  {
   "cell_type": "code",
   "execution_count": 11,
   "metadata": {},
   "outputs": [
    {
     "name": "stdout",
     "output_type": "stream",
     "text": [
      "Epoch 1/200\n",
      "1563/1563 [==============================] - 233s 149ms/step - loss: 2.0523 - accuracy: 0.2485 - val_loss: 1.3376 - val_accuracy: 0.5104\n",
      "Epoch 2/200\n",
      "1563/1563 [==============================] - 231s 148ms/step - loss: 1.4060 - accuracy: 0.4870 - val_loss: 1.1765 - val_accuracy: 0.5768\n",
      "Epoch 3/200\n",
      "1563/1563 [==============================] - 231s 148ms/step - loss: 1.1424 - accuracy: 0.5964 - val_loss: 0.8782 - val_accuracy: 0.6969\n",
      "Epoch 4/200\n",
      "1563/1563 [==============================] - 230s 147ms/step - loss: 0.9919 - accuracy: 0.6515 - val_loss: 0.9062 - val_accuracy: 0.6769\n",
      "Epoch 5/200\n",
      "1563/1563 [==============================] - 229s 147ms/step - loss: 0.8997 - accuracy: 0.6833 - val_loss: 0.7497 - val_accuracy: 0.7402\n",
      "Epoch 6/200\n",
      "1563/1563 [==============================] - 228s 146ms/step - loss: 0.8214 - accuracy: 0.7145 - val_loss: 0.7586 - val_accuracy: 0.7407\n",
      "Epoch 7/200\n",
      "1563/1563 [==============================] - 229s 146ms/step - loss: 0.7707 - accuracy: 0.7326 - val_loss: 0.6797 - val_accuracy: 0.7726\n",
      "Epoch 8/200\n",
      "1563/1563 [==============================] - 228s 146ms/step - loss: 0.7166 - accuracy: 0.7524 - val_loss: 0.6791 - val_accuracy: 0.7690\n",
      "Epoch 9/200\n",
      "1563/1563 [==============================] - 229s 146ms/step - loss: 0.6840 - accuracy: 0.7661 - val_loss: 0.7264 - val_accuracy: 0.7627\n",
      "Epoch 10/200\n",
      "1563/1563 [==============================] - 229s 147ms/step - loss: 0.6415 - accuracy: 0.7758 - val_loss: 0.6056 - val_accuracy: 0.7994\n",
      "Epoch 11/200\n",
      "1563/1563 [==============================] - 216s 138ms/step - loss: 0.6204 - accuracy: 0.7862 - val_loss: 0.5881 - val_accuracy: 0.8012\n",
      "Epoch 12/200\n",
      "1563/1563 [==============================] - 209s 134ms/step - loss: 0.5869 - accuracy: 0.7978 - val_loss: 0.5600 - val_accuracy: 0.8117\n",
      "Epoch 13/200\n",
      "1563/1563 [==============================] - 209s 134ms/step - loss: 0.5582 - accuracy: 0.8080 - val_loss: 0.5436 - val_accuracy: 0.8192\n",
      "Epoch 14/200\n",
      "1563/1563 [==============================] - 209s 134ms/step - loss: 0.5556 - accuracy: 0.8064 - val_loss: 0.5630 - val_accuracy: 0.8086\n",
      "Epoch 15/200\n",
      "1563/1563 [==============================] - 209s 134ms/step - loss: 0.5309 - accuracy: 0.8128 - val_loss: 0.5621 - val_accuracy: 0.8156\n",
      "Epoch 16/200\n",
      "1563/1563 [==============================] - 209s 134ms/step - loss: 0.5154 - accuracy: 0.8214 - val_loss: 0.5917 - val_accuracy: 0.7999\n",
      "Epoch 17/200\n",
      "1563/1563 [==============================] - 209s 134ms/step - loss: 0.4928 - accuracy: 0.8278 - val_loss: 0.5858 - val_accuracy: 0.8170\n",
      "Epoch 18/200\n",
      "1563/1563 [==============================] - 209s 134ms/step - loss: 0.4788 - accuracy: 0.8326 - val_loss: 0.5853 - val_accuracy: 0.8033\n",
      "Epoch 19/200\n",
      "1563/1563 [==============================] - 209s 134ms/step - loss: 0.4665 - accuracy: 0.8372 - val_loss: 0.5676 - val_accuracy: 0.8151\n",
      "Epoch 20/200\n",
      "1563/1563 [==============================] - 209s 134ms/step - loss: 0.4555 - accuracy: 0.8425 - val_loss: 0.5696 - val_accuracy: 0.8168\n",
      "Epoch 21/200\n",
      "1563/1563 [==============================] - 209s 134ms/step - loss: 0.4339 - accuracy: 0.8472 - val_loss: 0.5308 - val_accuracy: 0.8239\n",
      "Epoch 22/200\n",
      "1563/1563 [==============================] - 209s 134ms/step - loss: 0.4256 - accuracy: 0.8506 - val_loss: 0.5287 - val_accuracy: 0.8309\n",
      "Epoch 23/200\n",
      "1563/1563 [==============================] - 210s 135ms/step - loss: 0.4186 - accuracy: 0.8518 - val_loss: 0.5396 - val_accuracy: 0.8245\n",
      "Epoch 24/200\n",
      "1563/1563 [==============================] - 209s 133ms/step - loss: 0.4267 - accuracy: 0.8502 - val_loss: 0.5303 - val_accuracy: 0.8291\n",
      "Epoch 25/200\n",
      "1563/1563 [==============================] - 209s 134ms/step - loss: 0.4135 - accuracy: 0.8571 - val_loss: 0.5537 - val_accuracy: 0.8229\n",
      "Epoch 26/200\n",
      "1563/1563 [==============================] - 209s 134ms/step - loss: 0.4037 - accuracy: 0.8592 - val_loss: 0.5032 - val_accuracy: 0.8401\n",
      "Epoch 27/200\n",
      "1563/1563 [==============================] - 209s 134ms/step - loss: 0.3809 - accuracy: 0.8665 - val_loss: 0.5011 - val_accuracy: 0.8381\n",
      "Epoch 28/200\n",
      "1563/1563 [==============================] - 209s 134ms/step - loss: 0.3735 - accuracy: 0.8694 - val_loss: 0.5329 - val_accuracy: 0.8322\n",
      "Epoch 29/200\n",
      "1563/1563 [==============================] - 209s 134ms/step - loss: 0.3743 - accuracy: 0.8708 - val_loss: 0.5084 - val_accuracy: 0.8425\n",
      "Epoch 30/200\n",
      "1563/1563 [==============================] - 209s 134ms/step - loss: 0.3656 - accuracy: 0.8716 - val_loss: 0.4891 - val_accuracy: 0.8454\n",
      "Epoch 31/200\n",
      "1563/1563 [==============================] - 209s 134ms/step - loss: 0.3452 - accuracy: 0.8776 - val_loss: 0.5961 - val_accuracy: 0.8197\n",
      "Epoch 32/200\n",
      "1563/1563 [==============================] - 209s 134ms/step - loss: 0.3502 - accuracy: 0.8785 - val_loss: 0.5035 - val_accuracy: 0.8452\n",
      "Epoch 33/200\n",
      "1563/1563 [==============================] - 209s 134ms/step - loss: 0.3437 - accuracy: 0.8789 - val_loss: 0.5001 - val_accuracy: 0.8383\n",
      "Epoch 34/200\n",
      "1563/1563 [==============================] - 209s 134ms/step - loss: 0.3423 - accuracy: 0.8761 - val_loss: 0.5282 - val_accuracy: 0.8384\n",
      "Epoch 35/200\n",
      "1563/1563 [==============================] - 209s 134ms/step - loss: 0.3337 - accuracy: 0.8819 - val_loss: 0.4718 - val_accuracy: 0.8524\n",
      "Epoch 36/200\n",
      "1563/1563 [==============================] - 209s 134ms/step - loss: 0.3253 - accuracy: 0.8839 - val_loss: 0.5302 - val_accuracy: 0.8441\n",
      "Epoch 37/200\n",
      "1563/1563 [==============================] - 209s 134ms/step - loss: 0.3258 - accuracy: 0.8861 - val_loss: 0.4797 - val_accuracy: 0.8468\n",
      "Epoch 38/200\n",
      "1563/1563 [==============================] - 209s 134ms/step - loss: 0.3183 - accuracy: 0.8886 - val_loss: 0.4948 - val_accuracy: 0.8452\n",
      "Epoch 39/200\n",
      "1563/1563 [==============================] - 209s 134ms/step - loss: 0.3208 - accuracy: 0.8880 - val_loss: 0.4919 - val_accuracy: 0.8515\n",
      "Epoch 40/200\n",
      "1563/1563 [==============================] - 209s 134ms/step - loss: 0.3036 - accuracy: 0.8929 - val_loss: 0.4867 - val_accuracy: 0.8502\n",
      "Epoch 41/200\n",
      "1563/1563 [==============================] - 209s 134ms/step - loss: 0.3108 - accuracy: 0.8920 - val_loss: 0.4966 - val_accuracy: 0.8458\n",
      "Epoch 42/200\n",
      "1563/1563 [==============================] - 209s 133ms/step - loss: 0.2999 - accuracy: 0.8953 - val_loss: 0.4739 - val_accuracy: 0.8563\n",
      "Epoch 43/200\n",
      "1563/1563 [==============================] - 209s 133ms/step - loss: 0.3074 - accuracy: 0.8933 - val_loss: 0.4941 - val_accuracy: 0.8484\n",
      "Epoch 44/200\n",
      "1563/1563 [==============================] - 209s 134ms/step - loss: 0.2960 - accuracy: 0.8962 - val_loss: 0.5034 - val_accuracy: 0.8404\n",
      "Epoch 45/200\n",
      "1563/1563 [==============================] - 208s 133ms/step - loss: 0.2889 - accuracy: 0.8968 - val_loss: 0.4713 - val_accuracy: 0.8518\n",
      "Epoch 46/200\n",
      "1563/1563 [==============================] - 209s 134ms/step - loss: 0.2865 - accuracy: 0.9004 - val_loss: 0.4799 - val_accuracy: 0.8545\n",
      "Epoch 47/200\n",
      "1563/1563 [==============================] - 208s 133ms/step - loss: 0.2817 - accuracy: 0.9016 - val_loss: 0.4682 - val_accuracy: 0.8549\n",
      "Epoch 48/200\n",
      "1563/1563 [==============================] - 202s 130ms/step - loss: 0.2882 - accuracy: 0.8987 - val_loss: 0.4689 - val_accuracy: 0.8523\n",
      "Epoch 49/200\n",
      "1563/1563 [==============================] - 203s 130ms/step - loss: 0.2771 - accuracy: 0.9034 - val_loss: 0.4964 - val_accuracy: 0.8564\n",
      "Epoch 50/200\n",
      "1563/1563 [==============================] - 201s 128ms/step - loss: 0.2793 - accuracy: 0.9004 - val_loss: 0.5044 - val_accuracy: 0.8498\n",
      "Epoch 51/200\n",
      "1563/1563 [==============================] - 199s 127ms/step - loss: 0.2745 - accuracy: 0.9031 - val_loss: 0.5007 - val_accuracy: 0.8518\n",
      "Epoch 52/200\n",
      "1563/1563 [==============================] - 195s 125ms/step - loss: 0.2638 - accuracy: 0.9067 - val_loss: 0.5077 - val_accuracy: 0.8464\n",
      "Epoch 53/200\n",
      "1563/1563 [==============================] - 193s 123ms/step - loss: 0.2697 - accuracy: 0.9065 - val_loss: 0.4884 - val_accuracy: 0.8533\n",
      "Epoch 54/200\n",
      "1563/1563 [==============================] - 187s 119ms/step - loss: 0.2641 - accuracy: 0.9060 - val_loss: 0.5464 - val_accuracy: 0.8487\n",
      "Epoch 55/200\n",
      "1563/1563 [==============================] - 186s 119ms/step - loss: 0.2614 - accuracy: 0.9103 - val_loss: 0.4853 - val_accuracy: 0.8508\n"
     ]
    },
    {
     "name": "stdout",
     "output_type": "stream",
     "text": [
      "Epoch 56/200\n",
      "1563/1563 [==============================] - 186s 119ms/step - loss: 0.2601 - accuracy: 0.9093 - val_loss: 0.5038 - val_accuracy: 0.8499\n",
      "Epoch 57/200\n",
      "1563/1563 [==============================] - 187s 119ms/step - loss: 0.2567 - accuracy: 0.9100 - val_loss: 0.4933 - val_accuracy: 0.8526\n",
      "Epoch 58/200\n",
      "1563/1563 [==============================] - 186s 119ms/step - loss: 0.2462 - accuracy: 0.9133 - val_loss: 0.4874 - val_accuracy: 0.8560\n",
      "Epoch 59/200\n",
      "1563/1563 [==============================] - 186s 119ms/step - loss: 0.2585 - accuracy: 0.9106 - val_loss: 0.5085 - val_accuracy: 0.8524\n",
      "Epoch 60/200\n",
      "1563/1563 [==============================] - 186s 119ms/step - loss: 0.2477 - accuracy: 0.9152 - val_loss: 0.4784 - val_accuracy: 0.8581\n",
      "Epoch 61/200\n",
      "1563/1563 [==============================] - 186s 119ms/step - loss: 0.2460 - accuracy: 0.9149 - val_loss: 0.5139 - val_accuracy: 0.8545\n",
      "Epoch 62/200\n",
      "1563/1563 [==============================] - 186s 119ms/step - loss: 0.2475 - accuracy: 0.9139 - val_loss: 0.5406 - val_accuracy: 0.8469\n",
      "Epoch 63/200\n",
      "1563/1563 [==============================] - 186s 119ms/step - loss: 0.2405 - accuracy: 0.9159 - val_loss: 0.5053 - val_accuracy: 0.8530\n",
      "Epoch 64/200\n",
      "1563/1563 [==============================] - 186s 119ms/step - loss: 0.2387 - accuracy: 0.9159 - val_loss: 0.5013 - val_accuracy: 0.8559\n",
      "Epoch 65/200\n",
      "1563/1563 [==============================] - 186s 119ms/step - loss: 0.2414 - accuracy: 0.9160 - val_loss: 0.4716 - val_accuracy: 0.8565\n",
      "Epoch 66/200\n",
      "1563/1563 [==============================] - 186s 119ms/step - loss: 0.2286 - accuracy: 0.9206 - val_loss: 0.4965 - val_accuracy: 0.8478\n",
      "Epoch 67/200\n",
      "1563/1563 [==============================] - 186s 119ms/step - loss: 0.2353 - accuracy: 0.9180 - val_loss: 0.5374 - val_accuracy: 0.8509\n"
     ]
    },
    {
     "data": {
      "text/plain": [
       "<tensorflow.python.keras.callbacks.History at 0x1582babc370>"
      ]
     },
     "execution_count": 11,
     "metadata": {},
     "output_type": "execute_result"
    }
   ],
   "source": [
    "model.fit(X_train, y_cat_train, epochs=200, validation_data=(X_test, to_categorical(y_test,10)), callbacks=[early_stop])"
   ]
  },
  {
   "cell_type": "code",
   "execution_count": 12,
   "metadata": {},
   "outputs": [
    {
     "data": {
      "text/plain": [
       "<AxesSubplot:>"
      ]
     },
     "execution_count": 12,
     "metadata": {},
     "output_type": "execute_result"
    },
    {
     "data": {
      "image/png": "[encoded data removed]",
      "text/plain": [
       "<Figure size 432x288 with 1 Axes>"
      ]
     },
     "metadata": {
      "needs_background": "light"
     },
     "output_type": "display_data"
    }
   ],
   "source": [
    "losses = pd.DataFrame(model.history.history)\n",
    "losses.plot()"
   ]
  },
  {
   "cell_type": "code",
   "execution_count": 13,
   "metadata": {},
   "outputs": [
    {
     "name": "stderr",
     "output_type": "stream",
     "text": [
      "C:\\Users\\Mateusz\\AppData\\Roaming\\Python\\Python38\\site-packages\\tensorflow\\python\\keras\\engine\\sequential.py:450: UserWarning: `model.predict_classes()` is deprecated and will be removed after 2021-01-01. Please use instead:* `np.argmax(model.predict(x), axis=-1)`,   if your model does multi-class classification   (e.g. if it uses a `softmax` last-layer activation).* `(model.predict(x) > 0.5).astype(\"int32\")`,   if your model does binary classification   (e.g. if it uses a `sigmoid` last-layer activation).\n",
      "  warnings.warn('`model.predict_classes()` is deprecated and '\n"
     ]
    }
   ],
   "source": [
    "predictions = model.predict_classes(X_test)"
   ]
  },
  {
   "cell_type": "code",
   "execution_count": 14,
   "metadata": {},
   "outputs": [
    {
     "name": "stdout",
     "output_type": "stream",
     "text": [
      "              precision    recall  f1-score   support\n",
      "\n",
      "           0       0.86      0.87      0.87      1000\n",
      "           1       0.94      0.92      0.93      1000\n",
      "           2       0.88      0.70      0.78      1000\n",
      "           3       0.83      0.60      0.70      1000\n",
      "           4       0.78      0.88      0.83      1000\n",
      "           5       0.74      0.84      0.79      1000\n",
      "           6       0.86      0.91      0.89      1000\n",
      "           7       0.88      0.91      0.89      1000\n",
      "           8       0.87      0.94      0.90      1000\n",
      "           9       0.89      0.93      0.91      1000\n",
      "\n",
      "    accuracy                           0.85     10000\n",
      "   macro avg       0.85      0.85      0.85     10000\n",
      "weighted avg       0.85      0.85      0.85     10000\n",
      "\n"
     ]
    },
    {
     "data": {
      "text/plain": [
       "array([[872,   7,  13,   6,  14,   1,   4,   8,  53,  22],\n",
       "       [  4, 921,   0,   0,   0,   2,   1,   2,  18,  52],\n",
       "       [ 63,   1, 705,  20,  79,  51,  46,  22,  11,   2],\n",
       "       [ 14,   5,  31, 604,  58, 181,  49,  26,  19,  13],\n",
       "       [  7,   1,  16,  20, 884,  22,  20,  26,   3,   1],\n",
       "       [  5,   2,  12,  49,  43, 837,  12,  29,   4,   7],\n",
       "       [  5,   2,  10,  15,  28,  14, 908,   6,  10,   2],\n",
       "       [  7,   1,   9,  10,  29,  21,   4, 909,   3,   7],\n",
       "       [ 29,   7,   1,   2,   2,   2,   5,   2, 938,  12],\n",
       "       [  7,  34,   1,   4,   2,   1,   2,   2,  16, 931]], dtype=int64)"
      ]
     },
     "execution_count": 14,
     "metadata": {},
     "output_type": "execute_result"
    }
   ],
   "source": [
    "print(classification_report(y_test,predictions))\n",
    "confusion_matrix(y_test,predictions)"
   ]
  },
  {
   "cell_type": "code",
   "execution_count": 15,
   "metadata": {},
   "outputs": [
    {
     "data": {
      "text/plain": [
       "<AxesSubplot:>"
      ]
     },
     "execution_count": 15,
     "metadata": {},
     "output_type": "execute_result"
    },
    {
     "data": {
      "image/png": "[encoded data removed]",
      "text/plain": [
       "<Figure size 432x288 with 2 Axes>"
      ]
     },
     "metadata": {
      "needs_background": "light"
     },
     "output_type": "display_data"
    }
   ],
   "source": [
    "sns.heatmap(confusion_matrix(y_test,predictions), annot = True)"
   ]
  },
  {
   "cell_type": "code",
   "execution_count": 16,
   "metadata": {},
   "outputs": [],
   "source": [
    "test_images = []\n",
    "for i in range(1,300_001):\n",
    "    test_images.append(imread('test/'+str(i)+'.png'))\n",
    "X_test = np.array(test_images)\n",
    "predictions = model.predict_classes(X_test)"
   ]
  },
  {
   "cell_type": "code",
   "execution_count": 17,
   "metadata": {},
   "outputs": [],
   "source": [
    "prediction_labels = [reversed_mapping[x] for x in predictions]\n",
    "predictions_df = pd.DataFrame({'id':range(1,len(prediction_labels)+1), 'label':prediction_labels})\n",
    "predictions_df.to_csv(\"kaggle_final_new_5.csv\", index = None)"
   ]
  },
  {
   "cell_type": "code",
   "execution_count": 18,
   "metadata": {},
   "outputs": [],
   "source": [
    "predictions2_df = pd.DataFrame(model.predict(X_test))\n",
    "predictions2_df.to_csv(\"kaggle_final_new_5_classes.csv\", index = None)"
   ]
  }
 ],
 "metadata": {
  "kernelspec": {
   "display_name": "Python 3",
   "language": "python",
   "name": "python3"
  },
  "language_info": {
   "codemirror_mode": {
    "name": "ipython",
    "version": 3
   },
   "file_extension": ".py",
   "mimetype": "text/x-python",
   "name": "python",
   "nbconvert_exporter": "python",
   "pygments_lexer": "ipython3",
   "version": "3.8.5"
  }
 },
 "nbformat": 4,
 "nbformat_minor": 4
}
