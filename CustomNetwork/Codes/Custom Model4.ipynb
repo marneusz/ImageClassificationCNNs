{
 "cells": [
  {
   "cell_type": "code",
   "execution_count": 1,
   "metadata": {},
   "outputs": [],
   "source": [
    "import pandas as pd\n",
    "import numpy as np\n",
    "from matplotlib.image import imread\n",
    "import matplotlib.pyplot as plt\n",
    "import seaborn as sns\n",
    "\n",
    "from tensorflow.keras.utils import to_categorical\n",
    "from tensorflow.keras.models import Sequential\n",
    "from tensorflow.keras.layers import Dense, Conv2D, MaxPooling2D, Flatten, AveragePooling2D, BatchNormalization, Activation, Dropout\n",
    "from sklearn.metrics import classification_report,confusion_matrix\n",
    "from tensorflow.keras.datasets import cifar10\n",
    "from tensorflow.keras.callbacks import EarlyStopping\n",
    "from tensorflow.keras.regularizers import l2"
   ]
  },
  {
   "cell_type": "code",
   "execution_count": 2,
   "metadata": {},
   "outputs": [],
   "source": [
    "seed_value= 10\n",
    "\n",
    "import os\n",
    "os.environ['PYTHONHASHSEED']=str(seed_value)\n",
    "\n",
    "import random\n",
    "random.seed(seed_value)\n",
    "\n",
    "import numpy as np\n",
    "np.random.seed(seed_value)\n",
    "\n",
    "import tensorflow as tf\n",
    "tf.random.set_seed(seed_value)\n",
    "\n",
    "session_conf = tf.compat.v1.ConfigProto(intra_op_parallelism_threads=1, inter_op_parallelism_threads=1)\n",
    "sess = tf.compat.v1.Session(graph=tf.compat.v1.get_default_graph(), config=session_conf)\n",
    "tf.compat.v1.keras.backend.set_session(sess)"
   ]
  },
  {
   "cell_type": "code",
   "execution_count": 3,
   "metadata": {},
   "outputs": [],
   "source": [
    "labels = pd.read_csv('trainLabels.csv')"
   ]
  },
  {
   "cell_type": "code",
   "execution_count": 4,
   "metadata": {},
   "outputs": [],
   "source": [
    "train_images = []\n",
    "for i in labels.id:\n",
    "    train_images.append(imread('train/'+str(i)+'.png'))\n",
    "\n",
    "X_train = np.array(train_images)"
   ]
  },
  {
   "cell_type": "code",
   "execution_count": 5,
   "metadata": {},
   "outputs": [],
   "source": [
    "animals = sorted(labels.label.unique())\n",
    "mapping = {}\n",
    "for i in range(len(animals)):\n",
    "    mapping[animals[i]] = i\n",
    "\n",
    "reversed_mapping = {v:k for k,v in mapping.items()}"
   ]
  },
  {
   "cell_type": "code",
   "execution_count": 6,
   "metadata": {},
   "outputs": [],
   "source": [
    "y_train = labels.label.apply(lambda x: mapping[x])\n",
    "y_cat_train = to_categorical(y_train,10)"
   ]
  },
  {
   "cell_type": "code",
   "execution_count": 7,
   "metadata": {},
   "outputs": [],
   "source": [
    "(_, _), (X_test, y_test) = cifar10.load_data()\n",
    "X_test = X_test/255"
   ]
  },
  {
   "cell_type": "code",
   "execution_count": 8,
   "metadata": {},
   "outputs": [],
   "source": [
    "model = Sequential()\n",
    "\n",
    "## FIRST SET OF LAYERS\n",
    "\n",
    "# CONVOLUTIONAL LAYER\n",
    "model.add(Conv2D(filters=32, kernel_size=(3,3),input_shape=(32, 32, 3), \n",
    "                 activation='relu', padding = 'same', kernel_initializer='he_uniform'))\n",
    "model.add(Conv2D(filters=32, kernel_size=(3,3),input_shape=(32, 32, 3), \n",
    "                 activation='relu', padding = 'same', kernel_initializer='he_uniform'))\n",
    "# POOLING LAYER\n",
    "model.add(MaxPooling2D(pool_size=(2, 2)))\n",
    "model.add(Dropout(0.3))\n",
    "\n",
    "## SECOND SET OF LAYERS\n",
    "\n",
    "# CONVOLUTIONAL LAYER\n",
    "model.add(Conv2D(filters=64, kernel_size=(3,3),input_shape=(32, 32, 3), \n",
    "                 activation='relu', padding = 'same', kernel_initializer='he_uniform'))\n",
    "model.add(Conv2D(filters=64, kernel_size=(3,3),input_shape=(32, 32, 3), \n",
    "                 activation='relu', padding = 'same', kernel_initializer='he_uniform'))\n",
    "# POOLING LAYER\n",
    "model.add(MaxPooling2D(pool_size=(2, 2)))\n",
    "model.add(Dropout(0.3))\n",
    "\n",
    "## THIRD SET OF LAYERS\n",
    "\n",
    "# CONVOLUTIONAL LAYER\n",
    "model.add(Conv2D(filters=128, kernel_size=(3,3),input_shape=(32, 32, 3),\n",
    "                 activation='relu', padding = 'same', kernel_initializer='he_uniform'))\n",
    "model.add(Conv2D(filters=128, kernel_size=(3,3),input_shape=(32, 32, 3),\n",
    "                 activation='relu', padding = 'same', kernel_initializer='he_uniform'))\n",
    "# POOLING LAYER\n",
    "model.add(MaxPooling2D(pool_size=(2, 2)))\n",
    "model.add(Dropout(0.3))\n",
    "\n",
    "# BATCH NORMALIZATION\n",
    "model.add(BatchNormalization())\n",
    "\n",
    "\n",
    "# FLATTENING IMAGES\n",
    "model.add(Flatten())\n",
    "\n",
    "# HIDDEN LAYER\n",
    "model.add(Dense(256, activation='relu', kernel_initializer='he_uniform'))\n",
    "model.add(Dropout(0.3))\n",
    "\n",
    "# OUTPUT LAYER\n",
    "model.add(Dense(10, activation='softmax'))\n",
    "\n",
    "\n",
    "model.compile(loss='categorical_crossentropy',\n",
    "              optimizer='adam',\n",
    "              metrics=['accuracy'])"
   ]
  },
  {
   "cell_type": "code",
   "execution_count": 9,
   "metadata": {},
   "outputs": [
    {
     "name": "stdout",
     "output_type": "stream",
     "text": [
      "Model: \"sequential\"\n",
      "_________________________________________________________________\n",
      "Layer (type)                 Output Shape              Param #   \n",
      "=================================================================\n",
      "conv2d (Conv2D)              (None, 32, 32, 32)        896       \n",
      "_________________________________________________________________\n",
      "conv2d_1 (Conv2D)            (None, 32, 32, 32)        9248      \n",
      "_________________________________________________________________\n",
      "max_pooling2d (MaxPooling2D) (None, 16, 16, 32)        0         \n",
      "_________________________________________________________________\n",
      "dropout (Dropout)            (None, 16, 16, 32)        0         \n",
      "_________________________________________________________________\n",
      "conv2d_2 (Conv2D)            (None, 16, 16, 64)        18496     \n",
      "_________________________________________________________________\n",
      "conv2d_3 (Conv2D)            (None, 16, 16, 64)        36928     \n",
      "_________________________________________________________________\n",
      "max_pooling2d_1 (MaxPooling2 (None, 8, 8, 64)          0         \n",
      "_________________________________________________________________\n",
      "dropout_1 (Dropout)          (None, 8, 8, 64)          0         \n",
      "_________________________________________________________________\n",
      "conv2d_4 (Conv2D)            (None, 8, 8, 128)         73856     \n",
      "_________________________________________________________________\n",
      "conv2d_5 (Conv2D)            (None, 8, 8, 128)         147584    \n",
      "_________________________________________________________________\n",
      "max_pooling2d_2 (MaxPooling2 (None, 4, 4, 128)         0         \n",
      "_________________________________________________________________\n",
      "dropout_2 (Dropout)          (None, 4, 4, 128)         0         \n",
      "_________________________________________________________________\n",
      "batch_normalization (BatchNo (None, 4, 4, 128)         512       \n",
      "_________________________________________________________________\n",
      "flatten (Flatten)            (None, 2048)              0         \n",
      "_________________________________________________________________\n",
      "dense (Dense)                (None, 256)               524544    \n",
      "_________________________________________________________________\n",
      "dropout_3 (Dropout)          (None, 256)               0         \n",
      "_________________________________________________________________\n",
      "dense_1 (Dense)              (None, 10)                2570      \n",
      "=================================================================\n",
      "Total params: 814,634\n",
      "Trainable params: 814,378\n",
      "Non-trainable params: 256\n",
      "_________________________________________________________________\n"
     ]
    }
   ],
   "source": [
    "model.summary()"
   ]
  },
  {
   "cell_type": "code",
   "execution_count": 10,
   "metadata": {},
   "outputs": [],
   "source": [
    "early_stop = EarlyStopping(monitor='val_loss',patience=10)"
   ]
  },
  {
   "cell_type": "code",
   "execution_count": 11,
   "metadata": {},
   "outputs": [
    {
     "name": "stdout",
     "output_type": "stream",
     "text": [
      "Epoch 1/100\n",
      "1563/1563 [==============================] - 195s 124ms/step - loss: 2.0286 - accuracy: 0.2566 - val_loss: 1.3799 - val_accuracy: 0.4838\n",
      "Epoch 2/100\n",
      "1563/1563 [==============================] - 190s 122ms/step - loss: 1.3523 - accuracy: 0.5081 - val_loss: 1.1258 - val_accuracy: 0.6044\n",
      "Epoch 3/100\n",
      "1563/1563 [==============================] - 190s 121ms/step - loss: 1.0946 - accuracy: 0.6133 - val_loss: 0.8871 - val_accuracy: 0.6886\n",
      "Epoch 4/100\n",
      "1563/1563 [==============================] - 190s 122ms/step - loss: 0.9528 - accuracy: 0.6624 - val_loss: 0.8147 - val_accuracy: 0.7202\n",
      "Epoch 5/100\n",
      "1563/1563 [==============================] - 191s 122ms/step - loss: 0.8652 - accuracy: 0.6982 - val_loss: 0.7880 - val_accuracy: 0.7335\n",
      "Epoch 6/100\n",
      "1563/1563 [==============================] - 191s 122ms/step - loss: 0.7866 - accuracy: 0.7264 - val_loss: 0.6739 - val_accuracy: 0.7657\n",
      "Epoch 7/100\n",
      "1563/1563 [==============================] - 190s 122ms/step - loss: 0.7356 - accuracy: 0.7419 - val_loss: 0.6952 - val_accuracy: 0.7658\n",
      "Epoch 8/100\n",
      "1563/1563 [==============================] - 190s 122ms/step - loss: 0.6957 - accuracy: 0.7579 - val_loss: 0.6165 - val_accuracy: 0.7900\n",
      "Epoch 9/100\n",
      "1563/1563 [==============================] - 190s 122ms/step - loss: 0.6442 - accuracy: 0.7741 - val_loss: 0.6979 - val_accuracy: 0.7664\n",
      "Epoch 10/100\n",
      "1563/1563 [==============================] - 190s 122ms/step - loss: 0.6209 - accuracy: 0.7855 - val_loss: 0.6148 - val_accuracy: 0.7934\n",
      "Epoch 11/100\n",
      "1563/1563 [==============================] - 190s 122ms/step - loss: 0.5957 - accuracy: 0.7923 - val_loss: 0.5713 - val_accuracy: 0.8060\n",
      "Epoch 12/100\n",
      "1563/1563 [==============================] - 188s 120ms/step - loss: 0.5658 - accuracy: 0.8030 - val_loss: 0.5731 - val_accuracy: 0.8053\n",
      "Epoch 13/100\n",
      "1563/1563 [==============================] - 185s 118ms/step - loss: 0.5364 - accuracy: 0.8139 - val_loss: 0.5648 - val_accuracy: 0.8120\n",
      "Epoch 14/100\n",
      "1563/1563 [==============================] - 185s 119ms/step - loss: 0.5195 - accuracy: 0.8197 - val_loss: 0.6032 - val_accuracy: 0.8043\n",
      "Epoch 15/100\n",
      "1563/1563 [==============================] - 188s 120ms/step - loss: 0.5019 - accuracy: 0.8222 - val_loss: 0.5558 - val_accuracy: 0.8121\n",
      "Epoch 16/100\n",
      "1563/1563 [==============================] - 185s 119ms/step - loss: 0.4911 - accuracy: 0.8281 - val_loss: 0.5854 - val_accuracy: 0.8109\n",
      "Epoch 17/100\n",
      "1563/1563 [==============================] - 186s 119ms/step - loss: 0.4707 - accuracy: 0.8370 - val_loss: 0.5627 - val_accuracy: 0.8150\n",
      "Epoch 18/100\n",
      "1563/1563 [==============================] - 185s 119ms/step - loss: 0.4519 - accuracy: 0.8422 - val_loss: 0.5881 - val_accuracy: 0.8022\n",
      "Epoch 19/100\n",
      "1563/1563 [==============================] - 185s 119ms/step - loss: 0.4392 - accuracy: 0.8467 - val_loss: 0.5646 - val_accuracy: 0.8225\n",
      "Epoch 20/100\n",
      "1563/1563 [==============================] - 185s 119ms/step - loss: 0.4407 - accuracy: 0.8469 - val_loss: 0.5472 - val_accuracy: 0.8188\n",
      "Epoch 21/100\n",
      "1563/1563 [==============================] - 186s 119ms/step - loss: 0.4125 - accuracy: 0.8559 - val_loss: 0.5502 - val_accuracy: 0.8235\n",
      "Epoch 22/100\n",
      "1563/1563 [==============================] - 185s 119ms/step - loss: 0.4026 - accuracy: 0.8592 - val_loss: 0.5441 - val_accuracy: 0.8289\n",
      "Epoch 23/100\n",
      "1563/1563 [==============================] - 186s 119ms/step - loss: 0.3910 - accuracy: 0.8631 - val_loss: 0.5260 - val_accuracy: 0.8259\n",
      "Epoch 24/100\n",
      "1563/1563 [==============================] - 185s 119ms/step - loss: 0.3896 - accuracy: 0.8648 - val_loss: 0.5578 - val_accuracy: 0.8249\n",
      "Epoch 25/100\n",
      "1563/1563 [==============================] - 186s 119ms/step - loss: 0.3725 - accuracy: 0.8661 - val_loss: 0.5119 - val_accuracy: 0.8384\n",
      "Epoch 26/100\n",
      "1563/1563 [==============================] - 188s 120ms/step - loss: 0.3671 - accuracy: 0.8722 - val_loss: 0.5163 - val_accuracy: 0.8354\n",
      "Epoch 27/100\n",
      "1563/1563 [==============================] - 207s 132ms/step - loss: 0.3597 - accuracy: 0.8732 - val_loss: 0.4976 - val_accuracy: 0.8396\n",
      "Epoch 28/100\n",
      "1563/1563 [==============================] - 228s 146ms/step - loss: 0.3563 - accuracy: 0.8738 - val_loss: 0.5077 - val_accuracy: 0.8353\n",
      "Epoch 29/100\n",
      "1563/1563 [==============================] - 229s 147ms/step - loss: 0.3466 - accuracy: 0.8770 - val_loss: 0.5188 - val_accuracy: 0.8365\n",
      "Epoch 30/100\n",
      "1563/1563 [==============================] - 229s 146ms/step - loss: 0.3364 - accuracy: 0.8821 - val_loss: 0.5381 - val_accuracy: 0.8349\n",
      "Epoch 31/100\n",
      "1563/1563 [==============================] - 228s 146ms/step - loss: 0.3344 - accuracy: 0.8826 - val_loss: 0.5098 - val_accuracy: 0.8381\n",
      "Epoch 32/100\n",
      "1563/1563 [==============================] - 227s 145ms/step - loss: 0.3254 - accuracy: 0.8870 - val_loss: 0.5267 - val_accuracy: 0.8400\n",
      "Epoch 33/100\n",
      "1563/1563 [==============================] - 227s 145ms/step - loss: 0.3247 - accuracy: 0.8853 - val_loss: 0.5138 - val_accuracy: 0.8382\n",
      "Epoch 34/100\n",
      "1563/1563 [==============================] - 227s 145ms/step - loss: 0.3147 - accuracy: 0.8889 - val_loss: 0.5574 - val_accuracy: 0.8333\n",
      "Epoch 35/100\n",
      "1563/1563 [==============================] - 227s 145ms/step - loss: 0.3082 - accuracy: 0.8926 - val_loss: 0.5079 - val_accuracy: 0.8457\n",
      "Epoch 36/100\n",
      "1563/1563 [==============================] - 228s 146ms/step - loss: 0.2994 - accuracy: 0.8957 - val_loss: 0.5295 - val_accuracy: 0.8397\n",
      "Epoch 37/100\n",
      "1563/1563 [==============================] - 227s 145ms/step - loss: 0.2940 - accuracy: 0.8964 - val_loss: 0.5109 - val_accuracy: 0.8391\n"
     ]
    },
    {
     "data": {
      "text/plain": [
       "<tensorflow.python.keras.callbacks.History at 0x29ee372a370>"
      ]
     },
     "execution_count": 11,
     "metadata": {},
     "output_type": "execute_result"
    }
   ],
   "source": [
    "model.fit(X_train, y_cat_train, epochs=100, validation_data=(X_test, to_categorical(y_test,10)), callbacks=[early_stop])"
   ]
  },
  {
   "cell_type": "code",
   "execution_count": 12,
   "metadata": {},
   "outputs": [
    {
     "data": {
      "text/plain": [
       "<AxesSubplot:>"
      ]
     },
     "execution_count": 12,
     "metadata": {},
     "output_type": "execute_result"
    },
    {
     "data": {
      "image/png": "[encoded data removed]",
      "text/plain": [
       "<Figure size 432x288 with 1 Axes>"
      ]
     },
     "metadata": {
      "needs_background": "light"
     },
     "output_type": "display_data"
    }
   ],
   "source": [
    "losses = pd.DataFrame(model.history.history)\n",
    "losses.plot()"
   ]
  },
  {
   "cell_type": "code",
   "execution_count": 13,
   "metadata": {},
   "outputs": [
    {
     "name": "stderr",
     "output_type": "stream",
     "text": [
      "C:\\Users\\Mateusz\\AppData\\Roaming\\Python\\Python38\\site-packages\\tensorflow\\python\\keras\\engine\\sequential.py:450: UserWarning: `model.predict_classes()` is deprecated and will be removed after 2021-01-01. Please use instead:* `np.argmax(model.predict(x), axis=-1)`,   if your model does multi-class classification   (e.g. if it uses a `softmax` last-layer activation).* `(model.predict(x) > 0.5).astype(\"int32\")`,   if your model does binary classification   (e.g. if it uses a `sigmoid` last-layer activation).\n",
      "  warnings.warn('`model.predict_classes()` is deprecated and '\n"
     ]
    }
   ],
   "source": [
    "predictions = model.predict_classes(X_test)"
   ]
  },
  {
   "cell_type": "code",
   "execution_count": 14,
   "metadata": {},
   "outputs": [
    {
     "name": "stdout",
     "output_type": "stream",
     "text": [
      "              precision    recall  f1-score   support\n",
      "\n",
      "           0       0.85      0.86      0.86      1000\n",
      "           1       0.93      0.94      0.93      1000\n",
      "           2       0.76      0.78      0.77      1000\n",
      "           3       0.73      0.67      0.70      1000\n",
      "           4       0.84      0.77      0.80      1000\n",
      "           5       0.77      0.78      0.77      1000\n",
      "           6       0.80      0.93      0.86      1000\n",
      "           7       0.93      0.82      0.87      1000\n",
      "           8       0.89      0.93      0.91      1000\n",
      "           9       0.91      0.91      0.91      1000\n",
      "\n",
      "    accuracy                           0.84     10000\n",
      "   macro avg       0.84      0.84      0.84     10000\n",
      "weighted avg       0.84      0.84      0.84     10000\n",
      "\n"
     ]
    },
    {
     "data": {
      "text/plain": [
       "array([[859,   9,  30,  12,   6,   2,   8,   5,  52,  17],\n",
       "       [  9, 939,   2,   1,   0,   1,   2,   0,  15,  31],\n",
       "       [ 50,   2, 781,  23,  31,  36,  57,   7,   9,   4],\n",
       "       [ 13,   3,  58, 670,  31, 122,  71,  15,   5,  12],\n",
       "       [  7,   1,  76,  45, 768,  24,  57,  13,   8,   1],\n",
       "       [ 10,   3,  38, 108,  21, 784,  22,  11,   1,   2],\n",
       "       [  4,   2,  23,  19,   9,   4, 929,   4,   4,   2],\n",
       "       [ 13,   2,  17,  31,  42,  51,   9, 824,   3,   8],\n",
       "       [ 25,  11,   3,   6,   3,   0,   9,   1, 929,  13],\n",
       "       [ 16,  41,   2,   6,   1,   0,   4,   5,  17, 908]], dtype=int64)"
      ]
     },
     "execution_count": 14,
     "metadata": {},
     "output_type": "execute_result"
    }
   ],
   "source": [
    "print(classification_report(y_test,predictions))\n",
    "confusion_matrix(y_test,predictions)"
   ]
  },
  {
   "cell_type": "code",
   "execution_count": 15,
   "metadata": {},
   "outputs": [
    {
     "data": {
      "text/plain": [
       "<AxesSubplot:>"
      ]
     },
     "execution_count": 15,
     "metadata": {},
     "output_type": "execute_result"
    },
    {
     "data": {
      "image/png": "[encoded data removed]",
      "text/plain": [
       "<Figure size 432x288 with 2 Axes>"
      ]
     },
     "metadata": {
      "needs_background": "light"
     },
     "output_type": "display_data"
    }
   ],
   "source": [
    "sns.heatmap(confusion_matrix(y_test,predictions), annot = True)"
   ]
  },
  {
   "cell_type": "code",
   "execution_count": 16,
   "metadata": {},
   "outputs": [],
   "source": [
    "test_images = []\n",
    "for i in range(1,300_001):\n",
    "    test_images.append(imread('test/'+str(i)+'.png'))\n",
    "X_test = np.array(test_images)\n",
    "predictions = model.predict_classes(X_test)"
   ]
  },
  {
   "cell_type": "code",
   "execution_count": 17,
   "metadata": {},
   "outputs": [],
   "source": [
    "prediction_labels = [reversed_mapping[x] for x in predictions]\n",
    "predictions_df = pd.DataFrame({'id':range(1,len(prediction_labels)+1), 'label':prediction_labels})\n",
    "predictions_df.to_csv(\"kaggle_final_new_4.csv\", index = None)"
   ]
  },
  {
   "cell_type": "code",
   "execution_count": 18,
   "metadata": {},
   "outputs": [],
   "source": [
    "predictions2_df = pd.DataFrame(model.predict(X_test))\n",
    "predictions2_df.to_csv(\"kaggle_final_new_4_classes.csv\", index = None)"
   ]
  }
 ],
 "metadata": {
  "kernelspec": {
   "display_name": "Python 3",
   "language": "python",
   "name": "python3"
  },
  "language_info": {
   "codemirror_mode": {
    "name": "ipython",
    "version": 3
   },
   "file_extension": ".py",
   "mimetype": "text/x-python",
   "name": "python",
   "nbconvert_exporter": "python",
   "pygments_lexer": "ipython3",
   "version": "3.8.5"
  }
 },
 "nbformat": 4,
 "nbformat_minor": 4
}
