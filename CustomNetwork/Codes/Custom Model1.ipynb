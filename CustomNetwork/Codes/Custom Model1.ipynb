{
 "cells": [
  {
   "cell_type": "code",
   "execution_count": 1,
   "metadata": {},
   "outputs": [],
   "source": [
    "import pandas as pd\n",
    "import numpy as np\n",
    "from matplotlib.image import imread\n",
    "import matplotlib.pyplot as plt\n",
    "import seaborn as sns\n",
    "\n",
    "from tensorflow.keras.utils import to_categorical\n",
    "from tensorflow.keras.models import Sequential\n",
    "from tensorflow.keras.layers import Dense, Conv2D, MaxPooling2D, Flatten, AveragePooling2D, BatchNormalization, Activation, Dropout\n",
    "from sklearn.metrics import classification_report,confusion_matrix\n",
    "from tensorflow.keras.datasets import cifar10\n",
    "from tensorflow.keras.callbacks import EarlyStopping\n",
    "from tensorflow.keras.regularizers import l2"
   ]
  },
  {
   "cell_type": "code",
   "execution_count": 2,
   "metadata": {},
   "outputs": [],
   "source": [
    "seed_value= 10\n",
    "\n",
    "import os\n",
    "os.environ['PYTHONHASHSEED']=str(seed_value)\n",
    "\n",
    "import random\n",
    "random.seed(seed_value)\n",
    "\n",
    "import numpy as np\n",
    "np.random.seed(seed_value)\n",
    "\n",
    "import tensorflow as tf\n",
    "tf.random.set_seed(seed_value)\n",
    "\n",
    "session_conf = tf.compat.v1.ConfigProto(intra_op_parallelism_threads=1, inter_op_parallelism_threads=1)\n",
    "sess = tf.compat.v1.Session(graph=tf.compat.v1.get_default_graph(), config=session_conf)\n",
    "tf.compat.v1.keras.backend.set_session(sess)"
   ]
  },
  {
   "cell_type": "code",
   "execution_count": 3,
   "metadata": {},
   "outputs": [],
   "source": [
    "labels = pd.read_csv('trainLabels.csv')"
   ]
  },
  {
   "cell_type": "code",
   "execution_count": 4,
   "metadata": {},
   "outputs": [],
   "source": [
    "train_images = []\n",
    "for i in labels.id:\n",
    "    train_images.append(imread('train/'+str(i)+'.png'))\n",
    "\n",
    "X_train = np.array(train_images)"
   ]
  },
  {
   "cell_type": "code",
   "execution_count": 5,
   "metadata": {},
   "outputs": [],
   "source": [
    "animals = sorted(labels.label.unique())\n",
    "mapping = {}\n",
    "for i in range(len(animals)):\n",
    "    mapping[animals[i]] = i\n",
    "\n",
    "reversed_mapping = {v:k for k,v in mapping.items()}"
   ]
  },
  {
   "cell_type": "code",
   "execution_count": 6,
   "metadata": {},
   "outputs": [],
   "source": [
    "y_train = labels.label.apply(lambda x: mapping[x])\n",
    "y_cat_train = to_categorical(y_train,10)"
   ]
  },
  {
   "cell_type": "code",
   "execution_count": 7,
   "metadata": {},
   "outputs": [],
   "source": [
    "(_, _), (X_test, y_test) = cifar10.load_data()\n",
    "X_test = X_test/255"
   ]
  },
  {
   "cell_type": "code",
   "execution_count": 8,
   "metadata": {},
   "outputs": [],
   "source": [
    "model = Sequential()\n",
    "\n",
    "## FIRST SET OF LAYERS\n",
    "\n",
    "# CONVOLUTIONAL LAYER\n",
    "model.add(Conv2D(filters=32, kernel_size=(3,3),input_shape=(32, 32, 3), \n",
    "                 activation='relu', padding = 'same'))\n",
    "model.add(Conv2D(filters=32, kernel_size=(3,3),input_shape=(32, 32, 3), \n",
    "                 activation='relu', padding = 'same'))\n",
    "# POOLING LAYER\n",
    "model.add(MaxPooling2D(pool_size=(2, 2)))\n",
    "model.add(Dropout(0.3))\n",
    "\n",
    "## SECOND SET OF LAYERS\n",
    "\n",
    "# CONVOLUTIONAL LAYER\n",
    "model.add(Conv2D(filters=64, kernel_size=(3,3),input_shape=(32, 32, 3), \n",
    "                 activation='relu', padding = 'same'))\n",
    "model.add(Conv2D(filters=64, kernel_size=(3,3),input_shape=(32, 32, 3), \n",
    "                 activation='relu', padding = 'same'))\n",
    "# POOLING LAYER\n",
    "model.add(MaxPooling2D(pool_size=(2, 2)))\n",
    "model.add(Dropout(0.3))\n",
    "\n",
    "## THIRD SET OF LAYERS\n",
    "\n",
    "# CONVOLUTIONAL LAYER\n",
    "model.add(Conv2D(filters=128, kernel_size=(3,3),input_shape=(32, 32, 3),\n",
    "                 activation='relu', padding = 'same'))\n",
    "model.add(Conv2D(filters=128, kernel_size=(3,3),input_shape=(32, 32, 3),\n",
    "                 activation='relu', padding = 'same'))\n",
    "# POOLING LAYER\n",
    "model.add(MaxPooling2D(pool_size=(2, 2)))\n",
    "model.add(Dropout(0.3))\n",
    "\n",
    "# BATCH NORMALIZATION\n",
    "model.add(BatchNormalization())\n",
    "\n",
    "\n",
    "# FLATTENING IMAGES\n",
    "model.add(Flatten())\n",
    "\n",
    "# HIDDEN LAYER\n",
    "model.add(Dense(256, activation='relu', kernel_regularizer=l2(0.001)))\n",
    "model.add(Dropout(0.4))\n",
    "\n",
    "# OUTPUT LAYER\n",
    "model.add(Dense(10, activation='softmax'))\n",
    "\n",
    "\n",
    "model.compile(loss='categorical_crossentropy',\n",
    "              optimizer='adam',\n",
    "              metrics=['accuracy'])"
   ]
  },
  {
   "cell_type": "code",
   "execution_count": 9,
   "metadata": {},
   "outputs": [
    {
     "name": "stdout",
     "output_type": "stream",
     "text": [
      "Model: \"sequential\"\n",
      "_________________________________________________________________\n",
      "Layer (type)                 Output Shape              Param #   \n",
      "=================================================================\n",
      "conv2d (Conv2D)              (None, 32, 32, 32)        896       \n",
      "_________________________________________________________________\n",
      "conv2d_1 (Conv2D)            (None, 32, 32, 32)        9248      \n",
      "_________________________________________________________________\n",
      "max_pooling2d (MaxPooling2D) (None, 16, 16, 32)        0         \n",
      "_________________________________________________________________\n",
      "dropout (Dropout)            (None, 16, 16, 32)        0         \n",
      "_________________________________________________________________\n",
      "conv2d_2 (Conv2D)            (None, 16, 16, 64)        18496     \n",
      "_________________________________________________________________\n",
      "conv2d_3 (Conv2D)            (None, 16, 16, 64)        36928     \n",
      "_________________________________________________________________\n",
      "max_pooling2d_1 (MaxPooling2 (None, 8, 8, 64)          0         \n",
      "_________________________________________________________________\n",
      "dropout_1 (Dropout)          (None, 8, 8, 64)          0         \n",
      "_________________________________________________________________\n",
      "conv2d_4 (Conv2D)            (None, 8, 8, 128)         73856     \n",
      "_________________________________________________________________\n",
      "conv2d_5 (Conv2D)            (None, 8, 8, 128)         147584    \n",
      "_________________________________________________________________\n",
      "max_pooling2d_2 (MaxPooling2 (None, 4, 4, 128)         0         \n",
      "_________________________________________________________________\n",
      "dropout_2 (Dropout)          (None, 4, 4, 128)         0         \n",
      "_________________________________________________________________\n",
      "batch_normalization (BatchNo (None, 4, 4, 128)         512       \n",
      "_________________________________________________________________\n",
      "flatten (Flatten)            (None, 2048)              0         \n",
      "_________________________________________________________________\n",
      "dense (Dense)                (None, 256)               524544    \n",
      "_________________________________________________________________\n",
      "dropout_3 (Dropout)          (None, 256)               0         \n",
      "_________________________________________________________________\n",
      "dense_1 (Dense)              (None, 10)                2570      \n",
      "=================================================================\n",
      "Total params: 814,634\n",
      "Trainable params: 814,378\n",
      "Non-trainable params: 256\n",
      "_________________________________________________________________\n"
     ]
    }
   ],
   "source": [
    "model.summary()"
   ]
  },
  {
   "cell_type": "code",
   "execution_count": 10,
   "metadata": {},
   "outputs": [],
   "source": [
    "early_stop = EarlyStopping(monitor='val_loss',patience=20)"
   ]
  },
  {
   "cell_type": "code",
   "execution_count": 11,
   "metadata": {},
   "outputs": [
    {
     "name": "stdout",
     "output_type": "stream",
     "text": [
      "Epoch 1/200\n",
      "1563/1563 [==============================] - 223s 142ms/step - loss: 2.1393 - accuracy: 0.3064 - val_loss: 1.4741 - val_accuracy: 0.5146\n",
      "Epoch 2/200\n",
      "1563/1563 [==============================] - 227s 145ms/step - loss: 1.4328 - accuracy: 0.5317 - val_loss: 1.1753 - val_accuracy: 0.6340\n",
      "Epoch 3/200\n",
      "1563/1563 [==============================] - 228s 146ms/step - loss: 1.2476 - accuracy: 0.6120 - val_loss: 1.0373 - val_accuracy: 0.6915\n",
      "Epoch 4/200\n",
      "1563/1563 [==============================] - 229s 146ms/step - loss: 1.1475 - accuracy: 0.6475 - val_loss: 1.0758 - val_accuracy: 0.6794\n",
      "Epoch 5/200\n",
      "1563/1563 [==============================] - 228s 146ms/step - loss: 1.0792 - accuracy: 0.6781 - val_loss: 0.9933 - val_accuracy: 0.7162\n",
      "Epoch 6/200\n",
      "1563/1563 [==============================] - 228s 146ms/step - loss: 1.0429 - accuracy: 0.6952 - val_loss: 0.9835 - val_accuracy: 0.7184\n",
      "Epoch 7/200\n",
      "1563/1563 [==============================] - 229s 147ms/step - loss: 1.0026 - accuracy: 0.7085 - val_loss: 0.8879 - val_accuracy: 0.7577\n",
      "Epoch 8/200\n",
      "1563/1563 [==============================] - 228s 146ms/step - loss: 0.9636 - accuracy: 0.7274 - val_loss: 0.9368 - val_accuracy: 0.7355\n",
      "Epoch 9/200\n",
      "1563/1563 [==============================] - 229s 147ms/step - loss: 0.9337 - accuracy: 0.7373 - val_loss: 0.8929 - val_accuracy: 0.7568\n",
      "Epoch 10/200\n",
      "1563/1563 [==============================] - 226s 145ms/step - loss: 0.9259 - accuracy: 0.7435 - val_loss: 0.8336 - val_accuracy: 0.7768\n",
      "Epoch 11/200\n",
      "1563/1563 [==============================] - 227s 145ms/step - loss: 0.8982 - accuracy: 0.7525 - val_loss: 0.9189 - val_accuracy: 0.7398\n",
      "Epoch 12/200\n",
      "1563/1563 [==============================] - 227s 145ms/step - loss: 0.8751 - accuracy: 0.7604 - val_loss: 0.8033 - val_accuracy: 0.7864\n",
      "Epoch 13/200\n",
      "1563/1563 [==============================] - 232s 149ms/step - loss: 0.8535 - accuracy: 0.7696 - val_loss: 0.8103 - val_accuracy: 0.7893\n",
      "Epoch 14/200\n",
      "1563/1563 [==============================] - 221s 142ms/step - loss: 0.8495 - accuracy: 0.7721 - val_loss: 0.8032 - val_accuracy: 0.7867\n",
      "Epoch 15/200\n",
      "1563/1563 [==============================] - 218s 140ms/step - loss: 0.8267 - accuracy: 0.7799 - val_loss: 0.7774 - val_accuracy: 0.7976\n",
      "Epoch 16/200\n",
      "1563/1563 [==============================] - 217s 139ms/step - loss: 0.8340 - accuracy: 0.7775 - val_loss: 0.7814 - val_accuracy: 0.8000\n",
      "Epoch 17/200\n",
      "1563/1563 [==============================] - 220s 141ms/step - loss: 0.8132 - accuracy: 0.7844 - val_loss: 0.8496 - val_accuracy: 0.7779\n",
      "Epoch 18/200\n",
      "1563/1563 [==============================] - 219s 140ms/step - loss: 0.7966 - accuracy: 0.7904 - val_loss: 0.8455 - val_accuracy: 0.7840\n",
      "Epoch 19/200\n",
      "1563/1563 [==============================] - 220s 141ms/step - loss: 0.7760 - accuracy: 0.7984 - val_loss: 0.7895 - val_accuracy: 0.7993\n",
      "Epoch 20/200\n",
      "1563/1563 [==============================] - 220s 141ms/step - loss: 0.7883 - accuracy: 0.7965 - val_loss: 0.7333 - val_accuracy: 0.8196\n",
      "Epoch 21/200\n",
      "1563/1563 [==============================] - 218s 139ms/step - loss: 0.7496 - accuracy: 0.8047 - val_loss: 0.7792 - val_accuracy: 0.8011\n",
      "Epoch 22/200\n",
      "1563/1563 [==============================] - 220s 141ms/step - loss: 0.7631 - accuracy: 0.8054 - val_loss: 0.7672 - val_accuracy: 0.8078\n",
      "Epoch 23/200\n",
      "1563/1563 [==============================] - 220s 141ms/step - loss: 0.7483 - accuracy: 0.8092 - val_loss: 0.7339 - val_accuracy: 0.8180\n",
      "Epoch 24/200\n",
      "1563/1563 [==============================] - 221s 141ms/step - loss: 0.7413 - accuracy: 0.8152 - val_loss: 0.7640 - val_accuracy: 0.8122\n",
      "Epoch 25/200\n",
      "1563/1563 [==============================] - 220s 140ms/step - loss: 0.7376 - accuracy: 0.8130 - val_loss: 0.7562 - val_accuracy: 0.8137\n",
      "Epoch 26/200\n",
      "1563/1563 [==============================] - 221s 141ms/step - loss: 0.7393 - accuracy: 0.8125 - val_loss: 0.7499 - val_accuracy: 0.8191\n",
      "Epoch 27/200\n",
      "1563/1563 [==============================] - 223s 143ms/step - loss: 0.7204 - accuracy: 0.8182 - val_loss: 0.6951 - val_accuracy: 0.8322\n",
      "Epoch 28/200\n",
      "1563/1563 [==============================] - 224s 144ms/step - loss: 0.7167 - accuracy: 0.8217 - val_loss: 0.7222 - val_accuracy: 0.8246\n",
      "Epoch 29/200\n",
      "1563/1563 [==============================] - 225s 144ms/step - loss: 0.7182 - accuracy: 0.8189 - val_loss: 0.7155 - val_accuracy: 0.8277\n",
      "Epoch 30/200\n",
      "1563/1563 [==============================] - 226s 145ms/step - loss: 0.7029 - accuracy: 0.8224 - val_loss: 0.7242 - val_accuracy: 0.8215\n",
      "Epoch 31/200\n",
      "1563/1563 [==============================] - 221s 141ms/step - loss: 0.6934 - accuracy: 0.8283 - val_loss: 0.7283 - val_accuracy: 0.8257\n",
      "Epoch 32/200\n",
      "1563/1563 [==============================] - 213s 136ms/step - loss: 0.6893 - accuracy: 0.8274 - val_loss: 0.6903 - val_accuracy: 0.8283\n",
      "Epoch 33/200\n",
      "1563/1563 [==============================] - 214s 137ms/step - loss: 0.6825 - accuracy: 0.8298 - val_loss: 0.6915 - val_accuracy: 0.8323\n",
      "Epoch 34/200\n",
      "1563/1563 [==============================] - 217s 139ms/step - loss: 0.6748 - accuracy: 0.8309 - val_loss: 0.7394 - val_accuracy: 0.8194\n",
      "Epoch 35/200\n",
      "1563/1563 [==============================] - 215s 138ms/step - loss: 0.6664 - accuracy: 0.8369 - val_loss: 0.6922 - val_accuracy: 0.8335\n",
      "Epoch 36/200\n",
      "1563/1563 [==============================] - 215s 137ms/step - loss: 0.6555 - accuracy: 0.8388 - val_loss: 0.7091 - val_accuracy: 0.8317\n",
      "Epoch 37/200\n",
      "1563/1563 [==============================] - 215s 138ms/step - loss: 0.6590 - accuracy: 0.8365 - val_loss: 0.6874 - val_accuracy: 0.8319\n",
      "Epoch 38/200\n",
      "1563/1563 [==============================] - 215s 137ms/step - loss: 0.6564 - accuracy: 0.8388 - val_loss: 0.6851 - val_accuracy: 0.8327\n",
      "Epoch 39/200\n",
      "1563/1563 [==============================] - 216s 138ms/step - loss: 0.6576 - accuracy: 0.8398 - val_loss: 0.6911 - val_accuracy: 0.8390\n",
      "Epoch 40/200\n",
      "1563/1563 [==============================] - 215s 138ms/step - loss: 0.6546 - accuracy: 0.8420 - val_loss: 0.6731 - val_accuracy: 0.8353\n",
      "Epoch 41/200\n",
      "1563/1563 [==============================] - 215s 138ms/step - loss: 0.6387 - accuracy: 0.8438 - val_loss: 0.6826 - val_accuracy: 0.8387\n",
      "Epoch 42/200\n",
      "1563/1563 [==============================] - 216s 138ms/step - loss: 0.6292 - accuracy: 0.8500 - val_loss: 0.7000 - val_accuracy: 0.8343\n",
      "Epoch 43/200\n",
      "1563/1563 [==============================] - 215s 138ms/step - loss: 0.6291 - accuracy: 0.8491 - val_loss: 0.6818 - val_accuracy: 0.8349\n",
      "Epoch 44/200\n",
      "1563/1563 [==============================] - 215s 138ms/step - loss: 0.6289 - accuracy: 0.8483 - val_loss: 0.6704 - val_accuracy: 0.8421\n",
      "Epoch 45/200\n",
      "1563/1563 [==============================] - 215s 137ms/step - loss: 0.6176 - accuracy: 0.8509 - val_loss: 0.6664 - val_accuracy: 0.8419\n",
      "Epoch 46/200\n",
      "1563/1563 [==============================] - 215s 137ms/step - loss: 0.6149 - accuracy: 0.8503 - val_loss: 0.6849 - val_accuracy: 0.8367\n",
      "Epoch 47/200\n",
      "1563/1563 [==============================] - 214s 137ms/step - loss: 0.6200 - accuracy: 0.8495 - val_loss: 0.6710 - val_accuracy: 0.8416\n",
      "Epoch 48/200\n",
      "1563/1563 [==============================] - 214s 137ms/step - loss: 0.6189 - accuracy: 0.8509 - val_loss: 0.6713 - val_accuracy: 0.8384\n",
      "Epoch 49/200\n",
      "1563/1563 [==============================] - 214s 137ms/step - loss: 0.6080 - accuracy: 0.8537 - val_loss: 0.6963 - val_accuracy: 0.8376\n",
      "Epoch 50/200\n",
      "1563/1563 [==============================] - 214s 137ms/step - loss: 0.6007 - accuracy: 0.8561 - val_loss: 0.6480 - val_accuracy: 0.8473\n",
      "Epoch 51/200\n",
      "1563/1563 [==============================] - 215s 137ms/step - loss: 0.5910 - accuracy: 0.8582 - val_loss: 0.6660 - val_accuracy: 0.8414\n",
      "Epoch 52/200\n",
      "1563/1563 [==============================] - 215s 137ms/step - loss: 0.6003 - accuracy: 0.8553 - val_loss: 0.6546 - val_accuracy: 0.8464\n",
      "Epoch 53/200\n",
      "1563/1563 [==============================] - 216s 138ms/step - loss: 0.5905 - accuracy: 0.8585 - val_loss: 0.6685 - val_accuracy: 0.8448\n",
      "Epoch 54/200\n",
      "1563/1563 [==============================] - 215s 137ms/step - loss: 0.5952 - accuracy: 0.8589 - val_loss: 0.6780 - val_accuracy: 0.8409\n",
      "Epoch 55/200\n",
      "1563/1563 [==============================] - 215s 137ms/step - loss: 0.5850 - accuracy: 0.8603 - val_loss: 0.6490 - val_accuracy: 0.8484\n"
     ]
    },
    {
     "name": "stdout",
     "output_type": "stream",
     "text": [
      "Epoch 56/200\n",
      "1563/1563 [==============================] - 215s 138ms/step - loss: 0.5804 - accuracy: 0.8632 - val_loss: 0.6672 - val_accuracy: 0.8423\n",
      "Epoch 57/200\n",
      "1563/1563 [==============================] - 215s 137ms/step - loss: 0.5858 - accuracy: 0.8624 - val_loss: 0.6616 - val_accuracy: 0.8463\n",
      "Epoch 58/200\n",
      "1563/1563 [==============================] - 215s 138ms/step - loss: 0.5724 - accuracy: 0.8637 - val_loss: 0.6709 - val_accuracy: 0.8446\n",
      "Epoch 59/200\n",
      "1563/1563 [==============================] - 215s 138ms/step - loss: 0.5731 - accuracy: 0.8638 - val_loss: 0.6500 - val_accuracy: 0.8477\n",
      "Epoch 60/200\n",
      "1563/1563 [==============================] - 226s 144ms/step - loss: 0.5751 - accuracy: 0.8651 - val_loss: 0.6948 - val_accuracy: 0.8401\n",
      "Epoch 61/200\n",
      "1563/1563 [==============================] - 228s 146ms/step - loss: 0.5792 - accuracy: 0.8639 - val_loss: 0.6539 - val_accuracy: 0.8499\n",
      "Epoch 62/200\n",
      "1563/1563 [==============================] - 228s 146ms/step - loss: 0.5779 - accuracy: 0.8621 - val_loss: 0.6746 - val_accuracy: 0.8402\n",
      "Epoch 63/200\n",
      "1563/1563 [==============================] - 227s 145ms/step - loss: 0.5567 - accuracy: 0.8701 - val_loss: 0.6567 - val_accuracy: 0.8458\n",
      "Epoch 64/200\n",
      "1563/1563 [==============================] - 229s 146ms/step - loss: 0.5679 - accuracy: 0.8679 - val_loss: 0.6512 - val_accuracy: 0.8470\n",
      "Epoch 65/200\n",
      "1563/1563 [==============================] - 229s 146ms/step - loss: 0.5611 - accuracy: 0.8687 - val_loss: 0.6702 - val_accuracy: 0.8440\n",
      "Epoch 66/200\n",
      "1563/1563 [==============================] - 228s 146ms/step - loss: 0.5500 - accuracy: 0.8711 - val_loss: 0.6520 - val_accuracy: 0.8488\n",
      "Epoch 67/200\n",
      "1563/1563 [==============================] - 228s 146ms/step - loss: 0.5616 - accuracy: 0.8699 - val_loss: 0.6690 - val_accuracy: 0.8464\n",
      "Epoch 68/200\n",
      "1563/1563 [==============================] - 227s 145ms/step - loss: 0.5599 - accuracy: 0.8679 - val_loss: 0.6485 - val_accuracy: 0.8509\n",
      "Epoch 69/200\n",
      "1563/1563 [==============================] - 228s 146ms/step - loss: 0.5561 - accuracy: 0.8697 - val_loss: 0.6349 - val_accuracy: 0.8506\n",
      "Epoch 70/200\n",
      "1563/1563 [==============================] - 227s 145ms/step - loss: 0.5485 - accuracy: 0.8731 - val_loss: 0.6569 - val_accuracy: 0.8544\n",
      "Epoch 71/200\n",
      "1563/1563 [==============================] - 228s 146ms/step - loss: 0.5567 - accuracy: 0.8694 - val_loss: 0.7864 - val_accuracy: 0.8417\n",
      "Epoch 72/200\n",
      "1563/1563 [==============================] - 228s 146ms/step - loss: 0.5551 - accuracy: 0.8720 - val_loss: 0.6681 - val_accuracy: 0.8458\n",
      "Epoch 73/200\n",
      "1563/1563 [==============================] - 227s 146ms/step - loss: 0.5417 - accuracy: 0.8766 - val_loss: 0.6836 - val_accuracy: 0.8437\n",
      "Epoch 74/200\n",
      "1563/1563 [==============================] - 238s 152ms/step - loss: 0.5492 - accuracy: 0.8727 - val_loss: 0.6455 - val_accuracy: 0.8519\n",
      "Epoch 75/200\n",
      "1563/1563 [==============================] - 223s 143ms/step - loss: 0.5407 - accuracy: 0.8771 - val_loss: 0.6370 - val_accuracy: 0.8509\n",
      "Epoch 76/200\n",
      "1563/1563 [==============================] - 224s 143ms/step - loss: 0.5320 - accuracy: 0.8781 - val_loss: 0.6466 - val_accuracy: 0.8551\n",
      "Epoch 77/200\n",
      "1563/1563 [==============================] - 223s 143ms/step - loss: 0.5326 - accuracy: 0.8781 - val_loss: 0.6397 - val_accuracy: 0.8493\n",
      "Epoch 78/200\n",
      "1563/1563 [==============================] - 225s 144ms/step - loss: 0.5319 - accuracy: 0.8785 - val_loss: 0.6577 - val_accuracy: 0.8475\n",
      "Epoch 79/200\n",
      "1563/1563 [==============================] - 224s 144ms/step - loss: 0.5406 - accuracy: 0.8746 - val_loss: 0.6762 - val_accuracy: 0.8445\n",
      "Epoch 80/200\n",
      "1563/1563 [==============================] - 224s 143ms/step - loss: 0.5437 - accuracy: 0.8744 - val_loss: 0.6443 - val_accuracy: 0.8532\n",
      "Epoch 81/200\n",
      "1563/1563 [==============================] - 222s 142ms/step - loss: 0.5292 - accuracy: 0.8797 - val_loss: 0.6704 - val_accuracy: 0.8427\n",
      "Epoch 82/200\n",
      "1563/1563 [==============================] - 223s 143ms/step - loss: 0.5382 - accuracy: 0.8790 - val_loss: 0.6522 - val_accuracy: 0.8519\n",
      "Epoch 83/200\n",
      "1563/1563 [==============================] - 222s 142ms/step - loss: 0.5322 - accuracy: 0.8766 - val_loss: 0.6525 - val_accuracy: 0.8558\n",
      "Epoch 84/200\n",
      "1563/1563 [==============================] - 218s 139ms/step - loss: 0.5218 - accuracy: 0.8808 - val_loss: 0.6594 - val_accuracy: 0.8482\n",
      "Epoch 85/200\n",
      "1563/1563 [==============================] - 218s 139ms/step - loss: 0.5300 - accuracy: 0.8819 - val_loss: 0.6785 - val_accuracy: 0.8482\n",
      "Epoch 86/200\n",
      "1563/1563 [==============================] - 217s 139ms/step - loss: 0.5248 - accuracy: 0.8820 - val_loss: 0.6696 - val_accuracy: 0.8471\n",
      "Epoch 87/200\n",
      "1563/1563 [==============================] - 206s 132ms/step - loss: 0.5255 - accuracy: 0.8794 - val_loss: 0.6849 - val_accuracy: 0.8421\n",
      "Epoch 88/200\n",
      "1563/1563 [==============================] - 207s 132ms/step - loss: 0.5310 - accuracy: 0.8790 - val_loss: 0.6711 - val_accuracy: 0.8501\n",
      "Epoch 89/200\n",
      "1563/1563 [==============================] - 205s 131ms/step - loss: 0.5295 - accuracy: 0.8802 - val_loss: 0.6540 - val_accuracy: 0.8548\n"
     ]
    },
    {
     "data": {
      "text/plain": [
       "<tensorflow.python.keras.callbacks.History at 0x1f3dd67e5b0>"
      ]
     },
     "execution_count": 11,
     "metadata": {},
     "output_type": "execute_result"
    }
   ],
   "source": [
    "model.fit(X_train, y_cat_train, epochs=200, validation_data=(X_test, to_categorical(y_test,10)), callbacks=[early_stop])"
   ]
  },
  {
   "cell_type": "code",
   "execution_count": 12,
   "metadata": {},
   "outputs": [
    {
     "data": {
      "text/plain": [
       "<AxesSubplot:>"
      ]
     },
     "execution_count": 12,
     "metadata": {},
     "output_type": "execute_result"
    },
    {
     "data": {
      "image/png": "[encoded data removed]",
      "text/plain": [
       "<Figure size 432x288 with 1 Axes>"
      ]
     },
     "metadata": {
      "needs_background": "light"
     },
     "output_type": "display_data"
    }
   ],
   "source": [
    "losses = pd.DataFrame(model.history.history)\n",
    "losses.plot()"
   ]
  },
  {
   "cell_type": "code",
   "execution_count": 13,
   "metadata": {},
   "outputs": [
    {
     "name": "stderr",
     "output_type": "stream",
     "text": [
      "C:\\Users\\Mateusz\\AppData\\Roaming\\Python\\Python38\\site-packages\\tensorflow\\python\\keras\\engine\\sequential.py:450: UserWarning: `model.predict_classes()` is deprecated and will be removed after 2021-01-01. Please use instead:* `np.argmax(model.predict(x), axis=-1)`,   if your model does multi-class classification   (e.g. if it uses a `softmax` last-layer activation).* `(model.predict(x) > 0.5).astype(\"int32\")`,   if your model does binary classification   (e.g. if it uses a `sigmoid` last-layer activation).\n",
      "  warnings.warn('`model.predict_classes()` is deprecated and '\n"
     ]
    }
   ],
   "source": [
    "predictions = model.predict_classes(X_test)"
   ]
  },
  {
   "cell_type": "code",
   "execution_count": 14,
   "metadata": {},
   "outputs": [
    {
     "name": "stdout",
     "output_type": "stream",
     "text": [
      "              precision    recall  f1-score   support\n",
      "\n",
      "           0       0.85      0.88      0.87      1000\n",
      "           1       0.91      0.94      0.93      1000\n",
      "           2       0.86      0.75      0.80      1000\n",
      "           3       0.75      0.71      0.73      1000\n",
      "           4       0.82      0.86      0.84      1000\n",
      "           5       0.80      0.77      0.79      1000\n",
      "           6       0.91      0.89      0.90      1000\n",
      "           7       0.86      0.91      0.88      1000\n",
      "           8       0.89      0.93      0.91      1000\n",
      "           9       0.88      0.91      0.90      1000\n",
      "\n",
      "    accuracy                           0.85     10000\n",
      "   macro avg       0.85      0.85      0.85     10000\n",
      "weighted avg       0.85      0.85      0.85     10000\n",
      "\n"
     ]
    },
    {
     "data": {
      "text/plain": [
       "array([[884,  10,  13,   8,   7,   0,   1,  10,  45,  22],\n",
       "       [  8, 940,   0,   1,   0,   0,   0,   0,   7,  44],\n",
       "       [ 51,   2, 747,  28,  51,  43,  36,  25,  13,   4],\n",
       "       [ 13,   6,  39, 706,  52, 110,  24,  24,  12,  14],\n",
       "       [  9,   2,  18,  24, 863,  13,  14,  49,   6,   2],\n",
       "       [  9,   1,  27,  99,  35, 772,   7,  37,   4,   9],\n",
       "       [  4,   5,  16,  42,  25,   9, 887,   4,   5,   3],\n",
       "       [  9,   1,   6,  32,  20,  11,   1, 910,   1,   9],\n",
       "       [ 31,  15,   7,   4,   0,   1,   1,   2, 926,  13],\n",
       "       [ 17,  47,   0,   2,   1,   1,   0,   2,  17, 913]], dtype=int64)"
      ]
     },
     "execution_count": 14,
     "metadata": {},
     "output_type": "execute_result"
    }
   ],
   "source": [
    "print(classification_report(y_test,predictions))\n",
    "confusion_matrix(y_test,predictions)"
   ]
  },
  {
   "cell_type": "code",
   "execution_count": 15,
   "metadata": {},
   "outputs": [
    {
     "data": {
      "text/plain": [
       "<AxesSubplot:>"
      ]
     },
     "execution_count": 15,
     "metadata": {},
     "output_type": "execute_result"
    },
    {
     "data": {
      "image/png": "[encoded data removed]",
      "text/plain": [
       "<Figure size 432x288 with 2 Axes>"
      ]
     },
     "metadata": {
      "needs_background": "light"
     },
     "output_type": "display_data"
    }
   ],
   "source": [
    "sns.heatmap(confusion_matrix(y_test,predictions), annot = True)"
   ]
  },
  {
   "cell_type": "code",
   "execution_count": 16,
   "metadata": {},
   "outputs": [],
   "source": [
    "test_images = []\n",
    "for i in range(1,300_001):\n",
    "    test_images.append(imread('test/'+str(i)+'.png'))\n",
    "X_test = np.array(test_images)\n",
    "predictions = model.predict_classes(X_test)"
   ]
  },
  {
   "cell_type": "code",
   "execution_count": 17,
   "metadata": {},
   "outputs": [],
   "source": [
    "prediction_labels = [reversed_mapping[x] for x in predictions]\n",
    "predictions_df = pd.DataFrame({'id':range(1,len(prediction_labels)+1), 'label':prediction_labels})\n",
    "predictions_df.to_csv(\"kaggle_final_new_1.csv\", index = None)"
   ]
  },
  {
   "cell_type": "code",
   "execution_count": 21,
   "metadata": {},
   "outputs": [],
   "source": [
    "predictions2_df = pd.DataFrame(model.predict(X_test))\n",
    "predictions2_df.to_csv(\"kaggle_final_new_1_classes.csv\", index = None)"
   ]
  }
 ],
 "metadata": {
  "kernelspec": {
   "display_name": "Python 3",
   "language": "python",
   "name": "python3"
  },
  "language_info": {
   "codemirror_mode": {
    "name": "ipython",
    "version": 3
   },
   "file_extension": ".py",
   "mimetype": "text/x-python",
   "name": "python",
   "nbconvert_exporter": "python",
   "pygments_lexer": "ipython3",
   "version": "3.8.5"
  }
 },
 "nbformat": 4,
 "nbformat_minor": 4
}
