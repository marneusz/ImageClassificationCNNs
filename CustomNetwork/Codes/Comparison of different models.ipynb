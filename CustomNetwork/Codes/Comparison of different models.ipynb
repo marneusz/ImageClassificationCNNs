{
 "cells": [
  {
   "cell_type": "code",
   "execution_count": 1,
   "metadata": {},
   "outputs": [],
   "source": [
    "import pandas as pd\n",
    "import numpy as np"
   ]
  },
  {
   "cell_type": "code",
   "execution_count": 2,
   "metadata": {},
   "outputs": [],
   "source": [
    "models =  ['kaggle_final_new_1.csv', 'kaggle_final_new_2.csv', 'kaggle_final_new_3.csv', 'kaggle_final_new_4.csv',\n",
    "           'kaggle_final_new_5.csv', 'kaggle_final_new_6.csv', 'kaggle_final_new_7.csv']"
   ]
  },
  {
   "cell_type": "code",
   "execution_count": 3,
   "metadata": {},
   "outputs": [],
   "source": [
    "df = pd.concat([pd.read_csv(model).iloc[:,1] for model in models], axis = 1)"
   ]
  },
  {
   "cell_type": "code",
   "execution_count": 4,
   "metadata": {},
   "outputs": [],
   "source": [
    "predicted_classes = []\n",
    "for i in range(300_000):\n",
    "    predicted_classes.append(df.iloc[i].value_counts().idxmax())"
   ]
  },
  {
   "cell_type": "code",
   "execution_count": 5,
   "metadata": {},
   "outputs": [],
   "source": [
    "predictions_df = pd.DataFrame({'id':range(1,len(predicted_classes)+1), 'label':predicted_classes})\n",
    "predictions_df.to_csv(\"kaggle_comparison_hard_voting.csv\", index = None)"
   ]
  },
  {
   "cell_type": "code",
   "execution_count": 6,
   "metadata": {},
   "outputs": [],
   "source": [
    "M1 = pd.read_csv('kaggle_final_new_1_classes.csv')\n",
    "M2 = pd.read_csv('kaggle_final_new_2_classes.csv')\n",
    "M3 = pd.read_csv('kaggle_final_new_3_classes.csv')\n",
    "M4 = pd.read_csv('kaggle_final_new_4_classes.csv')\n",
    "M5 = pd.read_csv('kaggle_final_new_5_classes.csv')\n",
    "M6 = pd.read_csv('kaggle_final_new_6_classes.csv')\n",
    "M7 = pd.read_csv('kaggle_final_new_7_classes.csv')"
   ]
  },
  {
   "cell_type": "code",
   "execution_count": 7,
   "metadata": {},
   "outputs": [],
   "source": [
    "models = []\n",
    "for i in range(1,8):\n",
    "    models.append(pd.read_csv('kaggle_final_new_'+str(i)+'_classes.csv'))"
   ]
  },
  {
   "cell_type": "code",
   "execution_count": 8,
   "metadata": {},
   "outputs": [],
   "source": [
    "df = sum([a for a in models])"
   ]
  },
  {
   "cell_type": "code",
   "execution_count": 9,
   "metadata": {},
   "outputs": [],
   "source": [
    "mapping = {'0':'airplane', '1':'automobile', '2':'bird', '3':'cat', '4':'deer', '5':'dog', '6':'frog', '7':'horse', '8':'ship', '9':'truck'}"
   ]
  },
  {
   "cell_type": "code",
   "execution_count": 10,
   "metadata": {},
   "outputs": [],
   "source": [
    "predicted_classes = []\n",
    "for i in range(300_000):\n",
    "    predicted_classes.append(mapping[df.iloc[i].idxmax()])"
   ]
  },
  {
   "cell_type": "code",
   "execution_count": 11,
   "metadata": {},
   "outputs": [],
   "source": [
    "predictions_df = pd.DataFrame({'id':range(1,len(predicted_classes)+1), 'label':predicted_classes})\n",
    "predictions_df.to_csv(\"kaggle_comparison_soft_voting.csv\", index = None)"
   ]
  }
 ],
 "metadata": {
  "kernelspec": {
   "display_name": "Python 3",
   "language": "python",
   "name": "python3"
  },
  "language_info": {
   "codemirror_mode": {
    "name": "ipython",
    "version": 3
   },
   "file_extension": ".py",
   "mimetype": "text/x-python",
   "name": "python",
   "nbconvert_exporter": "python",
   "pygments_lexer": "ipython3",
   "version": "3.8.5"
  }
 },
 "nbformat": 4,
 "nbformat_minor": 4
}
