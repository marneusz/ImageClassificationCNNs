{
 "cells": [
  {
   "cell_type": "code",
   "execution_count": 1,
   "metadata": {},
   "outputs": [],
   "source": [
    "import pandas as pd\n",
    "import numpy as np\n",
    "from matplotlib.image import imread\n",
    "import matplotlib.pyplot as plt\n",
    "import seaborn as sns\n",
    "\n",
    "from tensorflow.keras.utils import to_categorical\n",
    "from tensorflow.keras.models import Sequential\n",
    "from tensorflow.keras.layers import Dense, Conv2D, MaxPooling2D, Flatten, AveragePooling2D, BatchNormalization, Activation, Dropout\n",
    "from sklearn.metrics import classification_report,confusion_matrix\n",
    "from tensorflow.keras.datasets import cifar10\n",
    "from tensorflow.keras.callbacks import EarlyStopping\n",
    "from tensorflow.keras.regularizers import l2"
   ]
  },
  {
   "cell_type": "code",
   "execution_count": 2,
   "metadata": {},
   "outputs": [],
   "source": [
    "seed_value= 10\n",
    "\n",
    "import os\n",
    "os.environ['PYTHONHASHSEED']=str(seed_value)\n",
    "\n",
    "import random\n",
    "random.seed(seed_value)\n",
    "\n",
    "import numpy as np\n",
    "np.random.seed(seed_value)\n",
    "\n",
    "import tensorflow as tf\n",
    "tf.random.set_seed(seed_value)\n",
    "\n",
    "session_conf = tf.compat.v1.ConfigProto(intra_op_parallelism_threads=1, inter_op_parallelism_threads=1)\n",
    "sess = tf.compat.v1.Session(graph=tf.compat.v1.get_default_graph(), config=session_conf)\n",
    "tf.compat.v1.keras.backend.set_session(sess)"
   ]
  },
  {
   "cell_type": "code",
   "execution_count": 3,
   "metadata": {},
   "outputs": [],
   "source": [
    "labels = pd.read_csv('trainLabels.csv')"
   ]
  },
  {
   "cell_type": "code",
   "execution_count": 4,
   "metadata": {},
   "outputs": [],
   "source": [
    "train_images = []\n",
    "for i in labels.id:\n",
    "    train_images.append(imread('train/'+str(i)+'.png'))\n",
    "\n",
    "X_train = np.array(train_images)"
   ]
  },
  {
   "cell_type": "code",
   "execution_count": 5,
   "metadata": {},
   "outputs": [],
   "source": [
    "animals = sorted(labels.label.unique())\n",
    "mapping = {}\n",
    "for i in range(len(animals)):\n",
    "    mapping[animals[i]] = i\n",
    "\n",
    "reversed_mapping = {v:k for k,v in mapping.items()}"
   ]
  },
  {
   "cell_type": "code",
   "execution_count": 6,
   "metadata": {},
   "outputs": [],
   "source": [
    "y_train = labels.label.apply(lambda x: mapping[x])\n",
    "y_cat_train = to_categorical(y_train,10)"
   ]
  },
  {
   "cell_type": "code",
   "execution_count": 7,
   "metadata": {},
   "outputs": [],
   "source": [
    "(_, _), (X_test, y_test) = cifar10.load_data()\n",
    "X_test = X_test/255"
   ]
  },
  {
   "cell_type": "code",
   "execution_count": 8,
   "metadata": {},
   "outputs": [],
   "source": [
    "model = Sequential()\n",
    "\n",
    "## FIRST SET OF LAYERS\n",
    "\n",
    "# CONVOLUTIONAL LAYER\n",
    "model.add(Conv2D(filters=32, kernel_size=(3,3),input_shape=(32, 32, 3), \n",
    "                 activation='relu', padding = 'same', kernel_initializer='he_uniform'))\n",
    "model.add(Conv2D(filters=32, kernel_size=(3,3),input_shape=(32, 32, 3), \n",
    "                 activation='relu', padding = 'same', kernel_initializer='he_uniform'))\n",
    "# POOLING LAYER\n",
    "model.add(MaxPooling2D(pool_size=(2, 2)))\n",
    "model.add(Dropout(0.3))\n",
    "\n",
    "## SECOND SET OF LAYERS\n",
    "\n",
    "# CONVOLUTIONAL LAYER\n",
    "model.add(Conv2D(filters=64, kernel_size=(3,3),input_shape=(32, 32, 3), \n",
    "                 activation='relu', padding = 'same', kernel_initializer='he_uniform'))\n",
    "model.add(Conv2D(filters=64, kernel_size=(3,3),input_shape=(32, 32, 3), \n",
    "                 activation='relu', padding = 'same', kernel_initializer='he_uniform'))\n",
    "# POOLING LAYER\n",
    "model.add(MaxPooling2D(pool_size=(2, 2)))\n",
    "model.add(Dropout(0.3))\n",
    "\n",
    "## THIRD SET OF LAYERS\n",
    "\n",
    "# CONVOLUTIONAL LAYER\n",
    "model.add(Conv2D(filters=128, kernel_size=(3,3),input_shape=(32, 32, 3),\n",
    "                 activation='relu', padding = 'same', kernel_initializer='he_uniform'))\n",
    "model.add(Conv2D(filters=128, kernel_size=(3,3),input_shape=(32, 32, 3),\n",
    "                 activation='relu', padding = 'same', kernel_initializer='he_uniform'))\n",
    "# POOLING LAYER\n",
    "model.add(MaxPooling2D(pool_size=(2, 2)))\n",
    "model.add(Dropout(0.3))\n",
    "\n",
    "# BATCH NORMALIZATION\n",
    "model.add(BatchNormalization())\n",
    "\n",
    "\n",
    "# FLATTENING IMAGES\n",
    "model.add(Flatten())\n",
    "\n",
    "# HIDDEN LAYER\n",
    "model.add(Dense(512, activation='relu', kernel_initializer='he_uniform'))\n",
    "model.add(Dropout(0.3))\n",
    "\n",
    "# OUTPUT LAYER\n",
    "model.add(Dense(10, activation='softmax'))\n",
    "\n",
    "\n",
    "model.compile(loss='categorical_crossentropy',\n",
    "              optimizer='adam',\n",
    "              metrics=['accuracy'])"
   ]
  },
  {
   "cell_type": "code",
   "execution_count": 9,
   "metadata": {},
   "outputs": [
    {
     "name": "stdout",
     "output_type": "stream",
     "text": [
      "Model: \"sequential\"\n",
      "_________________________________________________________________\n",
      "Layer (type)                 Output Shape              Param #   \n",
      "=================================================================\n",
      "conv2d (Conv2D)              (None, 32, 32, 32)        896       \n",
      "_________________________________________________________________\n",
      "conv2d_1 (Conv2D)            (None, 32, 32, 32)        9248      \n",
      "_________________________________________________________________\n",
      "max_pooling2d (MaxPooling2D) (None, 16, 16, 32)        0         \n",
      "_________________________________________________________________\n",
      "dropout (Dropout)            (None, 16, 16, 32)        0         \n",
      "_________________________________________________________________\n",
      "conv2d_2 (Conv2D)            (None, 16, 16, 64)        18496     \n",
      "_________________________________________________________________\n",
      "conv2d_3 (Conv2D)            (None, 16, 16, 64)        36928     \n",
      "_________________________________________________________________\n",
      "max_pooling2d_1 (MaxPooling2 (None, 8, 8, 64)          0         \n",
      "_________________________________________________________________\n",
      "dropout_1 (Dropout)          (None, 8, 8, 64)          0         \n",
      "_________________________________________________________________\n",
      "conv2d_4 (Conv2D)            (None, 8, 8, 128)         73856     \n",
      "_________________________________________________________________\n",
      "conv2d_5 (Conv2D)            (None, 8, 8, 128)         147584    \n",
      "_________________________________________________________________\n",
      "max_pooling2d_2 (MaxPooling2 (None, 4, 4, 128)         0         \n",
      "_________________________________________________________________\n",
      "dropout_2 (Dropout)          (None, 4, 4, 128)         0         \n",
      "_________________________________________________________________\n",
      "batch_normalization (BatchNo (None, 4, 4, 128)         512       \n",
      "_________________________________________________________________\n",
      "flatten (Flatten)            (None, 2048)              0         \n",
      "_________________________________________________________________\n",
      "dense (Dense)                (None, 512)               1049088   \n",
      "_________________________________________________________________\n",
      "dropout_3 (Dropout)          (None, 512)               0         \n",
      "_________________________________________________________________\n",
      "dense_1 (Dense)              (None, 10)                5130      \n",
      "=================================================================\n",
      "Total params: 1,341,738\n",
      "Trainable params: 1,341,482\n",
      "Non-trainable params: 256\n",
      "_________________________________________________________________\n"
     ]
    }
   ],
   "source": [
    "model.summary()"
   ]
  },
  {
   "cell_type": "code",
   "execution_count": 10,
   "metadata": {},
   "outputs": [],
   "source": [
    "early_stop = EarlyStopping(monitor='val_loss',patience=20)"
   ]
  },
  {
   "cell_type": "code",
   "execution_count": 11,
   "metadata": {},
   "outputs": [
    {
     "name": "stdout",
     "output_type": "stream",
     "text": [
      "Epoch 1/200\n",
      "1563/1563 [==============================] - 246s 156ms/step - loss: 2.0143 - accuracy: 0.2803 - val_loss: 1.3810 - val_accuracy: 0.4929\n",
      "Epoch 2/200\n",
      "1563/1563 [==============================] - 244s 156ms/step - loss: 1.3330 - accuracy: 0.5182 - val_loss: 1.0691 - val_accuracy: 0.6241\n",
      "Epoch 3/200\n",
      "1563/1563 [==============================] - 243s 156ms/step - loss: 1.0877 - accuracy: 0.6148 - val_loss: 0.8628 - val_accuracy: 0.7041\n",
      "Epoch 4/200\n",
      "1563/1563 [==============================] - 244s 156ms/step - loss: 0.9415 - accuracy: 0.6734 - val_loss: 0.7801 - val_accuracy: 0.7297\n",
      "Epoch 5/200\n",
      "1563/1563 [==============================] - 242s 155ms/step - loss: 0.8348 - accuracy: 0.7053 - val_loss: 0.7679 - val_accuracy: 0.7324\n",
      "Epoch 6/200\n",
      "1563/1563 [==============================] - 241s 155ms/step - loss: 0.7681 - accuracy: 0.7319 - val_loss: 0.6914 - val_accuracy: 0.7604\n",
      "Epoch 7/200\n",
      "1563/1563 [==============================] - 241s 154ms/step - loss: 0.7153 - accuracy: 0.7489 - val_loss: 0.6878 - val_accuracy: 0.7718\n",
      "Epoch 8/200\n",
      "1563/1563 [==============================] - 242s 155ms/step - loss: 0.6752 - accuracy: 0.7646 - val_loss: 0.7138 - val_accuracy: 0.7614\n",
      "Epoch 9/200\n",
      "1563/1563 [==============================] - 242s 155ms/step - loss: 0.6303 - accuracy: 0.7801 - val_loss: 0.6851 - val_accuracy: 0.7798\n",
      "Epoch 10/200\n",
      "1563/1563 [==============================] - 238s 152ms/step - loss: 0.6065 - accuracy: 0.7880 - val_loss: 0.5924 - val_accuracy: 0.8027\n",
      "Epoch 11/200\n",
      "1563/1563 [==============================] - 220s 141ms/step - loss: 0.5779 - accuracy: 0.7999 - val_loss: 0.5927 - val_accuracy: 0.8036\n",
      "Epoch 12/200\n",
      "1563/1563 [==============================] - 220s 141ms/step - loss: 0.5518 - accuracy: 0.8079 - val_loss: 0.5888 - val_accuracy: 0.8010\n",
      "Epoch 13/200\n",
      "1563/1563 [==============================] - 221s 141ms/step - loss: 0.5161 - accuracy: 0.8200 - val_loss: 0.5466 - val_accuracy: 0.8155\n",
      "Epoch 14/200\n",
      "1563/1563 [==============================] - 221s 141ms/step - loss: 0.5005 - accuracy: 0.8259 - val_loss: 0.6591 - val_accuracy: 0.7841\n",
      "Epoch 15/200\n",
      "1563/1563 [==============================] - 221s 141ms/step - loss: 0.4878 - accuracy: 0.8275 - val_loss: 0.5974 - val_accuracy: 0.8010\n",
      "Epoch 16/200\n",
      "1563/1563 [==============================] - 220s 141ms/step - loss: 0.4607 - accuracy: 0.8383 - val_loss: 0.5621 - val_accuracy: 0.8161\n",
      "Epoch 17/200\n",
      "1563/1563 [==============================] - 220s 141ms/step - loss: 0.4473 - accuracy: 0.8433 - val_loss: 0.5552 - val_accuracy: 0.8188\n",
      "Epoch 18/200\n",
      "1563/1563 [==============================] - 220s 141ms/step - loss: 0.4227 - accuracy: 0.8504 - val_loss: 0.5380 - val_accuracy: 0.8251\n",
      "Epoch 19/200\n",
      "1563/1563 [==============================] - 221s 141ms/step - loss: 0.4128 - accuracy: 0.8540 - val_loss: 0.5601 - val_accuracy: 0.8217\n",
      "Epoch 20/200\n",
      "1563/1563 [==============================] - 220s 141ms/step - loss: 0.3959 - accuracy: 0.8618 - val_loss: 0.5585 - val_accuracy: 0.8210\n",
      "Epoch 21/200\n",
      "1563/1563 [==============================] - 220s 141ms/step - loss: 0.3779 - accuracy: 0.8688 - val_loss: 0.5574 - val_accuracy: 0.8206\n",
      "Epoch 22/200\n",
      "1563/1563 [==============================] - 222s 142ms/step - loss: 0.3739 - accuracy: 0.8702 - val_loss: 0.5564 - val_accuracy: 0.8213\n",
      "Epoch 23/200\n",
      "1563/1563 [==============================] - 220s 141ms/step - loss: 0.3595 - accuracy: 0.8751 - val_loss: 0.5399 - val_accuracy: 0.8263\n",
      "Epoch 24/200\n",
      "1563/1563 [==============================] - 221s 141ms/step - loss: 0.3493 - accuracy: 0.8759 - val_loss: 2.7452 - val_accuracy: 0.8076\n",
      "Epoch 25/200\n",
      "1563/1563 [==============================] - 220s 141ms/step - loss: 0.3495 - accuracy: 0.8762 - val_loss: 0.5854 - val_accuracy: 0.8187\n",
      "Epoch 26/200\n",
      "1563/1563 [==============================] - 220s 141ms/step - loss: 0.3374 - accuracy: 0.8816 - val_loss: 0.5231 - val_accuracy: 0.8413\n",
      "Epoch 27/200\n",
      "1563/1563 [==============================] - 220s 141ms/step - loss: 0.3241 - accuracy: 0.8891 - val_loss: 0.5219 - val_accuracy: 0.8369\n",
      "Epoch 28/200\n",
      "1563/1563 [==============================] - 221s 141ms/step - loss: 0.3121 - accuracy: 0.8897 - val_loss: 0.5409 - val_accuracy: 0.8324\n",
      "Epoch 29/200\n",
      "1563/1563 [==============================] - 221s 141ms/step - loss: 0.3368 - accuracy: 0.8845 - val_loss: 0.5116 - val_accuracy: 0.8439\n",
      "Epoch 30/200\n",
      "1563/1563 [==============================] - 221s 141ms/step - loss: 0.2973 - accuracy: 0.8940 - val_loss: 0.5032 - val_accuracy: 0.8391\n",
      "Epoch 31/200\n",
      "1563/1563 [==============================] - 221s 141ms/step - loss: 0.2900 - accuracy: 0.8976 - val_loss: 0.5190 - val_accuracy: 0.8424\n",
      "Epoch 32/200\n",
      "1563/1563 [==============================] - 221s 141ms/step - loss: 0.2865 - accuracy: 0.9001 - val_loss: 0.5162 - val_accuracy: 0.8368\n",
      "Epoch 33/200\n",
      "1563/1563 [==============================] - 221s 141ms/step - loss: 0.2824 - accuracy: 0.8981 - val_loss: 0.5515 - val_accuracy: 0.8362\n",
      "Epoch 34/200\n",
      "1563/1563 [==============================] - 221s 141ms/step - loss: 0.2776 - accuracy: 0.9037 - val_loss: 0.5744 - val_accuracy: 0.8346\n",
      "Epoch 35/200\n",
      "1563/1563 [==============================] - 220s 141ms/step - loss: 0.2733 - accuracy: 0.9045 - val_loss: 0.5229 - val_accuracy: 0.8416\n",
      "Epoch 36/200\n",
      "1563/1563 [==============================] - 219s 140ms/step - loss: 0.2710 - accuracy: 0.9081 - val_loss: 0.5480 - val_accuracy: 0.8374\n",
      "Epoch 37/200\n",
      "1563/1563 [==============================] - 219s 140ms/step - loss: 0.2633 - accuracy: 0.9084 - val_loss: 0.5301 - val_accuracy: 0.8389\n",
      "Epoch 38/200\n",
      "1563/1563 [==============================] - 220s 141ms/step - loss: 0.2566 - accuracy: 0.9089 - val_loss: 0.5413 - val_accuracy: 0.8357\n",
      "Epoch 39/200\n",
      "1563/1563 [==============================] - 220s 141ms/step - loss: 0.2489 - accuracy: 0.9134 - val_loss: 0.5466 - val_accuracy: 0.8381\n",
      "Epoch 40/200\n",
      "1563/1563 [==============================] - 221s 141ms/step - loss: 0.2419 - accuracy: 0.9154 - val_loss: 0.5216 - val_accuracy: 0.8422\n",
      "Epoch 41/200\n",
      "1563/1563 [==============================] - 220s 141ms/step - loss: 0.2482 - accuracy: 0.9142 - val_loss: 0.6900 - val_accuracy: 0.8315\n",
      "Epoch 42/200\n",
      "1563/1563 [==============================] - 221s 141ms/step - loss: 0.2373 - accuracy: 0.9167 - val_loss: 0.5437 - val_accuracy: 0.8429\n",
      "Epoch 43/200\n",
      "1563/1563 [==============================] - 220s 141ms/step - loss: 0.2371 - accuracy: 0.9159 - val_loss: 0.5616 - val_accuracy: 0.8331\n",
      "Epoch 44/200\n",
      "1563/1563 [==============================] - 220s 141ms/step - loss: 0.2335 - accuracy: 0.9195 - val_loss: 0.5626 - val_accuracy: 0.8428\n",
      "Epoch 45/200\n",
      "1563/1563 [==============================] - 213s 136ms/step - loss: 0.2240 - accuracy: 0.9224 - val_loss: 0.5647 - val_accuracy: 0.8436\n",
      "Epoch 46/200\n",
      "1563/1563 [==============================] - 219s 140ms/step - loss: 0.2269 - accuracy: 0.9219 - val_loss: 0.5329 - val_accuracy: 0.8399\n",
      "Epoch 47/200\n",
      "1563/1563 [==============================] - 213s 136ms/step - loss: 0.2205 - accuracy: 0.9221 - val_loss: 0.6524 - val_accuracy: 0.8333\n",
      "Epoch 48/200\n",
      "1563/1563 [==============================] - 212s 136ms/step - loss: 0.2149 - accuracy: 0.9254 - val_loss: 0.5543 - val_accuracy: 0.8414\n",
      "Epoch 49/200\n",
      "1563/1563 [==============================] - 206s 132ms/step - loss: 0.2124 - accuracy: 0.9254 - val_loss: 0.7309 - val_accuracy: 0.8414\n",
      "Epoch 50/200\n",
      "1563/1563 [==============================] - 205s 131ms/step - loss: 0.2151 - accuracy: 0.9261 - val_loss: 1.0058 - val_accuracy: 0.8419\n"
     ]
    },
    {
     "data": {
      "text/plain": [
       "<tensorflow.python.keras.callbacks.History at 0x206a5dd9370>"
      ]
     },
     "execution_count": 11,
     "metadata": {},
     "output_type": "execute_result"
    }
   ],
   "source": [
    "model.fit(X_train, y_cat_train, epochs=200, validation_data=(X_test, to_categorical(y_test,10)), callbacks=[early_stop])"
   ]
  },
  {
   "cell_type": "code",
   "execution_count": 12,
   "metadata": {},
   "outputs": [
    {
     "data": {
      "text/plain": [
       "<AxesSubplot:>"
      ]
     },
     "execution_count": 12,
     "metadata": {},
     "output_type": "execute_result"
    },
    {
     "data": {
      "image/png": "[encoded data removed]",
      "text/plain": [
       "<Figure size 432x288 with 1 Axes>"
      ]
     },
     "metadata": {
      "needs_background": "light"
     },
     "output_type": "display_data"
    }
   ],
   "source": [
    "losses = pd.DataFrame(model.history.history)\n",
    "losses.plot()"
   ]
  },
  {
   "cell_type": "code",
   "execution_count": 13,
   "metadata": {},
   "outputs": [
    {
     "name": "stderr",
     "output_type": "stream",
     "text": [
      "C:\\Users\\Mateusz\\AppData\\Roaming\\Python\\Python38\\site-packages\\tensorflow\\python\\keras\\engine\\sequential.py:450: UserWarning: `model.predict_classes()` is deprecated and will be removed after 2021-01-01. Please use instead:* `np.argmax(model.predict(x), axis=-1)`,   if your model does multi-class classification   (e.g. if it uses a `softmax` last-layer activation).* `(model.predict(x) > 0.5).astype(\"int32\")`,   if your model does binary classification   (e.g. if it uses a `sigmoid` last-layer activation).\n",
      "  warnings.warn('`model.predict_classes()` is deprecated and '\n"
     ]
    }
   ],
   "source": [
    "predictions = model.predict_classes(X_test)"
   ]
  },
  {
   "cell_type": "code",
   "execution_count": 14,
   "metadata": {},
   "outputs": [
    {
     "name": "stdout",
     "output_type": "stream",
     "text": [
      "              precision    recall  f1-score   support\n",
      "\n",
      "           0       0.88      0.83      0.86      1000\n",
      "           1       0.92      0.94      0.93      1000\n",
      "           2       0.82      0.77      0.79      1000\n",
      "           3       0.65      0.73      0.69      1000\n",
      "           4       0.84      0.81      0.82      1000\n",
      "           5       0.76      0.79      0.78      1000\n",
      "           6       0.84      0.88      0.86      1000\n",
      "           7       0.89      0.87      0.88      1000\n",
      "           8       0.92      0.90      0.91      1000\n",
      "           9       0.93      0.89      0.91      1000\n",
      "\n",
      "    accuracy                           0.84     10000\n",
      "   macro avg       0.85      0.84      0.84     10000\n",
      "weighted avg       0.85      0.84      0.84     10000\n",
      "\n"
     ]
    },
    {
     "data": {
      "text/plain": [
       "array([[835,   9,  31,  28,  13,   5,   7,  16,  43,  13],\n",
       "       [  8, 935,   1,   5,   2,   4,   4,   0,  10,  31],\n",
       "       [ 37,   0, 769,  48,  46,  39,  42,  16,   3,   0],\n",
       "       [  9,   1,  39, 734,  30, 121,  44,  19,   2,   1],\n",
       "       [  4,   4,  33,  56, 810,  27,  38,  25,   1,   2],\n",
       "       [  3,   1,  15, 132,  18, 792,  15,  22,   1,   1],\n",
       "       [  5,   1,  24,  56,  17,  10, 882,   3,   2,   0],\n",
       "       [  5,   0,  16,  35,  29,  40,   3, 868,   1,   3],\n",
       "       [ 29,  12,  11,  17,   2,   2,   5,   4, 902,  16],\n",
       "       [ 10,  49,   3,  16,   2,   3,   8,   1,  16, 892]], dtype=int64)"
      ]
     },
     "execution_count": 14,
     "metadata": {},
     "output_type": "execute_result"
    }
   ],
   "source": [
    "print(classification_report(y_test,predictions))\n",
    "confusion_matrix(y_test,predictions)"
   ]
  },
  {
   "cell_type": "code",
   "execution_count": 15,
   "metadata": {},
   "outputs": [
    {
     "data": {
      "text/plain": [
       "<AxesSubplot:>"
      ]
     },
     "execution_count": 15,
     "metadata": {},
     "output_type": "execute_result"
    },
    {
     "data": {
      "image/png": "[encoded data removed]",
      "text/plain": [
       "<Figure size 432x288 with 2 Axes>"
      ]
     },
     "metadata": {
      "needs_background": "light"
     },
     "output_type": "display_data"
    }
   ],
   "source": [
    "sns.heatmap(confusion_matrix(y_test,predictions), annot = True)"
   ]
  },
  {
   "cell_type": "code",
   "execution_count": 16,
   "metadata": {},
   "outputs": [],
   "source": [
    "test_images = []\n",
    "for i in range(1,300_001):\n",
    "    test_images.append(imread('test/'+str(i)+'.png'))\n",
    "X_test = np.array(test_images)\n",
    "predictions = model.predict_classes(X_test)"
   ]
  },
  {
   "cell_type": "code",
   "execution_count": 17,
   "metadata": {},
   "outputs": [],
   "source": [
    "prediction_labels = [reversed_mapping[x] for x in predictions]\n",
    "predictions_df = pd.DataFrame({'id':range(1,len(prediction_labels)+1), 'label':prediction_labels})\n",
    "predictions_df.to_csv(\"kaggle_final_new_7.csv\", index = None)"
   ]
  },
  {
   "cell_type": "code",
   "execution_count": 18,
   "metadata": {},
   "outputs": [],
   "source": [
    "predictions2_df = pd.DataFrame(model.predict(X_test))\n",
    "predictions2_df.to_csv(\"kaggle_final_new_7_classes.csv\", index = None)"
   ]
  }
 ],
 "metadata": {
  "kernelspec": {
   "display_name": "Python 3",
   "language": "python",
   "name": "python3"
  },
  "language_info": {
   "codemirror_mode": {
    "name": "ipython",
    "version": 3
   },
   "file_extension": ".py",
   "mimetype": "text/x-python",
   "name": "python",
   "nbconvert_exporter": "python",
   "pygments_lexer": "ipython3",
   "version": "3.8.5"
  }
 },
 "nbformat": 4,
 "nbformat_minor": 4
}
