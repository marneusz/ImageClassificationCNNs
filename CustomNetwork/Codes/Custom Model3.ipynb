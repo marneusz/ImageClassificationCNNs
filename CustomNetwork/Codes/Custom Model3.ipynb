{
 "cells": [
  {
   "cell_type": "code",
   "execution_count": 1,
   "metadata": {},
   "outputs": [],
   "source": [
    "import pandas as pd\n",
    "import numpy as np\n",
    "from matplotlib.image import imread\n",
    "import matplotlib.pyplot as plt\n",
    "import seaborn as sns\n",
    "\n",
    "from tensorflow.keras.utils import to_categorical\n",
    "from tensorflow.keras.models import Sequential\n",
    "from tensorflow.keras.layers import Dense, Conv2D, MaxPooling2D, Flatten, AveragePooling2D, BatchNormalization, Activation, Dropout\n",
    "from sklearn.metrics import classification_report,confusion_matrix\n",
    "from tensorflow.keras.datasets import cifar10\n",
    "from tensorflow.keras.callbacks import EarlyStopping\n",
    "from tensorflow.keras.regularizers import l2"
   ]
  },
  {
   "cell_type": "code",
   "execution_count": 2,
   "metadata": {},
   "outputs": [],
   "source": [
    "seed_value= 10\n",
    "\n",
    "import os\n",
    "os.environ['PYTHONHASHSEED']=str(seed_value)\n",
    "\n",
    "import random\n",
    "random.seed(seed_value)\n",
    "\n",
    "import numpy as np\n",
    "np.random.seed(seed_value)\n",
    "\n",
    "import tensorflow as tf\n",
    "tf.random.set_seed(seed_value)\n",
    "\n",
    "session_conf = tf.compat.v1.ConfigProto(intra_op_parallelism_threads=1, inter_op_parallelism_threads=1)\n",
    "sess = tf.compat.v1.Session(graph=tf.compat.v1.get_default_graph(), config=session_conf)\n",
    "tf.compat.v1.keras.backend.set_session(sess)"
   ]
  },
  {
   "cell_type": "code",
   "execution_count": 3,
   "metadata": {},
   "outputs": [],
   "source": [
    "labels = pd.read_csv('trainLabels.csv')"
   ]
  },
  {
   "cell_type": "code",
   "execution_count": 4,
   "metadata": {},
   "outputs": [],
   "source": [
    "train_images = []\n",
    "for i in labels.id:\n",
    "    train_images.append(imread('train/'+str(i)+'.png'))\n",
    "\n",
    "X_train = np.array(train_images)"
   ]
  },
  {
   "cell_type": "code",
   "execution_count": 5,
   "metadata": {},
   "outputs": [],
   "source": [
    "animals = sorted(labels.label.unique())\n",
    "mapping = {}\n",
    "for i in range(len(animals)):\n",
    "    mapping[animals[i]] = i\n",
    "\n",
    "reversed_mapping = {v:k for k,v in mapping.items()}"
   ]
  },
  {
   "cell_type": "code",
   "execution_count": 6,
   "metadata": {},
   "outputs": [],
   "source": [
    "y_train = labels.label.apply(lambda x: mapping[x])\n",
    "y_cat_train = to_categorical(y_train,10)"
   ]
  },
  {
   "cell_type": "code",
   "execution_count": 7,
   "metadata": {},
   "outputs": [],
   "source": [
    "(_, _), (X_test, y_test) = cifar10.load_data()\n",
    "X_test = X_test/255"
   ]
  },
  {
   "cell_type": "code",
   "execution_count": 8,
   "metadata": {},
   "outputs": [],
   "source": [
    "model = Sequential()\n",
    "\n",
    "## FIRST SET OF LAYERS\n",
    "\n",
    "# CONVOLUTIONAL LAYER\n",
    "model.add(Conv2D(filters=32, kernel_size=(3,3),input_shape=(32, 32, 3), \n",
    "                 activation='relu', padding = 'same'))\n",
    "model.add(Conv2D(filters=32, kernel_size=(3,3),input_shape=(32, 32, 3), \n",
    "                 activation='relu', padding = 'same'))\n",
    "# POOLING LAYER\n",
    "model.add(MaxPooling2D(pool_size=(2, 2)))\n",
    "model.add(Dropout(0.3))\n",
    "\n",
    "## SECOND SET OF LAYERS\n",
    "\n",
    "# CONVOLUTIONAL LAYER\n",
    "model.add(Conv2D(filters=64, kernel_size=(3,3),input_shape=(32, 32, 3), \n",
    "                 activation='relu', padding = 'same'))\n",
    "model.add(Conv2D(filters=64, kernel_size=(3,3),input_shape=(32, 32, 3), \n",
    "                 activation='relu', padding = 'same'))\n",
    "# POOLING LAYER\n",
    "model.add(MaxPooling2D(pool_size=(2, 2)))\n",
    "model.add(Dropout(0.3))\n",
    "\n",
    "## THIRD SET OF LAYERS\n",
    "\n",
    "# CONVOLUTIONAL LAYER\n",
    "model.add(Conv2D(filters=128, kernel_size=(3,3),input_shape=(32, 32, 3),\n",
    "                 activation='relu', padding = 'same'))\n",
    "model.add(Conv2D(filters=128, kernel_size=(3,3),input_shape=(32, 32, 3),\n",
    "                 activation='relu', padding = 'same'))\n",
    "# POOLING LAYER\n",
    "model.add(MaxPooling2D(pool_size=(2, 2)))\n",
    "model.add(Dropout(0.3))\n",
    "\n",
    "# BATCH NORMALIZATION\n",
    "model.add(BatchNormalization())\n",
    "\n",
    "\n",
    "# FLATTENING IMAGES\n",
    "model.add(Flatten())\n",
    "\n",
    "# HIDDEN LAYER\n",
    "model.add(Dense(512, activation='relu', kernel_regularizer=l2(0.001)))\n",
    "model.add(Dropout(0.5))\n",
    "\n",
    "# OUTPUT LAYER\n",
    "model.add(Dense(10, activation='softmax'))\n",
    "\n",
    "\n",
    "model.compile(loss='categorical_crossentropy',\n",
    "              optimizer='adam',\n",
    "              metrics=['accuracy'])"
   ]
  },
  {
   "cell_type": "code",
   "execution_count": 9,
   "metadata": {},
   "outputs": [
    {
     "name": "stdout",
     "output_type": "stream",
     "text": [
      "Model: \"sequential\"\n",
      "_________________________________________________________________\n",
      "Layer (type)                 Output Shape              Param #   \n",
      "=================================================================\n",
      "conv2d (Conv2D)              (None, 32, 32, 32)        896       \n",
      "_________________________________________________________________\n",
      "conv2d_1 (Conv2D)            (None, 32, 32, 32)        9248      \n",
      "_________________________________________________________________\n",
      "max_pooling2d (MaxPooling2D) (None, 16, 16, 32)        0         \n",
      "_________________________________________________________________\n",
      "dropout (Dropout)            (None, 16, 16, 32)        0         \n",
      "_________________________________________________________________\n",
      "conv2d_2 (Conv2D)            (None, 16, 16, 64)        18496     \n",
      "_________________________________________________________________\n",
      "conv2d_3 (Conv2D)            (None, 16, 16, 64)        36928     \n",
      "_________________________________________________________________\n",
      "max_pooling2d_1 (MaxPooling2 (None, 8, 8, 64)          0         \n",
      "_________________________________________________________________\n",
      "dropout_1 (Dropout)          (None, 8, 8, 64)          0         \n",
      "_________________________________________________________________\n",
      "conv2d_4 (Conv2D)            (None, 8, 8, 128)         73856     \n",
      "_________________________________________________________________\n",
      "conv2d_5 (Conv2D)            (None, 8, 8, 128)         147584    \n",
      "_________________________________________________________________\n",
      "max_pooling2d_2 (MaxPooling2 (None, 4, 4, 128)         0         \n",
      "_________________________________________________________________\n",
      "dropout_2 (Dropout)          (None, 4, 4, 128)         0         \n",
      "_________________________________________________________________\n",
      "batch_normalization (BatchNo (None, 4, 4, 128)         512       \n",
      "_________________________________________________________________\n",
      "flatten (Flatten)            (None, 2048)              0         \n",
      "_________________________________________________________________\n",
      "dense (Dense)                (None, 512)               1049088   \n",
      "_________________________________________________________________\n",
      "dropout_3 (Dropout)          (None, 512)               0         \n",
      "_________________________________________________________________\n",
      "dense_1 (Dense)              (None, 10)                5130      \n",
      "=================================================================\n",
      "Total params: 1,341,738\n",
      "Trainable params: 1,341,482\n",
      "Non-trainable params: 256\n",
      "_________________________________________________________________\n"
     ]
    }
   ],
   "source": [
    "model.summary()"
   ]
  },
  {
   "cell_type": "code",
   "execution_count": 10,
   "metadata": {},
   "outputs": [],
   "source": [
    "early_stop = EarlyStopping(monitor='val_loss',patience=20)"
   ]
  },
  {
   "cell_type": "code",
   "execution_count": 11,
   "metadata": {},
   "outputs": [
    {
     "name": "stdout",
     "output_type": "stream",
     "text": [
      "Epoch 1/200\n",
      "1563/1563 [==============================] - 241s 153ms/step - loss: 2.2833 - accuracy: 0.3027 - val_loss: 1.5342 - val_accuracy: 0.5008\n",
      "Epoch 2/200\n",
      "1563/1563 [==============================] - 239s 153ms/step - loss: 1.5175 - accuracy: 0.5109 - val_loss: 1.4442 - val_accuracy: 0.5577\n",
      "Epoch 3/200\n",
      "1563/1563 [==============================] - 241s 154ms/step - loss: 1.3841 - accuracy: 0.5823 - val_loss: 1.1865 - val_accuracy: 0.6531\n",
      "Epoch 4/200\n",
      "1563/1563 [==============================] - 241s 154ms/step - loss: 1.2539 - accuracy: 0.6258 - val_loss: 1.0987 - val_accuracy: 0.6800\n",
      "Epoch 5/200\n",
      "1563/1563 [==============================] - 240s 154ms/step - loss: 1.1865 - accuracy: 0.6529 - val_loss: 1.0417 - val_accuracy: 0.7046\n",
      "Epoch 6/200\n",
      "1563/1563 [==============================] - 241s 154ms/step - loss: 1.1328 - accuracy: 0.6766 - val_loss: 1.0441 - val_accuracy: 0.7150\n",
      "Epoch 7/200\n",
      "1563/1563 [==============================] - 241s 154ms/step - loss: 1.1081 - accuracy: 0.6898 - val_loss: 1.1773 - val_accuracy: 0.6820\n",
      "Epoch 8/200\n",
      "1563/1563 [==============================] - 241s 154ms/step - loss: 1.0707 - accuracy: 0.7046 - val_loss: 1.0269 - val_accuracy: 0.7230\n",
      "Epoch 9/200\n",
      "1563/1563 [==============================] - 241s 154ms/step - loss: 1.0438 - accuracy: 0.7190 - val_loss: 1.0174 - val_accuracy: 0.7292\n",
      "Epoch 10/200\n",
      "1563/1563 [==============================] - 239s 153ms/step - loss: 1.0164 - accuracy: 0.7216 - val_loss: 0.9560 - val_accuracy: 0.7454\n",
      "Epoch 11/200\n",
      "1563/1563 [==============================] - 238s 153ms/step - loss: 0.9828 - accuracy: 0.7325 - val_loss: 0.9443 - val_accuracy: 0.7571\n",
      "Epoch 12/200\n",
      "1563/1563 [==============================] - 246s 157ms/step - loss: 0.9961 - accuracy: 0.7401 - val_loss: 0.8861 - val_accuracy: 0.7707\n",
      "Epoch 13/200\n",
      "1563/1563 [==============================] - 236s 151ms/step - loss: 0.9457 - accuracy: 0.7494 - val_loss: 0.8841 - val_accuracy: 0.7725\n",
      "Epoch 14/200\n",
      "1563/1563 [==============================] - 231s 148ms/step - loss: 0.9540 - accuracy: 0.7550 - val_loss: 0.8792 - val_accuracy: 0.7823\n",
      "Epoch 15/200\n",
      "1563/1563 [==============================] - 230s 147ms/step - loss: 0.9227 - accuracy: 0.7621 - val_loss: 0.9143 - val_accuracy: 0.7672\n",
      "Epoch 16/200\n",
      "1563/1563 [==============================] - 232s 149ms/step - loss: 0.9130 - accuracy: 0.7638 - val_loss: 0.9408 - val_accuracy: 0.7617\n",
      "Epoch 17/200\n",
      "1563/1563 [==============================] - 232s 148ms/step - loss: 0.9032 - accuracy: 0.7703 - val_loss: 0.8569 - val_accuracy: 0.7886\n",
      "Epoch 18/200\n",
      "1563/1563 [==============================] - 234s 150ms/step - loss: 0.8795 - accuracy: 0.7745 - val_loss: 1.1150 - val_accuracy: 0.7265\n",
      "Epoch 19/200\n",
      "1563/1563 [==============================] - 233s 149ms/step - loss: 0.8803 - accuracy: 0.7762 - val_loss: 0.8330 - val_accuracy: 0.7939\n",
      "Epoch 20/200\n",
      "1563/1563 [==============================] - 231s 148ms/step - loss: 0.8674 - accuracy: 0.7821 - val_loss: 0.7945 - val_accuracy: 0.8036\n",
      "Epoch 21/200\n",
      "1563/1563 [==============================] - 233s 149ms/step - loss: 0.8277 - accuracy: 0.7906 - val_loss: 0.8114 - val_accuracy: 0.7998\n",
      "Epoch 22/200\n",
      "1563/1563 [==============================] - 233s 149ms/step - loss: 0.8390 - accuracy: 0.7882 - val_loss: 0.8905 - val_accuracy: 0.7841\n",
      "Epoch 23/200\n",
      "1563/1563 [==============================] - 234s 149ms/step - loss: 0.8494 - accuracy: 0.7893 - val_loss: 0.7750 - val_accuracy: 0.8114\n",
      "Epoch 24/200\n",
      "1563/1563 [==============================] - 233s 149ms/step - loss: 0.8144 - accuracy: 0.7976 - val_loss: 0.8049 - val_accuracy: 0.8065\n",
      "Epoch 25/200\n",
      "1563/1563 [==============================] - 235s 151ms/step - loss: 0.7976 - accuracy: 0.8032 - val_loss: 0.8057 - val_accuracy: 0.8039\n",
      "Epoch 26/200\n",
      "1563/1563 [==============================] - 237s 152ms/step - loss: 0.8022 - accuracy: 0.8024 - val_loss: 0.7677 - val_accuracy: 0.8132\n",
      "Epoch 27/200\n",
      "1563/1563 [==============================] - 238s 152ms/step - loss: 0.7851 - accuracy: 0.8057 - val_loss: 0.7534 - val_accuracy: 0.8185\n",
      "Epoch 28/200\n",
      "1563/1563 [==============================] - 239s 153ms/step - loss: 0.7756 - accuracy: 0.8092 - val_loss: 0.7466 - val_accuracy: 0.8191\n",
      "Epoch 29/200\n",
      "1563/1563 [==============================] - 236s 151ms/step - loss: 0.7679 - accuracy: 0.8104 - val_loss: 0.7777 - val_accuracy: 0.8137\n",
      "Epoch 30/200\n",
      "1563/1563 [==============================] - 226s 145ms/step - loss: 0.7654 - accuracy: 0.8127 - val_loss: 0.7792 - val_accuracy: 0.8095\n",
      "Epoch 31/200\n",
      "1563/1563 [==============================] - 227s 145ms/step - loss: 0.7518 - accuracy: 0.8155 - val_loss: 0.7307 - val_accuracy: 0.8208\n",
      "Epoch 32/200\n",
      "1563/1563 [==============================] - 228s 146ms/step - loss: 0.7561 - accuracy: 0.8149 - val_loss: 0.8503 - val_accuracy: 0.7946\n",
      "Epoch 33/200\n",
      "1563/1563 [==============================] - 228s 146ms/step - loss: 0.7621 - accuracy: 0.8138 - val_loss: 0.7478 - val_accuracy: 0.8176\n",
      "Epoch 34/200\n",
      "1563/1563 [==============================] - 227s 146ms/step - loss: 0.7409 - accuracy: 0.8196 - val_loss: 0.7604 - val_accuracy: 0.8158\n",
      "Epoch 35/200\n",
      "1563/1563 [==============================] - 228s 146ms/step - loss: 0.7297 - accuracy: 0.8208 - val_loss: 0.7082 - val_accuracy: 0.8296\n",
      "Epoch 36/200\n",
      "1563/1563 [==============================] - 227s 145ms/step - loss: 0.7210 - accuracy: 0.8236 - val_loss: 0.7652 - val_accuracy: 0.8140\n",
      "Epoch 37/200\n",
      "1563/1563 [==============================] - 228s 146ms/step - loss: 0.7150 - accuracy: 0.8245 - val_loss: 0.7228 - val_accuracy: 0.8250\n",
      "Epoch 38/200\n",
      "1563/1563 [==============================] - 227s 145ms/step - loss: 0.7190 - accuracy: 0.8261 - val_loss: 0.7237 - val_accuracy: 0.8249\n",
      "Epoch 39/200\n",
      "1563/1563 [==============================] - 229s 146ms/step - loss: 0.7119 - accuracy: 0.8268 - val_loss: 0.7160 - val_accuracy: 0.8302\n",
      "Epoch 40/200\n",
      "1563/1563 [==============================] - 227s 145ms/step - loss: 0.6870 - accuracy: 0.8332 - val_loss: 0.7151 - val_accuracy: 0.8257\n",
      "Epoch 41/200\n",
      "1563/1563 [==============================] - 228s 146ms/step - loss: 0.6985 - accuracy: 0.8328 - val_loss: 0.7192 - val_accuracy: 0.8280\n",
      "Epoch 42/200\n",
      "1563/1563 [==============================] - 227s 145ms/step - loss: 0.6800 - accuracy: 0.8367 - val_loss: 0.7248 - val_accuracy: 0.8262\n",
      "Epoch 43/200\n",
      "1563/1563 [==============================] - 227s 145ms/step - loss: 0.6859 - accuracy: 0.8350 - val_loss: 0.6981 - val_accuracy: 0.8332\n",
      "Epoch 44/200\n",
      "1563/1563 [==============================] - 227s 145ms/step - loss: 0.6804 - accuracy: 0.8383 - val_loss: 0.7291 - val_accuracy: 0.8224\n",
      "Epoch 45/200\n",
      "1563/1563 [==============================] - 227s 145ms/step - loss: 0.6649 - accuracy: 0.8408 - val_loss: 0.7086 - val_accuracy: 0.8386\n",
      "Epoch 46/200\n",
      "1563/1563 [==============================] - 226s 145ms/step - loss: 0.6835 - accuracy: 0.8369 - val_loss: 0.7213 - val_accuracy: 0.8294\n",
      "Epoch 47/200\n",
      "1563/1563 [==============================] - 226s 145ms/step - loss: 0.6760 - accuracy: 0.8389 - val_loss: 0.6964 - val_accuracy: 0.8383\n",
      "Epoch 48/200\n",
      "1563/1563 [==============================] - 227s 145ms/step - loss: 0.6678 - accuracy: 0.8421 - val_loss: 0.7478 - val_accuracy: 0.8220\n",
      "Epoch 49/200\n",
      "1563/1563 [==============================] - 226s 145ms/step - loss: 0.6595 - accuracy: 0.8448 - val_loss: 0.7176 - val_accuracy: 0.8328\n",
      "Epoch 50/200\n",
      "1563/1563 [==============================] - 227s 145ms/step - loss: 0.6730 - accuracy: 0.8413 - val_loss: 0.6807 - val_accuracy: 0.8401\n",
      "Epoch 51/200\n",
      "1563/1563 [==============================] - 227s 145ms/step - loss: 0.6536 - accuracy: 0.8459 - val_loss: 0.6840 - val_accuracy: 0.8383\n",
      "Epoch 52/200\n",
      "1563/1563 [==============================] - 228s 146ms/step - loss: 0.6491 - accuracy: 0.8478 - val_loss: 0.6913 - val_accuracy: 0.8372\n",
      "Epoch 53/200\n",
      "1563/1563 [==============================] - 228s 146ms/step - loss: 0.6296 - accuracy: 0.8525 - val_loss: 0.7336 - val_accuracy: 0.8250\n",
      "Epoch 54/200\n",
      "1563/1563 [==============================] - 227s 145ms/step - loss: 0.6437 - accuracy: 0.8488 - val_loss: 0.8781 - val_accuracy: 0.7832\n",
      "Epoch 55/200\n",
      "1563/1563 [==============================] - 227s 145ms/step - loss: 0.6557 - accuracy: 0.8454 - val_loss: 0.6938 - val_accuracy: 0.8350\n"
     ]
    },
    {
     "name": "stdout",
     "output_type": "stream",
     "text": [
      "Epoch 56/200\n",
      "1563/1563 [==============================] - 231s 148ms/step - loss: 0.6396 - accuracy: 0.8519 - val_loss: 0.6735 - val_accuracy: 0.8413\n",
      "Epoch 57/200\n",
      "1563/1563 [==============================] - 240s 153ms/step - loss: 0.6403 - accuracy: 0.8496 - val_loss: 0.6680 - val_accuracy: 0.8426\n",
      "Epoch 58/200\n",
      "1563/1563 [==============================] - 241s 154ms/step - loss: 0.6162 - accuracy: 0.8573 - val_loss: 0.6758 - val_accuracy: 0.8393\n",
      "Epoch 59/200\n",
      "1563/1563 [==============================] - 241s 154ms/step - loss: 0.6270 - accuracy: 0.8503 - val_loss: 0.6754 - val_accuracy: 0.8412\n",
      "Epoch 60/200\n",
      "1563/1563 [==============================] - 241s 154ms/step - loss: 0.6129 - accuracy: 0.8576 - val_loss: 0.6873 - val_accuracy: 0.8389\n",
      "Epoch 61/200\n",
      "1563/1563 [==============================] - 243s 155ms/step - loss: 0.6212 - accuracy: 0.8556 - val_loss: 0.6655 - val_accuracy: 0.8476\n",
      "Epoch 62/200\n",
      "1563/1563 [==============================] - 242s 155ms/step - loss: 0.6235 - accuracy: 0.8506 - val_loss: 0.6816 - val_accuracy: 0.8405\n",
      "Epoch 63/200\n",
      "1563/1563 [==============================] - 240s 154ms/step - loss: 0.6229 - accuracy: 0.8547 - val_loss: 0.6961 - val_accuracy: 0.8346\n",
      "Epoch 64/200\n",
      "1563/1563 [==============================] - 240s 154ms/step - loss: 0.6006 - accuracy: 0.8588 - val_loss: 0.6701 - val_accuracy: 0.8433\n",
      "Epoch 65/200\n",
      "1563/1563 [==============================] - 241s 154ms/step - loss: 0.5990 - accuracy: 0.8601 - val_loss: 0.6823 - val_accuracy: 0.8445\n",
      "Epoch 66/200\n",
      "1563/1563 [==============================] - 241s 154ms/step - loss: 0.5988 - accuracy: 0.8630 - val_loss: 0.7195 - val_accuracy: 0.8327\n",
      "Epoch 67/200\n",
      "1563/1563 [==============================] - 240s 154ms/step - loss: 0.6097 - accuracy: 0.8604 - val_loss: 0.7164 - val_accuracy: 0.8350\n",
      "Epoch 68/200\n",
      "1563/1563 [==============================] - 241s 154ms/step - loss: 0.6052 - accuracy: 0.8592 - val_loss: 0.6978 - val_accuracy: 0.8360\n",
      "Epoch 69/200\n",
      "1563/1563 [==============================] - 244s 156ms/step - loss: 0.6092 - accuracy: 0.8604 - val_loss: 0.6747 - val_accuracy: 0.8467\n",
      "Epoch 70/200\n",
      "1563/1563 [==============================] - 249s 159ms/step - loss: 0.5976 - accuracy: 0.8631 - val_loss: 0.6702 - val_accuracy: 0.8416\n",
      "Epoch 71/200\n",
      "1563/1563 [==============================] - 236s 151ms/step - loss: 0.6051 - accuracy: 0.8600 - val_loss: 0.6835 - val_accuracy: 0.8466\n",
      "Epoch 72/200\n",
      "1563/1563 [==============================] - 236s 151ms/step - loss: 0.5969 - accuracy: 0.8629 - val_loss: 0.6867 - val_accuracy: 0.8422\n",
      "Epoch 73/200\n",
      "1563/1563 [==============================] - 238s 152ms/step - loss: 0.5959 - accuracy: 0.8641 - val_loss: 0.6871 - val_accuracy: 0.8400\n",
      "Epoch 74/200\n",
      "1563/1563 [==============================] - 238s 153ms/step - loss: 0.6021 - accuracy: 0.8624 - val_loss: 0.6888 - val_accuracy: 0.8413\n",
      "Epoch 75/200\n",
      "1563/1563 [==============================] - 238s 152ms/step - loss: 0.5871 - accuracy: 0.8663 - val_loss: 0.6701 - val_accuracy: 0.8439\n",
      "Epoch 76/200\n",
      "1563/1563 [==============================] - 238s 152ms/step - loss: 0.5821 - accuracy: 0.8658 - val_loss: 0.6690 - val_accuracy: 0.8500\n",
      "Epoch 77/200\n",
      "1563/1563 [==============================] - 235s 151ms/step - loss: 0.5898 - accuracy: 0.8657 - val_loss: 0.6851 - val_accuracy: 0.8420\n",
      "Epoch 78/200\n",
      "1563/1563 [==============================] - 238s 152ms/step - loss: 0.5874 - accuracy: 0.8648 - val_loss: 0.6670 - val_accuracy: 0.8448\n",
      "Epoch 79/200\n",
      "1563/1563 [==============================] - 232s 148ms/step - loss: 0.5850 - accuracy: 0.8663 - val_loss: 0.6754 - val_accuracy: 0.8412\n",
      "Epoch 80/200\n",
      "1563/1563 [==============================] - 231s 148ms/step - loss: 0.5882 - accuracy: 0.8664 - val_loss: 0.8377 - val_accuracy: 0.8389\n",
      "Epoch 81/200\n",
      "1563/1563 [==============================] - 232s 149ms/step - loss: 0.5965 - accuracy: 0.8656 - val_loss: 0.6781 - val_accuracy: 0.8433\n"
     ]
    },
    {
     "data": {
      "text/plain": [
       "<tensorflow.python.keras.callbacks.History at 0x1ae24bfcd30>"
      ]
     },
     "execution_count": 11,
     "metadata": {},
     "output_type": "execute_result"
    }
   ],
   "source": [
    "model.fit(X_train, y_cat_train, epochs=200, validation_data=(X_test, to_categorical(y_test,10)), callbacks=[early_stop])"
   ]
  },
  {
   "cell_type": "code",
   "execution_count": 12,
   "metadata": {},
   "outputs": [
    {
     "data": {
      "text/plain": [
       "<AxesSubplot:>"
      ]
     },
     "execution_count": 12,
     "metadata": {},
     "output_type": "execute_result"
    },
    {
     "data": {
      "image/png": "[encoded data removed]",
      "text/plain": [
       "<Figure size 432x288 with 1 Axes>"
      ]
     },
     "metadata": {
      "needs_background": "light"
     },
     "output_type": "display_data"
    }
   ],
   "source": [
    "losses = pd.DataFrame(model.history.history)\n",
    "losses.plot()"
   ]
  },
  {
   "cell_type": "code",
   "execution_count": 13,
   "metadata": {},
   "outputs": [
    {
     "name": "stderr",
     "output_type": "stream",
     "text": [
      "C:\\Users\\Mateusz\\AppData\\Roaming\\Python\\Python38\\site-packages\\tensorflow\\python\\keras\\engine\\sequential.py:450: UserWarning: `model.predict_classes()` is deprecated and will be removed after 2021-01-01. Please use instead:* `np.argmax(model.predict(x), axis=-1)`,   if your model does multi-class classification   (e.g. if it uses a `softmax` last-layer activation).* `(model.predict(x) > 0.5).astype(\"int32\")`,   if your model does binary classification   (e.g. if it uses a `sigmoid` last-layer activation).\n",
      "  warnings.warn('`model.predict_classes()` is deprecated and '\n"
     ]
    }
   ],
   "source": [
    "predictions = model.predict_classes(X_test)"
   ]
  },
  {
   "cell_type": "code",
   "execution_count": 14,
   "metadata": {},
   "outputs": [
    {
     "name": "stdout",
     "output_type": "stream",
     "text": [
      "              precision    recall  f1-score   support\n",
      "\n",
      "           0       0.84      0.88      0.86      1000\n",
      "           1       0.94      0.91      0.93      1000\n",
      "           2       0.83      0.72      0.77      1000\n",
      "           3       0.82      0.59      0.69      1000\n",
      "           4       0.75      0.89      0.82      1000\n",
      "           5       0.75      0.79      0.77      1000\n",
      "           6       0.86      0.92      0.89      1000\n",
      "           7       0.89      0.88      0.88      1000\n",
      "           8       0.92      0.92      0.92      1000\n",
      "           9       0.86      0.93      0.89      1000\n",
      "\n",
      "    accuracy                           0.84     10000\n",
      "   macro avg       0.84      0.84      0.84     10000\n",
      "weighted avg       0.84      0.84      0.84     10000\n",
      "\n"
     ]
    },
    {
     "data": {
      "text/plain": [
       "array([[876,   6,  21,   9,  10,   1,   5,   5,  44,  23],\n",
       "       [ 11, 914,   1,   0,   2,   2,   1,   1,   8,  60],\n",
       "       [ 46,   0, 725,  18,  81,  57,  47,  13,   7,   6],\n",
       "       [ 17,   2,  44, 591,  78, 151,  62,  28,   9,  18],\n",
       "       [  7,   1,  22,  13, 893,  20,  18,  23,   2,   1],\n",
       "       [  8,   1,  26,  66,  50, 793,  13,  34,   3,   6],\n",
       "       [  6,   2,  22,  13,  20,   5, 922,   3,   4,   3],\n",
       "       [ 10,   1,   9,   5,  49,  31,   3, 879,   3,  10],\n",
       "       [ 41,   9,   4,   4,   3,   0,   3,   2, 915,  19],\n",
       "       [ 22,  34,   3,   5,   2,   0,   1,   4,   4, 925]], dtype=int64)"
      ]
     },
     "execution_count": 14,
     "metadata": {},
     "output_type": "execute_result"
    }
   ],
   "source": [
    "print(classification_report(y_test,predictions))\n",
    "confusion_matrix(y_test,predictions)"
   ]
  },
  {
   "cell_type": "code",
   "execution_count": 15,
   "metadata": {},
   "outputs": [
    {
     "data": {
      "text/plain": [
       "<AxesSubplot:>"
      ]
     },
     "execution_count": 15,
     "metadata": {},
     "output_type": "execute_result"
    },
    {
     "data": {
      "image/png": "[encoded data removed]",
      "text/plain": [
       "<Figure size 432x288 with 2 Axes>"
      ]
     },
     "metadata": {
      "needs_background": "light"
     },
     "output_type": "display_data"
    }
   ],
   "source": [
    "sns.heatmap(confusion_matrix(y_test,predictions), annot = True)"
   ]
  },
  {
   "cell_type": "code",
   "execution_count": 16,
   "metadata": {},
   "outputs": [],
   "source": [
    "test_images = []\n",
    "for i in range(1,300_001):\n",
    "    test_images.append(imread('test/'+str(i)+'.png'))\n",
    "X_test = np.array(test_images)\n",
    "predictions = model.predict_classes(X_test)"
   ]
  },
  {
   "cell_type": "code",
   "execution_count": 17,
   "metadata": {},
   "outputs": [],
   "source": [
    "prediction_labels = [reversed_mapping[x] for x in predictions]\n",
    "predictions_df = pd.DataFrame({'id':range(1,len(prediction_labels)+1), 'label':prediction_labels})\n",
    "predictions_df.to_csv(\"kaggle_final_new_3.csv\", index = None)"
   ]
  },
  {
   "cell_type": "code",
   "execution_count": 19,
   "metadata": {},
   "outputs": [],
   "source": [
    "predictions2_df = pd.DataFrame(model.predict(X_test))\n",
    "predictions2_df.to_csv(\"kaggle_final_new_3_classes.csv\", index = None)"
   ]
  }
 ],
 "metadata": {
  "kernelspec": {
   "display_name": "Python 3",
   "language": "python",
   "name": "python3"
  },
  "language_info": {
   "codemirror_mode": {
    "name": "ipython",
    "version": 3
   },
   "file_extension": ".py",
   "mimetype": "text/x-python",
   "name": "python",
   "nbconvert_exporter": "python",
   "pygments_lexer": "ipython3",
   "version": "3.8.5"
  }
 },
 "nbformat": 4,
 "nbformat_minor": 4
}
