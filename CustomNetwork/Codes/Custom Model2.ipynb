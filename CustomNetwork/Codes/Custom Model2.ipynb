{
 "cells": [
  {
   "cell_type": "code",
   "execution_count": 1,
   "metadata": {},
   "outputs": [],
   "source": [
    "import pandas as pd\n",
    "import numpy as np\n",
    "from matplotlib.image import imread\n",
    "import matplotlib.pyplot as plt\n",
    "import seaborn as sns\n",
    "\n",
    "from tensorflow.keras.utils import to_categorical\n",
    "from tensorflow.keras.models import Sequential\n",
    "from tensorflow.keras.layers import Dense, Conv2D, MaxPooling2D, Flatten, AveragePooling2D, BatchNormalization, Activation, Dropout\n",
    "from sklearn.metrics import classification_report,confusion_matrix\n",
    "from tensorflow.keras.datasets import cifar10\n",
    "from tensorflow.keras.callbacks import EarlyStopping\n",
    "from tensorflow.keras.regularizers import l2"
   ]
  },
  {
   "cell_type": "code",
   "execution_count": 2,
   "metadata": {},
   "outputs": [],
   "source": [
    "seed_value= 10\n",
    "\n",
    "import os\n",
    "os.environ['PYTHONHASHSEED']=str(seed_value)\n",
    "\n",
    "import random\n",
    "random.seed(seed_value)\n",
    "\n",
    "import numpy as np\n",
    "np.random.seed(seed_value)\n",
    "\n",
    "import tensorflow as tf\n",
    "tf.random.set_seed(seed_value)\n",
    "\n",
    "session_conf = tf.compat.v1.ConfigProto(intra_op_parallelism_threads=1, inter_op_parallelism_threads=1)\n",
    "sess = tf.compat.v1.Session(graph=tf.compat.v1.get_default_graph(), config=session_conf)\n",
    "tf.compat.v1.keras.backend.set_session(sess)"
   ]
  },
  {
   "cell_type": "code",
   "execution_count": 3,
   "metadata": {},
   "outputs": [],
   "source": [
    "labels = pd.read_csv('trainLabels.csv')"
   ]
  },
  {
   "cell_type": "code",
   "execution_count": 4,
   "metadata": {},
   "outputs": [],
   "source": [
    "train_images = []\n",
    "for i in labels.id:\n",
    "    train_images.append(imread('train/'+str(i)+'.png'))\n",
    "\n",
    "X_train = np.array(train_images)"
   ]
  },
  {
   "cell_type": "code",
   "execution_count": 5,
   "metadata": {},
   "outputs": [],
   "source": [
    "animals = sorted(labels.label.unique())\n",
    "mapping = {}\n",
    "for i in range(len(animals)):\n",
    "    mapping[animals[i]] = i\n",
    "\n",
    "reversed_mapping = {v:k for k,v in mapping.items()}"
   ]
  },
  {
   "cell_type": "code",
   "execution_count": 6,
   "metadata": {},
   "outputs": [],
   "source": [
    "y_train = labels.label.apply(lambda x: mapping[x])\n",
    "y_cat_train = to_categorical(y_train,10)"
   ]
  },
  {
   "cell_type": "code",
   "execution_count": 7,
   "metadata": {},
   "outputs": [],
   "source": [
    "(_, _), (X_test, y_test) = cifar10.load_data()\n",
    "X_test = X_test/255"
   ]
  },
  {
   "cell_type": "code",
   "execution_count": 8,
   "metadata": {},
   "outputs": [],
   "source": [
    "model = Sequential()\n",
    "\n",
    "## FIRST SET OF LAYERS\n",
    "\n",
    "# CONVOLUTIONAL LAYER\n",
    "model.add(Conv2D(filters=32, kernel_size=(3,3),input_shape=(32, 32, 3), \n",
    "                 activation='relu', padding = 'same'))\n",
    "model.add(Conv2D(filters=32, kernel_size=(3,3),input_shape=(32, 32, 3), \n",
    "                 activation='relu', padding = 'same'))\n",
    "# POOLING LAYER\n",
    "model.add(MaxPooling2D(pool_size=(2, 2)))\n",
    "model.add(Dropout(0.3))\n",
    "\n",
    "## SECOND SET OF LAYERS\n",
    "\n",
    "# CONVOLUTIONAL LAYER\n",
    "model.add(Conv2D(filters=64, kernel_size=(3,3),input_shape=(32, 32, 3), \n",
    "                 activation='relu', padding = 'same'))\n",
    "model.add(Conv2D(filters=64, kernel_size=(3,3),input_shape=(32, 32, 3), \n",
    "                 activation='relu', padding = 'same'))\n",
    "# POOLING LAYER\n",
    "model.add(MaxPooling2D(pool_size=(2, 2)))\n",
    "model.add(Dropout(0.3))\n",
    "\n",
    "## THIRD SET OF LAYERS\n",
    "\n",
    "# CONVOLUTIONAL LAYER\n",
    "model.add(Conv2D(filters=128, kernel_size=(3,3),input_shape=(32, 32, 3),\n",
    "                 activation='relu', padding = 'same'))\n",
    "model.add(Conv2D(filters=128, kernel_size=(3,3),input_shape=(32, 32, 3),\n",
    "                 activation='relu', padding = 'same'))\n",
    "# POOLING LAYER\n",
    "model.add(MaxPooling2D(pool_size=(2, 2)))\n",
    "model.add(Dropout(0.3))\n",
    "\n",
    "# BATCH NORMALIZATION\n",
    "model.add(BatchNormalization())\n",
    "\n",
    "\n",
    "# FLATTENING IMAGES\n",
    "model.add(Flatten())\n",
    "\n",
    "# HIDDEN LAYER\n",
    "model.add(Dense(512, activation='relu', kernel_regularizer=l2(0.001)))\n",
    "model.add(Dropout(0.4))\n",
    "\n",
    "# OUTPUT LAYER\n",
    "model.add(Dense(10, activation='softmax'))\n",
    "\n",
    "\n",
    "model.compile(loss='categorical_crossentropy',\n",
    "              optimizer='adam',\n",
    "              metrics=['accuracy'])"
   ]
  },
  {
   "cell_type": "code",
   "execution_count": 9,
   "metadata": {},
   "outputs": [
    {
     "name": "stdout",
     "output_type": "stream",
     "text": [
      "Model: \"sequential\"\n",
      "_________________________________________________________________\n",
      "Layer (type)                 Output Shape              Param #   \n",
      "=================================================================\n",
      "conv2d (Conv2D)              (None, 32, 32, 32)        896       \n",
      "_________________________________________________________________\n",
      "conv2d_1 (Conv2D)            (None, 32, 32, 32)        9248      \n",
      "_________________________________________________________________\n",
      "max_pooling2d (MaxPooling2D) (None, 16, 16, 32)        0         \n",
      "_________________________________________________________________\n",
      "dropout (Dropout)            (None, 16, 16, 32)        0         \n",
      "_________________________________________________________________\n",
      "conv2d_2 (Conv2D)            (None, 16, 16, 64)        18496     \n",
      "_________________________________________________________________\n",
      "conv2d_3 (Conv2D)            (None, 16, 16, 64)        36928     \n",
      "_________________________________________________________________\n",
      "max_pooling2d_1 (MaxPooling2 (None, 8, 8, 64)          0         \n",
      "_________________________________________________________________\n",
      "dropout_1 (Dropout)          (None, 8, 8, 64)          0         \n",
      "_________________________________________________________________\n",
      "conv2d_4 (Conv2D)            (None, 8, 8, 128)         73856     \n",
      "_________________________________________________________________\n",
      "conv2d_5 (Conv2D)            (None, 8, 8, 128)         147584    \n",
      "_________________________________________________________________\n",
      "max_pooling2d_2 (MaxPooling2 (None, 4, 4, 128)         0         \n",
      "_________________________________________________________________\n",
      "dropout_2 (Dropout)          (None, 4, 4, 128)         0         \n",
      "_________________________________________________________________\n",
      "batch_normalization (BatchNo (None, 4, 4, 128)         512       \n",
      "_________________________________________________________________\n",
      "flatten (Flatten)            (None, 2048)              0         \n",
      "_________________________________________________________________\n",
      "dense (Dense)                (None, 512)               1049088   \n",
      "_________________________________________________________________\n",
      "dropout_3 (Dropout)          (None, 512)               0         \n",
      "_________________________________________________________________\n",
      "dense_1 (Dense)              (None, 10)                5130      \n",
      "=================================================================\n",
      "Total params: 1,341,738\n",
      "Trainable params: 1,341,482\n",
      "Non-trainable params: 256\n",
      "_________________________________________________________________\n"
     ]
    }
   ],
   "source": [
    "model.summary()"
   ]
  },
  {
   "cell_type": "code",
   "execution_count": 10,
   "metadata": {},
   "outputs": [],
   "source": [
    "early_stop = EarlyStopping(monitor='val_loss',patience=20)"
   ]
  },
  {
   "cell_type": "code",
   "execution_count": 11,
   "metadata": {},
   "outputs": [
    {
     "name": "stdout",
     "output_type": "stream",
     "text": [
      "Epoch 1/200\n",
      "1563/1563 [==============================] - 239s 152ms/step - loss: 2.2296 - accuracy: 0.3331 - val_loss: 1.5943 - val_accuracy: 0.4994\n",
      "Epoch 2/200\n",
      "1563/1563 [==============================] - 240s 154ms/step - loss: 1.4784 - accuracy: 0.5393 - val_loss: 1.2868 - val_accuracy: 0.6147\n",
      "Epoch 3/200\n",
      "1563/1563 [==============================] - 242s 155ms/step - loss: 1.2797 - accuracy: 0.6123 - val_loss: 1.1177 - val_accuracy: 0.6765\n",
      "Epoch 4/200\n",
      "1563/1563 [==============================] - 241s 154ms/step - loss: 1.1773 - accuracy: 0.6470 - val_loss: 1.0553 - val_accuracy: 0.7045\n",
      "Epoch 5/200\n",
      "1563/1563 [==============================] - 241s 154ms/step - loss: 1.1402 - accuracy: 0.6745 - val_loss: 0.9898 - val_accuracy: 0.7310\n",
      "Epoch 6/200\n",
      "1563/1563 [==============================] - 242s 155ms/step - loss: 1.0856 - accuracy: 0.6917 - val_loss: 0.9790 - val_accuracy: 0.7287\n",
      "Epoch 7/200\n",
      "1563/1563 [==============================] - 241s 154ms/step - loss: 1.0325 - accuracy: 0.7096 - val_loss: 0.9591 - val_accuracy: 0.7565\n",
      "Epoch 8/200\n",
      "1563/1563 [==============================] - 242s 155ms/step - loss: 1.0201 - accuracy: 0.7253 - val_loss: 1.0663 - val_accuracy: 0.7129\n",
      "Epoch 9/200\n",
      "1563/1563 [==============================] - 241s 154ms/step - loss: 1.0015 - accuracy: 0.7348 - val_loss: 0.9377 - val_accuracy: 0.7598\n",
      "Epoch 10/200\n",
      "1563/1563 [==============================] - 239s 153ms/step - loss: 0.9614 - accuracy: 0.7418 - val_loss: 0.8619 - val_accuracy: 0.7763\n",
      "Epoch 11/200\n",
      "1563/1563 [==============================] - 239s 153ms/step - loss: 0.9447 - accuracy: 0.7445 - val_loss: 0.8882 - val_accuracy: 0.7637\n",
      "Epoch 12/200\n",
      "1563/1563 [==============================] - 247s 158ms/step - loss: 0.9270 - accuracy: 0.7521 - val_loss: 0.8400 - val_accuracy: 0.7884\n",
      "Epoch 13/200\n",
      "1563/1563 [==============================] - 236s 151ms/step - loss: 0.8901 - accuracy: 0.7685 - val_loss: 0.9008 - val_accuracy: 0.7654\n",
      "Epoch 14/200\n",
      "1563/1563 [==============================] - 232s 148ms/step - loss: 0.8737 - accuracy: 0.7715 - val_loss: 0.8079 - val_accuracy: 0.7974\n",
      "Epoch 15/200\n",
      "1563/1563 [==============================] - 231s 148ms/step - loss: 0.8595 - accuracy: 0.7765 - val_loss: 0.8728 - val_accuracy: 0.7737\n",
      "Epoch 16/200\n",
      "1563/1563 [==============================] - 233s 149ms/step - loss: 0.8477 - accuracy: 0.7785 - val_loss: 0.7982 - val_accuracy: 0.7942\n",
      "Epoch 17/200\n",
      "1563/1563 [==============================] - 233s 149ms/step - loss: 0.8171 - accuracy: 0.7876 - val_loss: 0.7885 - val_accuracy: 0.7997\n",
      "Epoch 18/200\n",
      "1563/1563 [==============================] - 234s 150ms/step - loss: 0.8070 - accuracy: 0.7920 - val_loss: 0.8314 - val_accuracy: 0.7924\n",
      "Epoch 19/200\n",
      "1563/1563 [==============================] - 234s 150ms/step - loss: 0.8155 - accuracy: 0.7922 - val_loss: 0.8026 - val_accuracy: 0.8011\n",
      "Epoch 20/200\n",
      "1563/1563 [==============================] - 232s 148ms/step - loss: 0.7964 - accuracy: 0.7977 - val_loss: 0.7490 - val_accuracy: 0.8097\n",
      "Epoch 21/200\n",
      "1563/1563 [==============================] - 233s 149ms/step - loss: 0.7766 - accuracy: 0.8041 - val_loss: 0.8756 - val_accuracy: 0.7783\n",
      "Epoch 22/200\n",
      "1563/1563 [==============================] - 234s 150ms/step - loss: 0.7800 - accuracy: 0.8035 - val_loss: 1.0330 - val_accuracy: 0.7866\n",
      "Epoch 23/200\n",
      "1563/1563 [==============================] - 234s 150ms/step - loss: 0.7692 - accuracy: 0.8058 - val_loss: 0.7655 - val_accuracy: 0.8122\n",
      "Epoch 24/200\n",
      "1563/1563 [==============================] - 233s 149ms/step - loss: 0.7521 - accuracy: 0.8128 - val_loss: 0.7593 - val_accuracy: 0.8119\n",
      "Epoch 25/200\n",
      "1563/1563 [==============================] - 236s 151ms/step - loss: 0.7410 - accuracy: 0.8148 - val_loss: 0.7432 - val_accuracy: 0.8187\n",
      "Epoch 26/200\n",
      "1563/1563 [==============================] - 238s 152ms/step - loss: 0.7296 - accuracy: 0.8151 - val_loss: 0.7366 - val_accuracy: 0.8215\n",
      "Epoch 27/200\n",
      "1563/1563 [==============================] - 238s 152ms/step - loss: 0.7171 - accuracy: 0.8194 - val_loss: 0.7468 - val_accuracy: 0.8123\n",
      "Epoch 28/200\n",
      "1563/1563 [==============================] - 240s 154ms/step - loss: 0.7210 - accuracy: 0.8207 - val_loss: 0.7356 - val_accuracy: 0.8180\n",
      "Epoch 29/200\n",
      "1563/1563 [==============================] - 237s 151ms/step - loss: 0.7071 - accuracy: 0.8229 - val_loss: 0.7305 - val_accuracy: 0.8189\n",
      "Epoch 30/200\n",
      "1563/1563 [==============================] - 226s 145ms/step - loss: 0.7038 - accuracy: 0.8208 - val_loss: 0.7133 - val_accuracy: 0.8274\n",
      "Epoch 31/200\n",
      "1563/1563 [==============================] - 227s 145ms/step - loss: 0.6927 - accuracy: 0.8282 - val_loss: 0.7109 - val_accuracy: 0.8251\n",
      "Epoch 32/200\n",
      "1563/1563 [==============================] - 229s 146ms/step - loss: 0.6734 - accuracy: 0.8280 - val_loss: 0.7210 - val_accuracy: 0.8204\n",
      "Epoch 33/200\n",
      "1563/1563 [==============================] - 227s 145ms/step - loss: 0.6844 - accuracy: 0.8294 - val_loss: 0.7048 - val_accuracy: 0.8263\n",
      "Epoch 34/200\n",
      "1563/1563 [==============================] - 228s 146ms/step - loss: 0.6748 - accuracy: 0.8292 - val_loss: 0.7576 - val_accuracy: 0.8286\n",
      "Epoch 35/200\n",
      "1563/1563 [==============================] - 228s 146ms/step - loss: 0.6737 - accuracy: 0.8317 - val_loss: 0.7097 - val_accuracy: 0.8304\n",
      "Epoch 36/200\n",
      "1563/1563 [==============================] - 228s 146ms/step - loss: 0.6671 - accuracy: 0.8345 - val_loss: 0.7522 - val_accuracy: 0.8192\n",
      "Epoch 37/200\n",
      "1563/1563 [==============================] - 228s 146ms/step - loss: 0.6565 - accuracy: 0.8381 - val_loss: 0.6607 - val_accuracy: 0.8376\n",
      "Epoch 38/200\n",
      "1563/1563 [==============================] - 227s 146ms/step - loss: 0.6555 - accuracy: 0.8364 - val_loss: 0.7152 - val_accuracy: 0.8221\n",
      "Epoch 39/200\n",
      "1563/1563 [==============================] - 229s 146ms/step - loss: 0.6522 - accuracy: 0.8369 - val_loss: 0.6869 - val_accuracy: 0.8294\n",
      "Epoch 40/200\n",
      "1563/1563 [==============================] - 228s 146ms/step - loss: 0.6363 - accuracy: 0.8416 - val_loss: 0.6744 - val_accuracy: 0.8358\n",
      "Epoch 41/200\n",
      "1563/1563 [==============================] - 228s 146ms/step - loss: 0.6423 - accuracy: 0.8419 - val_loss: 0.7259 - val_accuracy: 0.8223\n",
      "Epoch 42/200\n",
      "1563/1563 [==============================] - 227s 145ms/step - loss: 0.6235 - accuracy: 0.8476 - val_loss: 0.6795 - val_accuracy: 0.8325\n",
      "Epoch 43/200\n",
      "1563/1563 [==============================] - 228s 146ms/step - loss: 0.6257 - accuracy: 0.8467 - val_loss: 0.6531 - val_accuracy: 0.8406\n",
      "Epoch 44/200\n",
      "1563/1563 [==============================] - 227s 145ms/step - loss: 0.6244 - accuracy: 0.8443 - val_loss: 0.6771 - val_accuracy: 0.8363\n",
      "Epoch 45/200\n",
      "1563/1563 [==============================] - 227s 145ms/step - loss: 0.6157 - accuracy: 0.8475 - val_loss: 0.6676 - val_accuracy: 0.8389\n",
      "Epoch 46/200\n",
      "1563/1563 [==============================] - 226s 145ms/step - loss: 0.6135 - accuracy: 0.8512 - val_loss: 0.6643 - val_accuracy: 0.8366\n",
      "Epoch 47/200\n",
      "1563/1563 [==============================] - 227s 145ms/step - loss: 0.6109 - accuracy: 0.8502 - val_loss: 0.6482 - val_accuracy: 0.8424\n",
      "Epoch 48/200\n",
      "1563/1563 [==============================] - 227s 145ms/step - loss: 0.6058 - accuracy: 0.8523 - val_loss: 0.6486 - val_accuracy: 0.8447\n",
      "Epoch 49/200\n",
      "1563/1563 [==============================] - 227s 145ms/step - loss: 0.5995 - accuracy: 0.8544 - val_loss: 0.6584 - val_accuracy: 0.8405\n",
      "Epoch 50/200\n",
      "1563/1563 [==============================] - 227s 145ms/step - loss: 0.5964 - accuracy: 0.8560 - val_loss: 0.6423 - val_accuracy: 0.8440\n",
      "Epoch 51/200\n",
      "1563/1563 [==============================] - 227s 145ms/step - loss: 0.5946 - accuracy: 0.8549 - val_loss: 0.6390 - val_accuracy: 0.8432\n",
      "Epoch 52/200\n",
      "1563/1563 [==============================] - 228s 146ms/step - loss: 0.6013 - accuracy: 0.8576 - val_loss: 0.6391 - val_accuracy: 0.8506\n",
      "Epoch 53/200\n",
      "1563/1563 [==============================] - 227s 146ms/step - loss: 0.5878 - accuracy: 0.8590 - val_loss: 0.6693 - val_accuracy: 0.8419\n",
      "Epoch 54/200\n",
      "1563/1563 [==============================] - 228s 146ms/step - loss: 0.5885 - accuracy: 0.8571 - val_loss: 0.6607 - val_accuracy: 0.8413\n",
      "Epoch 55/200\n",
      "1563/1563 [==============================] - 228s 146ms/step - loss: 0.5807 - accuracy: 0.8578 - val_loss: 0.6660 - val_accuracy: 0.8397\n"
     ]
    },
    {
     "name": "stdout",
     "output_type": "stream",
     "text": [
      "Epoch 56/200\n",
      "1563/1563 [==============================] - 232s 148ms/step - loss: 0.5768 - accuracy: 0.8594 - val_loss: 0.6440 - val_accuracy: 0.8463\n",
      "Epoch 57/200\n",
      "1563/1563 [==============================] - 241s 154ms/step - loss: 0.5698 - accuracy: 0.8626 - val_loss: 0.6433 - val_accuracy: 0.8471\n",
      "Epoch 58/200\n",
      "1563/1563 [==============================] - 241s 154ms/step - loss: 0.5709 - accuracy: 0.8639 - val_loss: 0.6423 - val_accuracy: 0.8464\n",
      "Epoch 59/200\n",
      "1563/1563 [==============================] - 241s 154ms/step - loss: 0.5648 - accuracy: 0.8628 - val_loss: 0.6405 - val_accuracy: 0.8477\n",
      "Epoch 60/200\n",
      "1563/1563 [==============================] - 242s 155ms/step - loss: 0.5732 - accuracy: 0.8630 - val_loss: 0.6404 - val_accuracy: 0.8473\n",
      "Epoch 61/200\n",
      "1563/1563 [==============================] - 243s 155ms/step - loss: 0.5687 - accuracy: 0.8648 - val_loss: 0.6503 - val_accuracy: 0.8468\n",
      "Epoch 62/200\n",
      "1563/1563 [==============================] - 241s 154ms/step - loss: 0.5719 - accuracy: 0.8624 - val_loss: 0.6346 - val_accuracy: 0.8530\n",
      "Epoch 63/200\n",
      "1563/1563 [==============================] - 241s 154ms/step - loss: 0.5730 - accuracy: 0.8603 - val_loss: 0.6588 - val_accuracy: 0.8445\n",
      "Epoch 64/200\n",
      "1563/1563 [==============================] - 241s 154ms/step - loss: 0.5533 - accuracy: 0.8667 - val_loss: 0.6403 - val_accuracy: 0.8468\n",
      "Epoch 65/200\n",
      "1563/1563 [==============================] - 241s 154ms/step - loss: 0.5517 - accuracy: 0.8669 - val_loss: 0.6240 - val_accuracy: 0.8526\n",
      "Epoch 66/200\n",
      "1563/1563 [==============================] - 241s 154ms/step - loss: 0.5497 - accuracy: 0.8687 - val_loss: 0.6544 - val_accuracy: 0.8430\n",
      "Epoch 67/200\n",
      "1563/1563 [==============================] - 241s 154ms/step - loss: 0.5542 - accuracy: 0.8696 - val_loss: 0.6573 - val_accuracy: 0.8480\n",
      "Epoch 68/200\n",
      "1563/1563 [==============================] - 241s 154ms/step - loss: 0.5430 - accuracy: 0.8701 - val_loss: 0.6420 - val_accuracy: 0.8463\n",
      "Epoch 69/200\n",
      "1563/1563 [==============================] - 245s 157ms/step - loss: 0.5514 - accuracy: 0.8660 - val_loss: 0.6612 - val_accuracy: 0.8448\n",
      "Epoch 70/200\n",
      "1563/1563 [==============================] - 248s 159ms/step - loss: 0.5504 - accuracy: 0.8716 - val_loss: 0.6527 - val_accuracy: 0.8458\n",
      "Epoch 71/200\n",
      "1563/1563 [==============================] - 237s 151ms/step - loss: 0.5424 - accuracy: 0.8723 - val_loss: 0.6652 - val_accuracy: 0.8427\n",
      "Epoch 72/200\n",
      "1563/1563 [==============================] - 237s 151ms/step - loss: 0.5600 - accuracy: 0.8678 - val_loss: 0.6834 - val_accuracy: 0.8369\n",
      "Epoch 73/200\n",
      "1563/1563 [==============================] - 239s 153ms/step - loss: 0.5300 - accuracy: 0.8777 - val_loss: 0.6421 - val_accuracy: 0.8528\n",
      "Epoch 74/200\n",
      "1563/1563 [==============================] - 239s 153ms/step - loss: 0.5473 - accuracy: 0.8730 - val_loss: 0.6404 - val_accuracy: 0.8528\n",
      "Epoch 75/200\n",
      "1563/1563 [==============================] - 239s 153ms/step - loss: 0.5301 - accuracy: 0.8769 - val_loss: 0.6326 - val_accuracy: 0.8488\n",
      "Epoch 76/200\n",
      "1563/1563 [==============================] - 238s 152ms/step - loss: 0.5315 - accuracy: 0.8754 - val_loss: 0.6276 - val_accuracy: 0.8552\n",
      "Epoch 77/200\n",
      "1563/1563 [==============================] - 236s 151ms/step - loss: 0.5273 - accuracy: 0.8792 - val_loss: 0.6528 - val_accuracy: 0.8459\n",
      "Epoch 78/200\n",
      "1563/1563 [==============================] - 238s 152ms/step - loss: 0.5231 - accuracy: 0.8809 - val_loss: 0.6558 - val_accuracy: 0.8435\n",
      "Epoch 79/200\n",
      "1563/1563 [==============================] - 232s 148ms/step - loss: 0.5329 - accuracy: 0.8737 - val_loss: 0.6446 - val_accuracy: 0.8477\n",
      "Epoch 80/200\n",
      "1563/1563 [==============================] - 231s 148ms/step - loss: 0.5300 - accuracy: 0.8755 - val_loss: 0.6348 - val_accuracy: 0.8495\n",
      "Epoch 81/200\n",
      "1563/1563 [==============================] - 231s 148ms/step - loss: 0.5223 - accuracy: 0.8778 - val_loss: 0.6701 - val_accuracy: 0.8428\n",
      "Epoch 82/200\n",
      "1563/1563 [==============================] - 217s 139ms/step - loss: 0.5251 - accuracy: 0.8787 - val_loss: 0.6538 - val_accuracy: 0.8490\n",
      "Epoch 83/200\n",
      "1563/1563 [==============================] - 218s 140ms/step - loss: 0.5339 - accuracy: 0.8780 - val_loss: 0.6669 - val_accuracy: 0.8429\n",
      "Epoch 84/200\n",
      "1563/1563 [==============================] - 215s 137ms/step - loss: 0.5280 - accuracy: 0.8773 - val_loss: 0.6618 - val_accuracy: 0.8474\n",
      "Epoch 85/200\n",
      "1563/1563 [==============================] - 204s 130ms/step - loss: 0.5228 - accuracy: 0.8797 - val_loss: 0.6513 - val_accuracy: 0.8500\n"
     ]
    },
    {
     "data": {
      "text/plain": [
       "<tensorflow.python.keras.callbacks.History at 0x19c70d467c0>"
      ]
     },
     "execution_count": 11,
     "metadata": {},
     "output_type": "execute_result"
    }
   ],
   "source": [
    "model.fit(X_train, y_cat_train, epochs=200, validation_data=(X_test, to_categorical(y_test,10)), callbacks=[early_stop])"
   ]
  },
  {
   "cell_type": "code",
   "execution_count": 12,
   "metadata": {},
   "outputs": [
    {
     "data": {
      "text/plain": [
       "<AxesSubplot:>"
      ]
     },
     "execution_count": 12,
     "metadata": {},
     "output_type": "execute_result"
    },
    {
     "data": {
      "image/png": "[encoded data removed]",
      "text/plain": [
       "<Figure size 432x288 with 1 Axes>"
      ]
     },
     "metadata": {
      "needs_background": "light"
     },
     "output_type": "display_data"
    }
   ],
   "source": [
    "losses = pd.DataFrame(model.history.history)\n",
    "losses.plot()"
   ]
  },
  {
   "cell_type": "code",
   "execution_count": 13,
   "metadata": {},
   "outputs": [
    {
     "name": "stderr",
     "output_type": "stream",
     "text": [
      "C:\\Users\\Mateusz\\AppData\\Roaming\\Python\\Python38\\site-packages\\tensorflow\\python\\keras\\engine\\sequential.py:450: UserWarning: `model.predict_classes()` is deprecated and will be removed after 2021-01-01. Please use instead:* `np.argmax(model.predict(x), axis=-1)`,   if your model does multi-class classification   (e.g. if it uses a `softmax` last-layer activation).* `(model.predict(x) > 0.5).astype(\"int32\")`,   if your model does binary classification   (e.g. if it uses a `sigmoid` last-layer activation).\n",
      "  warnings.warn('`model.predict_classes()` is deprecated and '\n"
     ]
    }
   ],
   "source": [
    "predictions = model.predict_classes(X_test)"
   ]
  },
  {
   "cell_type": "code",
   "execution_count": 14,
   "metadata": {},
   "outputs": [
    {
     "name": "stdout",
     "output_type": "stream",
     "text": [
      "              precision    recall  f1-score   support\n",
      "\n",
      "           0       0.86      0.84      0.85      1000\n",
      "           1       0.93      0.93      0.93      1000\n",
      "           2       0.80      0.76      0.78      1000\n",
      "           3       0.79      0.66      0.72      1000\n",
      "           4       0.83      0.84      0.84      1000\n",
      "           5       0.76      0.80      0.78      1000\n",
      "           6       0.86      0.91      0.89      1000\n",
      "           7       0.88      0.90      0.89      1000\n",
      "           8       0.88      0.94      0.91      1000\n",
      "           9       0.88      0.92      0.90      1000\n",
      "\n",
      "    accuracy                           0.85     10000\n",
      "   macro avg       0.85      0.85      0.85     10000\n",
      "weighted avg       0.85      0.85      0.85     10000\n",
      "\n"
     ]
    },
    {
     "data": {
      "text/plain": [
       "array([[840,  11,  26,  17,   8,   1,   4,   5,  58,  30],\n",
       "       [  4, 929,   1,   3,   1,   2,   1,   0,  12,  47],\n",
       "       [ 50,   0, 758,  18,  46,  46,  45,  20,  12,   5],\n",
       "       [ 18,   4,  48, 663,  43, 133,  44,  27,   8,  12],\n",
       "       [ 10,   2,  35,  24, 843,  18,  31,  28,   8,   1],\n",
       "       [  9,   2,  29,  76,  32, 802,  10,  31,   4,   5],\n",
       "       [  5,   2,  26,  19,  15,  12, 908,   4,   7,   2],\n",
       "       [ 11,   2,  14,  14,  21,  31,   2, 897,   2,   6],\n",
       "       [ 21,  11,   6,   5,   3,   1,   3,   0, 937,  13],\n",
       "       [ 11,  41,   0,   3,   0,   5,   3,   2,  12, 923]], dtype=int64)"
      ]
     },
     "execution_count": 14,
     "metadata": {},
     "output_type": "execute_result"
    }
   ],
   "source": [
    "print(classification_report(y_test,predictions))\n",
    "confusion_matrix(y_test,predictions)"
   ]
  },
  {
   "cell_type": "code",
   "execution_count": 15,
   "metadata": {},
   "outputs": [
    {
     "data": {
      "text/plain": [
       "<AxesSubplot:>"
      ]
     },
     "execution_count": 15,
     "metadata": {},
     "output_type": "execute_result"
    },
    {
     "data": {
      "image/png": "[encoded data removed]",
      "text/plain": [
       "<Figure size 432x288 with 2 Axes>"
      ]
     },
     "metadata": {
      "needs_background": "light"
     },
     "output_type": "display_data"
    }
   ],
   "source": [
    "sns.heatmap(confusion_matrix(y_test,predictions), annot = True)"
   ]
  },
  {
   "cell_type": "code",
   "execution_count": 17,
   "metadata": {},
   "outputs": [],
   "source": [
    "test_images = []\n",
    "for i in range(1,300_001):\n",
    "    test_images.append(imread('test/'+str(i)+'.png'))\n",
    "X_test = np.array(test_images)\n",
    "predictions = model.predict_classes(X_test)"
   ]
  },
  {
   "cell_type": "code",
   "execution_count": 18,
   "metadata": {},
   "outputs": [],
   "source": [
    "prediction_labels = [reversed_mapping[x] for x in predictions]\n",
    "predictions_df = pd.DataFrame({'id':range(1,len(prediction_labels)+1), 'label':prediction_labels})\n",
    "predictions_df.to_csv(\"kaggle_final_new_2.csv\", index = None)"
   ]
  },
  {
   "cell_type": "code",
   "execution_count": 20,
   "metadata": {},
   "outputs": [],
   "source": [
    "predictions2_df = pd.DataFrame(model.predict(X_test))\n",
    "predictions2_df.to_csv(\"kaggle_final_new_2_classes.csv\", index = None)"
   ]
  }
 ],
 "metadata": {
  "kernelspec": {
   "display_name": "Python 3",
   "language": "python",
   "name": "python3"
  },
  "language_info": {
   "codemirror_mode": {
    "name": "ipython",
    "version": 3
   },
   "file_extension": ".py",
   "mimetype": "text/x-python",
   "name": "python",
   "nbconvert_exporter": "python",
   "pygments_lexer": "ipython3",
   "version": "3.8.5"
  }
 },
 "nbformat": 4,
 "nbformat_minor": 4
}
