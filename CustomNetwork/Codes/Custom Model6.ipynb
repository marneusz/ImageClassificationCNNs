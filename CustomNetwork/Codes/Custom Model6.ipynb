{
 "cells": [
  {
   "cell_type": "code",
   "execution_count": 1,
   "metadata": {},
   "outputs": [],
   "source": [
    "import pandas as pd\n",
    "import numpy as np\n",
    "from matplotlib.image import imread\n",
    "import matplotlib.pyplot as plt\n",
    "import seaborn as sns\n",
    "\n",
    "from tensorflow.keras.utils import to_categorical\n",
    "from tensorflow.keras.models import Sequential\n",
    "from tensorflow.keras.layers import Dense, Conv2D, MaxPooling2D, Flatten, AveragePooling2D, BatchNormalization, Activation, Dropout\n",
    "from sklearn.metrics import classification_report,confusion_matrix\n",
    "from tensorflow.keras.datasets import cifar10\n",
    "from tensorflow.keras.callbacks import EarlyStopping\n",
    "from tensorflow.keras.regularizers import l2"
   ]
  },
  {
   "cell_type": "code",
   "execution_count": 2,
   "metadata": {},
   "outputs": [],
   "source": [
    "seed_value= 10\n",
    "\n",
    "import os\n",
    "os.environ['PYTHONHASHSEED']=str(seed_value)\n",
    "\n",
    "import random\n",
    "random.seed(seed_value)\n",
    "\n",
    "import numpy as np\n",
    "np.random.seed(seed_value)\n",
    "\n",
    "import tensorflow as tf\n",
    "tf.random.set_seed(seed_value)\n",
    "\n",
    "session_conf = tf.compat.v1.ConfigProto(intra_op_parallelism_threads=1, inter_op_parallelism_threads=1)\n",
    "sess = tf.compat.v1.Session(graph=tf.compat.v1.get_default_graph(), config=session_conf)\n",
    "tf.compat.v1.keras.backend.set_session(sess)"
   ]
  },
  {
   "cell_type": "code",
   "execution_count": 3,
   "metadata": {},
   "outputs": [],
   "source": [
    "labels = pd.read_csv('trainLabels.csv')"
   ]
  },
  {
   "cell_type": "code",
   "execution_count": 4,
   "metadata": {},
   "outputs": [],
   "source": [
    "train_images = []\n",
    "for i in labels.id:\n",
    "    train_images.append(imread('train/'+str(i)+'.png'))\n",
    "\n",
    "X_train = np.array(train_images)"
   ]
  },
  {
   "cell_type": "code",
   "execution_count": 5,
   "metadata": {},
   "outputs": [],
   "source": [
    "animals = sorted(labels.label.unique())\n",
    "mapping = {}\n",
    "for i in range(len(animals)):\n",
    "    mapping[animals[i]] = i\n",
    "\n",
    "reversed_mapping = {v:k for k,v in mapping.items()}"
   ]
  },
  {
   "cell_type": "code",
   "execution_count": 6,
   "metadata": {},
   "outputs": [],
   "source": [
    "y_train = labels.label.apply(lambda x: mapping[x])\n",
    "y_cat_train = to_categorical(y_train,10)"
   ]
  },
  {
   "cell_type": "code",
   "execution_count": 7,
   "metadata": {},
   "outputs": [],
   "source": [
    "(_, _), (X_test, y_test) = cifar10.load_data()\n",
    "X_test = X_test/255"
   ]
  },
  {
   "cell_type": "code",
   "execution_count": 8,
   "metadata": {},
   "outputs": [],
   "source": [
    "model = Sequential()\n",
    "\n",
    "## FIRST SET OF LAYERS\n",
    "\n",
    "# CONVOLUTIONAL LAYER\n",
    "model.add(Conv2D(filters=32, kernel_size=(3,3),input_shape=(32, 32, 3), \n",
    "                 activation='relu', padding = 'same', kernel_initializer='he_uniform'))\n",
    "model.add(Conv2D(filters=32, kernel_size=(3,3),input_shape=(32, 32, 3), \n",
    "                 activation='relu', padding = 'same', kernel_initializer='he_uniform'))\n",
    "# POOLING LAYER\n",
    "model.add(MaxPooling2D(pool_size=(2, 2)))\n",
    "model.add(Dropout(0.3))\n",
    "\n",
    "## SECOND SET OF LAYERS\n",
    "\n",
    "# CONVOLUTIONAL LAYER\n",
    "model.add(Conv2D(filters=64, kernel_size=(3,3),input_shape=(32, 32, 3), \n",
    "                 activation='relu', padding = 'same', kernel_initializer='he_uniform'))\n",
    "model.add(Conv2D(filters=64, kernel_size=(3,3),input_shape=(32, 32, 3), \n",
    "                 activation='relu', padding = 'same', kernel_initializer='he_uniform'))\n",
    "# POOLING LAYER\n",
    "model.add(MaxPooling2D(pool_size=(2, 2)))\n",
    "model.add(Dropout(0.3))\n",
    "\n",
    "## THIRD SET OF LAYERS\n",
    "\n",
    "# CONVOLUTIONAL LAYER\n",
    "model.add(Conv2D(filters=128, kernel_size=(3,3),input_shape=(32, 32, 3),\n",
    "                 activation='relu', padding = 'same', kernel_initializer='he_uniform'))\n",
    "model.add(Conv2D(filters=128, kernel_size=(3,3),input_shape=(32, 32, 3),\n",
    "                 activation='relu', padding = 'same', kernel_initializer='he_uniform'))\n",
    "# POOLING LAYER\n",
    "model.add(MaxPooling2D(pool_size=(2, 2)))\n",
    "model.add(Dropout(0.3))\n",
    "\n",
    "# BATCH NORMALIZATION\n",
    "model.add(BatchNormalization())\n",
    "\n",
    "\n",
    "# FLATTENING IMAGES\n",
    "model.add(Flatten())\n",
    "\n",
    "# HIDDEN LAYER\n",
    "model.add(Dense(256, activation='relu', kernel_initializer='he_uniform'))\n",
    "model.add(Dropout(0.2))\n",
    "\n",
    "# OUTPUT LAYER\n",
    "model.add(Dense(10, activation='softmax'))\n",
    "\n",
    "\n",
    "model.compile(loss='categorical_crossentropy',\n",
    "              optimizer='adam',\n",
    "              metrics=['accuracy'])"
   ]
  },
  {
   "cell_type": "code",
   "execution_count": 9,
   "metadata": {},
   "outputs": [
    {
     "name": "stdout",
     "output_type": "stream",
     "text": [
      "Model: \"sequential\"\n",
      "_________________________________________________________________\n",
      "Layer (type)                 Output Shape              Param #   \n",
      "=================================================================\n",
      "conv2d (Conv2D)              (None, 32, 32, 32)        896       \n",
      "_________________________________________________________________\n",
      "conv2d_1 (Conv2D)            (None, 32, 32, 32)        9248      \n",
      "_________________________________________________________________\n",
      "max_pooling2d (MaxPooling2D) (None, 16, 16, 32)        0         \n",
      "_________________________________________________________________\n",
      "dropout (Dropout)            (None, 16, 16, 32)        0         \n",
      "_________________________________________________________________\n",
      "conv2d_2 (Conv2D)            (None, 16, 16, 64)        18496     \n",
      "_________________________________________________________________\n",
      "conv2d_3 (Conv2D)            (None, 16, 16, 64)        36928     \n",
      "_________________________________________________________________\n",
      "max_pooling2d_1 (MaxPooling2 (None, 8, 8, 64)          0         \n",
      "_________________________________________________________________\n",
      "dropout_1 (Dropout)          (None, 8, 8, 64)          0         \n",
      "_________________________________________________________________\n",
      "conv2d_4 (Conv2D)            (None, 8, 8, 128)         73856     \n",
      "_________________________________________________________________\n",
      "conv2d_5 (Conv2D)            (None, 8, 8, 128)         147584    \n",
      "_________________________________________________________________\n",
      "max_pooling2d_2 (MaxPooling2 (None, 4, 4, 128)         0         \n",
      "_________________________________________________________________\n",
      "dropout_2 (Dropout)          (None, 4, 4, 128)         0         \n",
      "_________________________________________________________________\n",
      "batch_normalization (BatchNo (None, 4, 4, 128)         512       \n",
      "_________________________________________________________________\n",
      "flatten (Flatten)            (None, 2048)              0         \n",
      "_________________________________________________________________\n",
      "dense (Dense)                (None, 256)               524544    \n",
      "_________________________________________________________________\n",
      "dropout_3 (Dropout)          (None, 256)               0         \n",
      "_________________________________________________________________\n",
      "dense_1 (Dense)              (None, 10)                2570      \n",
      "=================================================================\n",
      "Total params: 814,634\n",
      "Trainable params: 814,378\n",
      "Non-trainable params: 256\n",
      "_________________________________________________________________\n"
     ]
    }
   ],
   "source": [
    "model.summary()"
   ]
  },
  {
   "cell_type": "code",
   "execution_count": 10,
   "metadata": {},
   "outputs": [],
   "source": [
    "early_stop = EarlyStopping(monitor='val_loss',patience=20)"
   ]
  },
  {
   "cell_type": "code",
   "execution_count": 11,
   "metadata": {},
   "outputs": [
    {
     "name": "stdout",
     "output_type": "stream",
     "text": [
      "Epoch 1/200\n",
      "1563/1563 [==============================] - 233s 149ms/step - loss: 2.0113 - accuracy: 0.2648 - val_loss: 1.3297 - val_accuracy: 0.5123\n",
      "Epoch 2/200\n",
      "1563/1563 [==============================] - 230s 147ms/step - loss: 1.3245 - accuracy: 0.5188 - val_loss: 1.0396 - val_accuracy: 0.6330\n",
      "Epoch 3/200\n",
      "1563/1563 [==============================] - 231s 148ms/step - loss: 1.0273 - accuracy: 0.6378 - val_loss: 0.9354 - val_accuracy: 0.6818\n",
      "Epoch 4/200\n",
      "1563/1563 [==============================] - 230s 147ms/step - loss: 0.8942 - accuracy: 0.6863 - val_loss: 0.7915 - val_accuracy: 0.7226\n",
      "Epoch 5/200\n",
      "1563/1563 [==============================] - 229s 147ms/step - loss: 0.8009 - accuracy: 0.7233 - val_loss: 0.8735 - val_accuracy: 0.7039\n",
      "Epoch 6/200\n",
      "1563/1563 [==============================] - 228s 146ms/step - loss: 0.7416 - accuracy: 0.7431 - val_loss: 0.7653 - val_accuracy: 0.7416\n",
      "Epoch 7/200\n",
      "1563/1563 [==============================] - 228s 146ms/step - loss: 0.6942 - accuracy: 0.7585 - val_loss: 0.6628 - val_accuracy: 0.7778\n",
      "Epoch 8/200\n",
      "1563/1563 [==============================] - 228s 146ms/step - loss: 0.6418 - accuracy: 0.7796 - val_loss: 0.6459 - val_accuracy: 0.7790\n",
      "Epoch 9/200\n",
      "1563/1563 [==============================] - 229s 146ms/step - loss: 0.6131 - accuracy: 0.7882 - val_loss: 0.7063 - val_accuracy: 0.7722\n",
      "Epoch 10/200\n",
      "1563/1563 [==============================] - 229s 146ms/step - loss: 0.5842 - accuracy: 0.7951 - val_loss: 0.6229 - val_accuracy: 0.7919\n",
      "Epoch 11/200\n",
      "1563/1563 [==============================] - 216s 138ms/step - loss: 0.5522 - accuracy: 0.8076 - val_loss: 0.5816 - val_accuracy: 0.8041\n",
      "Epoch 12/200\n",
      "1563/1563 [==============================] - 209s 134ms/step - loss: 0.5302 - accuracy: 0.8144 - val_loss: 0.5760 - val_accuracy: 0.8095\n",
      "Epoch 13/200\n",
      "1563/1563 [==============================] - 209s 134ms/step - loss: 0.4973 - accuracy: 0.8271 - val_loss: 0.5525 - val_accuracy: 0.8181\n",
      "Epoch 14/200\n",
      "1563/1563 [==============================] - 209s 134ms/step - loss: 0.4870 - accuracy: 0.8294 - val_loss: 0.5480 - val_accuracy: 0.8165\n",
      "Epoch 15/200\n",
      "1563/1563 [==============================] - 209s 134ms/step - loss: 0.4609 - accuracy: 0.8377 - val_loss: 0.5815 - val_accuracy: 0.8062\n",
      "Epoch 16/200\n",
      "1563/1563 [==============================] - 209s 134ms/step - loss: 0.4496 - accuracy: 0.8429 - val_loss: 0.5633 - val_accuracy: 0.8121\n",
      "Epoch 17/200\n",
      "1563/1563 [==============================] - 209s 134ms/step - loss: 0.4316 - accuracy: 0.8472 - val_loss: 0.5372 - val_accuracy: 0.8219\n",
      "Epoch 18/200\n",
      "1563/1563 [==============================] - 209s 134ms/step - loss: 0.4129 - accuracy: 0.8548 - val_loss: 0.5300 - val_accuracy: 0.8241\n",
      "Epoch 19/200\n",
      "1563/1563 [==============================] - 210s 134ms/step - loss: 0.4018 - accuracy: 0.8588 - val_loss: 0.5165 - val_accuracy: 0.8302\n",
      "Epoch 20/200\n",
      "1563/1563 [==============================] - 209s 134ms/step - loss: 0.3996 - accuracy: 0.8579 - val_loss: 0.5252 - val_accuracy: 0.8357\n",
      "Epoch 21/200\n",
      "1563/1563 [==============================] - 209s 134ms/step - loss: 0.3752 - accuracy: 0.8695 - val_loss: 0.5646 - val_accuracy: 0.8182\n",
      "Epoch 22/200\n",
      "1563/1563 [==============================] - 209s 134ms/step - loss: 0.3738 - accuracy: 0.8693 - val_loss: 0.5418 - val_accuracy: 0.8297\n",
      "Epoch 23/200\n",
      "1563/1563 [==============================] - 210s 135ms/step - loss: 0.3624 - accuracy: 0.8732 - val_loss: 0.5131 - val_accuracy: 0.8321\n",
      "Epoch 24/200\n",
      "1563/1563 [==============================] - 209s 133ms/step - loss: 0.3550 - accuracy: 0.8732 - val_loss: 0.5332 - val_accuracy: 0.8327\n",
      "Epoch 25/200\n",
      "1563/1563 [==============================] - 209s 134ms/step - loss: 0.3396 - accuracy: 0.8802 - val_loss: 0.5536 - val_accuracy: 0.8304\n",
      "Epoch 26/200\n",
      "1563/1563 [==============================] - 209s 134ms/step - loss: 0.3271 - accuracy: 0.8841 - val_loss: 0.5167 - val_accuracy: 0.8391\n",
      "Epoch 27/200\n",
      "1563/1563 [==============================] - 209s 134ms/step - loss: 0.3202 - accuracy: 0.8883 - val_loss: 0.5031 - val_accuracy: 0.8417\n",
      "Epoch 28/200\n",
      "1563/1563 [==============================] - 209s 134ms/step - loss: 0.3170 - accuracy: 0.8886 - val_loss: 0.5217 - val_accuracy: 0.8392\n",
      "Epoch 29/200\n",
      "1563/1563 [==============================] - 209s 134ms/step - loss: 0.3041 - accuracy: 0.8931 - val_loss: 0.5303 - val_accuracy: 0.8381\n",
      "Epoch 30/200\n",
      "1563/1563 [==============================] - 209s 134ms/step - loss: 0.2999 - accuracy: 0.8942 - val_loss: 0.5111 - val_accuracy: 0.8377\n",
      "Epoch 31/200\n",
      "1563/1563 [==============================] - 209s 134ms/step - loss: 0.3065 - accuracy: 0.8926 - val_loss: 0.5066 - val_accuracy: 0.8354\n",
      "Epoch 32/200\n",
      "1563/1563 [==============================] - 209s 134ms/step - loss: 0.2961 - accuracy: 0.8954 - val_loss: 0.5262 - val_accuracy: 0.8368\n",
      "Epoch 33/200\n",
      "1563/1563 [==============================] - 209s 134ms/step - loss: 0.2930 - accuracy: 0.8968 - val_loss: 0.5161 - val_accuracy: 0.8378\n",
      "Epoch 34/200\n",
      "1563/1563 [==============================] - 209s 134ms/step - loss: 0.2867 - accuracy: 0.9013 - val_loss: 0.5143 - val_accuracy: 0.8439\n",
      "Epoch 35/200\n",
      "1563/1563 [==============================] - 209s 134ms/step - loss: 0.2756 - accuracy: 0.9037 - val_loss: 0.5258 - val_accuracy: 0.8432\n",
      "Epoch 36/200\n",
      "1563/1563 [==============================] - 209s 134ms/step - loss: 0.2607 - accuracy: 0.9069 - val_loss: 0.5383 - val_accuracy: 0.8419\n",
      "Epoch 37/200\n",
      "1563/1563 [==============================] - 209s 134ms/step - loss: 0.2651 - accuracy: 0.9066 - val_loss: 0.5042 - val_accuracy: 0.8446\n",
      "Epoch 38/200\n",
      "1563/1563 [==============================] - 209s 134ms/step - loss: 0.2554 - accuracy: 0.9097 - val_loss: 0.5330 - val_accuracy: 0.8458\n",
      "Epoch 39/200\n",
      "1563/1563 [==============================] - 209s 134ms/step - loss: 0.2523 - accuracy: 0.9108 - val_loss: 0.5355 - val_accuracy: 0.8414\n",
      "Epoch 40/200\n",
      "1563/1563 [==============================] - 209s 134ms/step - loss: 0.2469 - accuracy: 0.9130 - val_loss: 0.5172 - val_accuracy: 0.8443\n",
      "Epoch 41/200\n",
      "1563/1563 [==============================] - 209s 134ms/step - loss: 0.2427 - accuracy: 0.9160 - val_loss: 0.5144 - val_accuracy: 0.8455\n",
      "Epoch 42/200\n",
      "1563/1563 [==============================] - 209s 133ms/step - loss: 0.2379 - accuracy: 0.9171 - val_loss: 0.5877 - val_accuracy: 0.8356\n",
      "Epoch 43/200\n",
      "1563/1563 [==============================] - 209s 133ms/step - loss: 0.2415 - accuracy: 0.9156 - val_loss: 0.5444 - val_accuracy: 0.8420\n",
      "Epoch 44/200\n",
      "1563/1563 [==============================] - 209s 134ms/step - loss: 0.2392 - accuracy: 0.9159 - val_loss: 0.5302 - val_accuracy: 0.8431\n",
      "Epoch 45/200\n",
      "1563/1563 [==============================] - 208s 133ms/step - loss: 0.2319 - accuracy: 0.9187 - val_loss: 0.5393 - val_accuracy: 0.8456\n",
      "Epoch 46/200\n",
      "1563/1563 [==============================] - 209s 134ms/step - loss: 0.2243 - accuracy: 0.9211 - val_loss: 0.5197 - val_accuracy: 0.8432\n",
      "Epoch 47/200\n",
      "1563/1563 [==============================] - 209s 133ms/step - loss: 0.2251 - accuracy: 0.9231 - val_loss: 0.5615 - val_accuracy: 0.8392\n"
     ]
    },
    {
     "data": {
      "text/plain": [
       "<tensorflow.python.keras.callbacks.History at 0x16c41887a30>"
      ]
     },
     "execution_count": 11,
     "metadata": {},
     "output_type": "execute_result"
    }
   ],
   "source": [
    "model.fit(X_train, y_cat_train, epochs=200, validation_data=(X_test, to_categorical(y_test,10)), callbacks=[early_stop])"
   ]
  },
  {
   "cell_type": "code",
   "execution_count": 12,
   "metadata": {},
   "outputs": [
    {
     "data": {
      "text/plain": [
       "<AxesSubplot:>"
      ]
     },
     "execution_count": 12,
     "metadata": {},
     "output_type": "execute_result"
    },
    {
     "data": {
      "image/png": "[encoded data removed]",
      "text/plain": [
       "<Figure size 432x288 with 1 Axes>"
      ]
     },
     "metadata": {
      "needs_background": "light"
     },
     "output_type": "display_data"
    }
   ],
   "source": [
    "losses = pd.DataFrame(model.history.history)\n",
    "losses.plot()"
   ]
  },
  {
   "cell_type": "code",
   "execution_count": 13,
   "metadata": {},
   "outputs": [
    {
     "name": "stderr",
     "output_type": "stream",
     "text": [
      "C:\\Users\\Mateusz\\AppData\\Roaming\\Python\\Python38\\site-packages\\tensorflow\\python\\keras\\engine\\sequential.py:450: UserWarning: `model.predict_classes()` is deprecated and will be removed after 2021-01-01. Please use instead:* `np.argmax(model.predict(x), axis=-1)`,   if your model does multi-class classification   (e.g. if it uses a `softmax` last-layer activation).* `(model.predict(x) > 0.5).astype(\"int32\")`,   if your model does binary classification   (e.g. if it uses a `sigmoid` last-layer activation).\n",
      "  warnings.warn('`model.predict_classes()` is deprecated and '\n"
     ]
    }
   ],
   "source": [
    "predictions = model.predict_classes(X_test)"
   ]
  },
  {
   "cell_type": "code",
   "execution_count": 14,
   "metadata": {},
   "outputs": [
    {
     "name": "stdout",
     "output_type": "stream",
     "text": [
      "              precision    recall  f1-score   support\n",
      "\n",
      "           0       0.82      0.88      0.85      1000\n",
      "           1       0.87      0.96      0.91      1000\n",
      "           2       0.82      0.75      0.78      1000\n",
      "           3       0.76      0.60      0.67      1000\n",
      "           4       0.85      0.82      0.83      1000\n",
      "           5       0.76      0.78      0.77      1000\n",
      "           6       0.87      0.88      0.87      1000\n",
      "           7       0.86      0.90      0.88      1000\n",
      "           8       0.88      0.91      0.89      1000\n",
      "           9       0.88      0.91      0.90      1000\n",
      "\n",
      "    accuracy                           0.84     10000\n",
      "   macro avg       0.84      0.84      0.84     10000\n",
      "weighted avg       0.84      0.84      0.84     10000\n",
      "\n"
     ]
    },
    {
     "data": {
      "text/plain": [
       "array([[876,  20,  20,   4,   4,   1,   1,   5,  45,  24],\n",
       "       [  5, 960,   0,   0,   2,   2,   1,   0,   6,  24],\n",
       "       [ 56,   6, 753,  18,  41,  45,  43,  20,  12,   6],\n",
       "       [ 31,  13,  52, 597,  40, 138,  51,  29,  23,  26],\n",
       "       [ 15,   3,  34,  28, 820,  20,  22,  49,   7,   2],\n",
       "       [  9,   5,  30,  87,  20, 783,  14,  36,   9,   7],\n",
       "       [ 12,   9,  22,  31,  15,   8, 880,   4,  15,   4],\n",
       "       [ 11,   2,   6,  14,  24,  26,   2, 901,   3,  11],\n",
       "       [ 36,  25,   3,   3,   0,   1,   1,   0, 912,  19],\n",
       "       [ 12,  62,   1,   1,   0,   1,   1,   3,   9, 910]], dtype=int64)"
      ]
     },
     "execution_count": 14,
     "metadata": {},
     "output_type": "execute_result"
    }
   ],
   "source": [
    "print(classification_report(y_test,predictions))\n",
    "confusion_matrix(y_test,predictions)"
   ]
  },
  {
   "cell_type": "code",
   "execution_count": 15,
   "metadata": {},
   "outputs": [
    {
     "data": {
      "text/plain": [
       "<AxesSubplot:>"
      ]
     },
     "execution_count": 15,
     "metadata": {},
     "output_type": "execute_result"
    },
    {
     "data": {
      "image/png": "[encoded data removed]",
      "text/plain": [
       "<Figure size 432x288 with 2 Axes>"
      ]
     },
     "metadata": {
      "needs_background": "light"
     },
     "output_type": "display_data"
    }
   ],
   "source": [
    "sns.heatmap(confusion_matrix(y_test,predictions), annot = True)"
   ]
  },
  {
   "cell_type": "code",
   "execution_count": 16,
   "metadata": {},
   "outputs": [],
   "source": [
    "test_images = []\n",
    "for i in range(1,300_001):\n",
    "    test_images.append(imread('test/'+str(i)+'.png'))\n",
    "X_test = np.array(test_images)\n",
    "predictions = model.predict_classes(X_test)"
   ]
  },
  {
   "cell_type": "code",
   "execution_count": 17,
   "metadata": {},
   "outputs": [],
   "source": [
    "prediction_labels = [reversed_mapping[x] for x in predictions]\n",
    "predictions_df = pd.DataFrame({'id':range(1,len(prediction_labels)+1), 'label':prediction_labels})\n",
    "predictions_df.to_csv(\"kaggle_final_new_6.csv\", index = None)"
   ]
  },
  {
   "cell_type": "code",
   "execution_count": 18,
   "metadata": {},
   "outputs": [],
   "source": [
    "predictions2_df = pd.DataFrame(model.predict(X_test))\n",
    "predictions2_df.to_csv(\"kaggle_final_new_6_classes.csv\", index = None)"
   ]
  }
 ],
 "metadata": {
  "kernelspec": {
   "display_name": "Python 3",
   "language": "python",
   "name": "python3"
  },
  "language_info": {
   "codemirror_mode": {
    "name": "ipython",
    "version": 3
   },
   "file_extension": ".py",
   "mimetype": "text/x-python",
   "name": "python",
   "nbconvert_exporter": "python",
   "pygments_lexer": "ipython3",
   "version": "3.8.5"
  }
 },
 "nbformat": 4,
 "nbformat_minor": 4
}
