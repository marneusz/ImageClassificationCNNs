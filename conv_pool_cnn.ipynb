{
 "cells": [
  {
   "cell_type": "code",
   "execution_count": 1,
   "metadata": {
    "id": "22AvNb6M9N7p"
   },
   "outputs": [],
   "source": [
    "from keras.datasets import cifar10\n",
    "from keras.engine import training\n",
    "from keras.layers import Conv2D, MaxPooling2D, GlobalAveragePooling2D, Dropout, Activation, add, Dense, Flatten, AveragePooling2D, BatchNormalization, Concatenate\n",
    "from keras.models import Model, Sequential, Input\n",
    "from keras.optimizers.schedules import ExponentialDecay\n",
    "from keras.callbacks import History, ModelCheckpoint, EarlyStopping, LearningRateScheduler\n",
    "from keras.preprocessing.image import ImageDataGenerator\n",
    "from keras.datasets import cifar10\n",
    "from keras.utils import to_categorical\n",
    "from keras.optimizers import Adam\n",
    "from keras.losses import categorical_crossentropy\n",
    "\n",
    "import os\n",
    "import numpy as np\n",
    "import matplotlib.pyplot as plt\n"
   ]
  },
  {
   "cell_type": "code",
   "execution_count": 2,
   "metadata": {
    "id": "gjnrkCL76tP2"
   },
   "outputs": [],
   "source": [
    "lr_schedule = ExponentialDecay(initial_learning_rate=1e-4,\n",
    "                               decay_steps=10000,\n",
    "                               decay_rate=0.8)"
   ]
  },
  {
   "cell_type": "code",
   "execution_count": 3,
   "metadata": {
    "id": "8g5sQX8j8L98"
   },
   "outputs": [],
   "source": [
    "# https://towardsdatascience.com/ensembling-convnets-using-keras-237d429157eb\n",
    "\n",
    "def conv_pool_cnn(model_input) -> training.Model:\n",
    "\n",
    "    x = Conv2D(96, kernel_size=(3, 3), activation='relu',\n",
    "               padding='same')(model_input)\n",
    "    x = Dropout(0.1)(x)\n",
    "    x = Conv2D(96, (3, 3), activation='relu', padding='same')(x)\n",
    "    x = Dropout(0.1)(x)\n",
    "    x = Conv2D(96, (3, 3), activation='relu', padding='same')(x)\n",
    "    x = Dropout(0.1)(x)\n",
    "    x = MaxPooling2D(pool_size=(3, 3), strides=2)(x)\n",
    "    x = Conv2D(192, (3, 3), activation='relu', padding='same')(x)\n",
    "    x = Dropout(0.1)(x)\n",
    "    x = Conv2D(192, (3, 3), activation='relu', padding='same')(x)\n",
    "    x = Dropout(0.1)(x)\n",
    "    x = Conv2D(192, (3, 3), activation='relu', padding='same')(x)\n",
    "    x = Dropout(0.1)(x)\n",
    "    x = MaxPooling2D(pool_size=(3, 3), strides=2)(x)\n",
    "    x = Conv2D(192, (3, 3), activation='relu', padding='same')(x)\n",
    "    x = Dropout(0.1)(x)\n",
    "    x = Conv2D(192, (1, 1), activation='relu')(x)\n",
    "    x = Dropout(0.1)(x)\n",
    "    x = Conv2D(10, (1, 1))(x)\n",
    "    x = GlobalAveragePooling2D()(x)\n",
    "    x = Activation(activation='softmax')(x)\n",
    "\n",
    "    model = Model(model_input, x, name='conv_pool_cnn')\n",
    "\n",
    "    return model"
   ]
  },
  {
   "cell_type": "code",
   "execution_count": 4,
   "metadata": {
    "id": "4ukTqdrA-Z1s"
   },
   "outputs": [],
   "source": [
    "save_dir = os.path.join(os.getcwd(), 'drive', 'MyDrive', 'saved_models')"
   ]
  },
  {
   "cell_type": "code",
   "execution_count": 5,
   "metadata": {
    "id": "c3sytWLQ-IYT"
   },
   "outputs": [],
   "source": [
    "def compile_and_train(model: training.Model, \n",
    "                      num_epochs: int, \n",
    "                      x_train, \n",
    "                      y_train, \n",
    "                      x_test, \n",
    "                      y_test, \n",
    "                      batch_size=32,\n",
    "                      optimizer=None, \n",
    "                      extra_callbacks=None):\n",
    "    if optimizer is None:\n",
    "        optimizer = Adam()\n",
    "\n",
    "    model.compile(loss=categorical_crossentropy,\n",
    "                  optimizer=optimizer, metrics=['acc'])\n",
    "    \n",
    "    if not os.path.isdir(save_dir):\n",
    "        os.makedirs(save_dir)\n",
    "        \n",
    "    filename = model_name + model.name + '.h5'\n",
    "    model_path = os.path.join(save_dir, filename)\n",
    "    early_stop = EarlyStopping(monitor='val_loss', patience=50)\n",
    "    checkpoint = ModelCheckpoint(\n",
    "        filepath=model_path, monitor='val_loss', save_best_only=True)\n",
    "\n",
    "    callbacks = [early_stop, checkpoint]\n",
    "\n",
    "    if (extra_callbacks is not None):\n",
    "        callbacks = callbacks + extra_callbacks\n",
    "\n",
    "    data_generated = ImageDataGenerator(horizontal_flip=True,\n",
    "                                        width_shift_range=0.125,\n",
    "                                        height_shift_range=0.125,\n",
    "                                        fill_mode='constant',\n",
    "                                        cval=0.,\n",
    "                                        rotation_range=20)\n",
    "\n",
    "    data_generated.fit(x_train)\n",
    "    train_generator = data_generated.flow(x_train,\n",
    "                                         y_train,\n",
    "                                         batch_size=32)\n",
    "\n",
    "    val_data_generated = ImageDataGenerator(horizontal_flip=True,\n",
    "                                            width_shift_range=0.125,\n",
    "                                            height_shift_range=0.125,\n",
    "                                            fill_mode='constant',\n",
    "                                            cval=0.,\n",
    "                                            rotation_range=20)\n",
    "\n",
    "    val_generator = val_data_generated.flow(x_test,\n",
    "                                            y_test,\n",
    "                                            batch_size=batch_size)\n",
    "    \n",
    "    train_steps_per_epoch = x_train.shape[0] // batch_size\n",
    "    val_steps_per_epoch = x_test.shape[0] // batch_size\n",
    "\n",
    "    history = model.fit(train_generator,\n",
    "                        steps_per_epoch=train_steps_per_epoch,\n",
    "                        epochs=num_epochs, \n",
    "                        verbose=1, \n",
    "                        callbacks=callbacks, \n",
    "                        validation_data=val_generator,\n",
    "                        validation_steps=val_steps_per_epoch)\n",
    "    return history, model_path"
   ]
  },
  {
   "cell_type": "code",
   "execution_count": 6,
   "metadata": {
    "id": "Mlof4H2U0HT8"
   },
   "outputs": [],
   "source": [
    "def compile_and_train_2(model: training.Model, \n",
    "                        num_epochs: int, \n",
    "                        x_train, \n",
    "                        y_train, \n",
    "                        x_test, \n",
    "                        y_test, \n",
    "                        batch_size=32, \n",
    "                        optimizer=None, \n",
    "                        extra_callbacks=None):\n",
    "    if optimizer is None:\n",
    "        optimizer = Adam()\n",
    "\n",
    "    model.compile(loss=categorical_crossentropy,\n",
    "                  optimizer=optimizer, metrics=['acc'])\n",
    "    if not os.path.isdir(save_dir):\n",
    "        os.makedirs(save_dir)\n",
    "    filename = model_name + model.name + '.h5'\n",
    "    model_path = os.path.join(save_dir, filename)\n",
    "    early_stop = EarlyStopping(monitor='val_loss', patience=50)\n",
    "    checkpoint = ModelCheckpoint(\n",
    "        filepath=model_path, monitor='val_loss', save_best_only=True)\n",
    "\n",
    "    callbacks = [early_stop, checkpoint]\n",
    "\n",
    "    if (extra_callbacks is not None):\n",
    "        callbacks = callbacks + extra_callbacks\n",
    "\n",
    "    datagen = ImageDataGenerator(horizontal_flip=True,\n",
    "                                 width_shift_range=0.125,\n",
    "                                 height_shift_range=0.125,\n",
    "                                 fill_mode='constant',\n",
    "                                 cval=0.,\n",
    "                                 rotation_range=20)\n",
    "\n",
    "    datagen.fit(x_train)\n",
    "\n",
    "    history = model.fit_generator(datagen.flow(x_train, y_train,\n",
    "                                               batch_size=batch_size),\n",
    "                                  epochs=num_epochs, \n",
    "                                  verbose=1, \n",
    "                                  callbacks=callbacks, \n",
    "                                  validation_data=(x_test, y_test))\n",
    "    return history, model_path"
   ]
  },
  {
   "cell_type": "code",
   "execution_count": 7,
   "metadata": {
    "id": "QGhR0ErPEx38"
   },
   "outputs": [],
   "source": [
    "def load_data_keras() -> (np.ndarray, np.ndarray,\n",
    "                          np.ndarray, np.ndarray):\n",
    "    (x_train, y_train), (x_test, y_test) = cifar10.load_data()\n",
    "    x_train = x_train / 255.\n",
    "    x_test = x_test / 255.\n",
    "    y_train = to_categorical(y_train, num_classes=10)\n",
    "    y_test = to_categorical(y_test, num_classes=10)\n",
    "    return x_train, y_train, x_test, y_test"
   ]
  },
  {
   "cell_type": "code",
   "execution_count": 8,
   "metadata": {
    "colab": {
     "base_uri": "https://localhost:8080/"
    },
    "id": "PKu0N87tElQC",
    "outputId": "0d92390e-7f44-4f0c-9da5-f6078c828498"
   },
   "outputs": [
    {
     "name": "stdout",
     "output_type": "stream",
     "text": [
      "Downloading data from https://www.cs.toronto.edu/~kriz/cifar-10-python.tar.gz\n",
      "170500096/170498071 [==============================] - 4s 0us/step\n"
     ]
    }
   ],
   "source": [
    "x_train, y_train, x_test, y_test = load_data_keras()"
   ]
  },
  {
   "cell_type": "code",
   "execution_count": 9,
   "metadata": {
    "colab": {
     "base_uri": "https://localhost:8080/"
    },
    "id": "zBG41M9NJlW-",
    "outputId": "f4bff185-b0e1-4f81-db57-ad3895d3c5e6"
   },
   "outputs": [
    {
     "data": {
      "text/plain": [
       "(50000, 10)"
      ]
     },
     "execution_count": 9,
     "metadata": {
      "tags": []
     },
     "output_type": "execute_result"
    }
   ],
   "source": [
    "y_train.shape"
   ]
  },
  {
   "cell_type": "code",
   "execution_count": 10,
   "metadata": {
    "id": "WFBY-ixUEc8V"
   },
   "outputs": [],
   "source": [
    "input_shape = (32, 32, 3)\n",
    "model_input = Input(shape=input_shape)"
   ]
  },
  {
   "cell_type": "code",
   "execution_count": 11,
   "metadata": {
    "id": "7YGLCjrCFCDq"
   },
   "outputs": [],
   "source": [
    "conv_pool_cnn_model = conv_pool_cnn(model_input)"
   ]
  },
  {
   "cell_type": "code",
   "execution_count": 12,
   "metadata": {
    "id": "BKKf2YTQGrcb"
   },
   "outputs": [],
   "source": [
    "model_name = 'keras_cifar10_conv_pool'\n",
    "num_classes = 10\n",
    "epochs = 100\n",
    "batch_size = 128"
   ]
  },
  {
   "cell_type": "code",
   "execution_count": 13,
   "metadata": {
    "colab": {
     "base_uri": "https://localhost:8080/"
    },
    "id": "U9a8AaOsG4RN",
    "outputId": "3f3423cf-63c3-42b2-d1cc-6b1d53ec2972"
   },
   "outputs": [
    {
     "name": "stderr",
     "output_type": "stream",
     "text": [
      "/usr/local/lib/python3.7/dist-packages/tensorflow/python/keras/engine/training.py:1844: UserWarning: `Model.fit_generator` is deprecated and will be removed in a future version. Please use `Model.fit`, which supports generators.\n",
      "  warnings.warn('`Model.fit_generator` is deprecated and '\n"
     ]
    },
    {
     "name": "stdout",
     "output_type": "stream",
     "text": [
      "Epoch 1/100\n",
      "391/391 [==============================] - 66s 84ms/step - loss: 2.0674 - acc: 0.1922 - val_loss: 1.6853 - val_acc: 0.3518\n",
      "Epoch 2/100\n",
      "391/391 [==============================] - 32s 81ms/step - loss: 1.5787 - acc: 0.4093 - val_loss: 1.3062 - val_acc: 0.5269\n",
      "Epoch 3/100\n",
      "391/391 [==============================] - 32s 81ms/step - loss: 1.3096 - acc: 0.5212 - val_loss: 1.1995 - val_acc: 0.5791\n",
      "Epoch 4/100\n",
      "391/391 [==============================] - 32s 82ms/step - loss: 1.1075 - acc: 0.5975 - val_loss: 1.0138 - val_acc: 0.6420\n",
      "Epoch 5/100\n",
      "391/391 [==============================] - 32s 81ms/step - loss: 0.9991 - acc: 0.6424 - val_loss: 0.9162 - val_acc: 0.6793\n",
      "Epoch 6/100\n",
      "391/391 [==============================] - 32s 81ms/step - loss: 0.8938 - acc: 0.6848 - val_loss: 0.8740 - val_acc: 0.7023\n",
      "Epoch 7/100\n",
      "391/391 [==============================] - 32s 81ms/step - loss: 0.8343 - acc: 0.7061 - val_loss: 0.7606 - val_acc: 0.7404\n",
      "Epoch 8/100\n",
      "391/391 [==============================] - 32s 81ms/step - loss: 0.7711 - acc: 0.7295 - val_loss: 0.8091 - val_acc: 0.7260\n",
      "Epoch 9/100\n",
      "391/391 [==============================] - 32s 81ms/step - loss: 0.7310 - acc: 0.7463 - val_loss: 0.7554 - val_acc: 0.7401\n",
      "Epoch 10/100\n",
      "391/391 [==============================] - 32s 81ms/step - loss: 0.6982 - acc: 0.7547 - val_loss: 0.7529 - val_acc: 0.7469\n",
      "Epoch 11/100\n",
      "391/391 [==============================] - 32s 81ms/step - loss: 0.6654 - acc: 0.7676 - val_loss: 0.6942 - val_acc: 0.7684\n",
      "Epoch 12/100\n",
      "391/391 [==============================] - 32s 82ms/step - loss: 0.6347 - acc: 0.7800 - val_loss: 0.6484 - val_acc: 0.7872\n",
      "Epoch 13/100\n",
      "391/391 [==============================] - 32s 81ms/step - loss: 0.6059 - acc: 0.7915 - val_loss: 0.7023 - val_acc: 0.7701\n",
      "Epoch 14/100\n",
      "391/391 [==============================] - 32s 81ms/step - loss: 0.5932 - acc: 0.7952 - val_loss: 0.6372 - val_acc: 0.7923\n",
      "Epoch 15/100\n",
      "391/391 [==============================] - 32s 81ms/step - loss: 0.5699 - acc: 0.8033 - val_loss: 0.5822 - val_acc: 0.8065\n",
      "Epoch 16/100\n",
      "391/391 [==============================] - 32s 81ms/step - loss: 0.5393 - acc: 0.8110 - val_loss: 0.5538 - val_acc: 0.8146\n",
      "Epoch 17/100\n",
      "391/391 [==============================] - 32s 82ms/step - loss: 0.5255 - acc: 0.8134 - val_loss: 0.5752 - val_acc: 0.8124\n",
      "Epoch 18/100\n",
      "391/391 [==============================] - 32s 81ms/step - loss: 0.5205 - acc: 0.8192 - val_loss: 0.5923 - val_acc: 0.8030\n",
      "Epoch 19/100\n",
      "391/391 [==============================] - 32s 82ms/step - loss: 0.5031 - acc: 0.8256 - val_loss: 0.6795 - val_acc: 0.7904\n",
      "Epoch 20/100\n",
      "391/391 [==============================] - 32s 82ms/step - loss: 0.4984 - acc: 0.8283 - val_loss: 0.4959 - val_acc: 0.8339\n",
      "Epoch 21/100\n",
      "391/391 [==============================] - 32s 82ms/step - loss: 0.4854 - acc: 0.8320 - val_loss: 0.4981 - val_acc: 0.8338\n",
      "Epoch 22/100\n",
      "391/391 [==============================] - 32s 82ms/step - loss: 0.4695 - acc: 0.8344 - val_loss: 0.5466 - val_acc: 0.8309\n",
      "Epoch 23/100\n",
      "391/391 [==============================] - 32s 82ms/step - loss: 0.4560 - acc: 0.8416 - val_loss: 0.5898 - val_acc: 0.8150\n",
      "Epoch 24/100\n",
      "391/391 [==============================] - 32s 82ms/step - loss: 0.4574 - acc: 0.8411 - val_loss: 0.4971 - val_acc: 0.8368\n",
      "Epoch 25/100\n",
      "391/391 [==============================] - 32s 81ms/step - loss: 0.4491 - acc: 0.8435 - val_loss: 0.4996 - val_acc: 0.8377\n",
      "Epoch 26/100\n",
      "391/391 [==============================] - 32s 81ms/step - loss: 0.4373 - acc: 0.8501 - val_loss: 0.5244 - val_acc: 0.8396\n",
      "Epoch 27/100\n",
      "391/391 [==============================] - 32s 81ms/step - loss: 0.4252 - acc: 0.8521 - val_loss: 0.4768 - val_acc: 0.8463\n",
      "Epoch 28/100\n",
      "391/391 [==============================] - 32s 82ms/step - loss: 0.4210 - acc: 0.8539 - val_loss: 0.5501 - val_acc: 0.8258\n",
      "Epoch 29/100\n",
      "391/391 [==============================] - 32s 82ms/step - loss: 0.4174 - acc: 0.8540 - val_loss: 0.4607 - val_acc: 0.8459\n",
      "Epoch 30/100\n",
      "391/391 [==============================] - 32s 82ms/step - loss: 0.3964 - acc: 0.8608 - val_loss: 0.5872 - val_acc: 0.8188\n",
      "Epoch 31/100\n",
      "391/391 [==============================] - 32s 82ms/step - loss: 0.3999 - acc: 0.8609 - val_loss: 0.4902 - val_acc: 0.8414\n",
      "Epoch 32/100\n",
      "391/391 [==============================] - 32s 81ms/step - loss: 0.3982 - acc: 0.8613 - val_loss: 0.4585 - val_acc: 0.8497\n",
      "Epoch 33/100\n",
      "391/391 [==============================] - 32s 81ms/step - loss: 0.3770 - acc: 0.8670 - val_loss: 0.4945 - val_acc: 0.8395\n",
      "Epoch 34/100\n",
      "391/391 [==============================] - 32s 81ms/step - loss: 0.3836 - acc: 0.8655 - val_loss: 0.4421 - val_acc: 0.8563\n",
      "Epoch 35/100\n",
      "391/391 [==============================] - 32s 81ms/step - loss: 0.3731 - acc: 0.8694 - val_loss: 0.5111 - val_acc: 0.8432\n",
      "Epoch 36/100\n",
      "391/391 [==============================] - 32s 81ms/step - loss: 0.3719 - acc: 0.8707 - val_loss: 0.5526 - val_acc: 0.8281\n",
      "Epoch 37/100\n",
      "391/391 [==============================] - 33s 84ms/step - loss: 0.3712 - acc: 0.8705 - val_loss: 0.4970 - val_acc: 0.8413\n",
      "Epoch 38/100\n",
      "391/391 [==============================] - 32s 82ms/step - loss: 0.3618 - acc: 0.8753 - val_loss: 0.5222 - val_acc: 0.8362\n",
      "Epoch 39/100\n",
      "391/391 [==============================] - 32s 82ms/step - loss: 0.3530 - acc: 0.8754 - val_loss: 0.4772 - val_acc: 0.8481\n",
      "Epoch 40/100\n",
      "391/391 [==============================] - 32s 83ms/step - loss: 0.3475 - acc: 0.8795 - val_loss: 0.4195 - val_acc: 0.8599\n",
      "Epoch 41/100\n",
      "391/391 [==============================] - 32s 82ms/step - loss: 0.3433 - acc: 0.8772 - val_loss: 0.4594 - val_acc: 0.8555\n",
      "Epoch 42/100\n",
      "391/391 [==============================] - 32s 82ms/step - loss: 0.3436 - acc: 0.8797 - val_loss: 0.4628 - val_acc: 0.8529\n",
      "Epoch 43/100\n",
      "391/391 [==============================] - 32s 82ms/step - loss: 0.3439 - acc: 0.8781 - val_loss: 0.4829 - val_acc: 0.8528\n",
      "Epoch 44/100\n",
      "391/391 [==============================] - 32s 81ms/step - loss: 0.3437 - acc: 0.8797 - val_loss: 0.4925 - val_acc: 0.8480\n",
      "Epoch 45/100\n",
      "391/391 [==============================] - 32s 81ms/step - loss: 0.3520 - acc: 0.8762 - val_loss: 0.4812 - val_acc: 0.8482\n",
      "Epoch 46/100\n",
      "391/391 [==============================] - 32s 81ms/step - loss: 0.3312 - acc: 0.8837 - val_loss: 0.4626 - val_acc: 0.8539\n",
      "Epoch 47/100\n",
      "391/391 [==============================] - 32s 81ms/step - loss: 0.3327 - acc: 0.8837 - val_loss: 0.4568 - val_acc: 0.8533\n",
      "Epoch 48/100\n",
      "391/391 [==============================] - 32s 81ms/step - loss: 0.3242 - acc: 0.8886 - val_loss: 0.4329 - val_acc: 0.8600\n",
      "Epoch 49/100\n",
      "391/391 [==============================] - 32s 81ms/step - loss: 0.3186 - acc: 0.8871 - val_loss: 0.4910 - val_acc: 0.8500\n",
      "Epoch 50/100\n",
      "391/391 [==============================] - 32s 82ms/step - loss: 0.3159 - acc: 0.8885 - val_loss: 0.4705 - val_acc: 0.8557\n",
      "Epoch 51/100\n",
      "391/391 [==============================] - 32s 81ms/step - loss: 0.3107 - acc: 0.8898 - val_loss: 0.5137 - val_acc: 0.8455\n",
      "Epoch 52/100\n",
      "391/391 [==============================] - 32s 81ms/step - loss: 0.3205 - acc: 0.8883 - val_loss: 0.4832 - val_acc: 0.8533\n",
      "Epoch 53/100\n",
      "391/391 [==============================] - 32s 81ms/step - loss: 0.3081 - acc: 0.8917 - val_loss: 0.4898 - val_acc: 0.8511\n",
      "Epoch 54/100\n",
      "391/391 [==============================] - 32s 81ms/step - loss: 0.3171 - acc: 0.8880 - val_loss: 0.4279 - val_acc: 0.8626\n",
      "Epoch 55/100\n",
      "391/391 [==============================] - 32s 81ms/step - loss: 0.2993 - acc: 0.8958 - val_loss: 0.5224 - val_acc: 0.8380\n",
      "Epoch 56/100\n",
      "391/391 [==============================] - 32s 81ms/step - loss: 0.3069 - acc: 0.8930 - val_loss: 0.4636 - val_acc: 0.8595\n",
      "Epoch 57/100\n",
      "391/391 [==============================] - 32s 81ms/step - loss: 0.2957 - acc: 0.8961 - val_loss: 0.4782 - val_acc: 0.8527\n",
      "Epoch 58/100\n",
      "391/391 [==============================] - 32s 81ms/step - loss: 0.3039 - acc: 0.8932 - val_loss: 0.4791 - val_acc: 0.8573\n",
      "Epoch 59/100\n",
      "391/391 [==============================] - 32s 81ms/step - loss: 0.3015 - acc: 0.8948 - val_loss: 0.4933 - val_acc: 0.8567\n",
      "Epoch 60/100\n",
      "391/391 [==============================] - 32s 82ms/step - loss: 0.2955 - acc: 0.8976 - val_loss: 0.4703 - val_acc: 0.8560\n",
      "Epoch 61/100\n",
      "391/391 [==============================] - 32s 81ms/step - loss: 0.3037 - acc: 0.8917 - val_loss: 0.4327 - val_acc: 0.8646\n",
      "Epoch 62/100\n",
      "391/391 [==============================] - 32s 81ms/step - loss: 0.2974 - acc: 0.8963 - val_loss: 0.4569 - val_acc: 0.8583\n",
      "Epoch 63/100\n",
      "391/391 [==============================] - 32s 81ms/step - loss: 0.2840 - acc: 0.9021 - val_loss: 0.4447 - val_acc: 0.8622\n",
      "Epoch 64/100\n",
      "391/391 [==============================] - 32s 81ms/step - loss: 0.2908 - acc: 0.8982 - val_loss: 0.4421 - val_acc: 0.8596\n",
      "Epoch 65/100\n",
      "391/391 [==============================] - 32s 81ms/step - loss: 0.2863 - acc: 0.8992 - val_loss: 0.4322 - val_acc: 0.8634\n",
      "Epoch 66/100\n",
      "391/391 [==============================] - 32s 81ms/step - loss: 0.2820 - acc: 0.8998 - val_loss: 0.4907 - val_acc: 0.8550\n",
      "Epoch 67/100\n",
      "391/391 [==============================] - 32s 81ms/step - loss: 0.2776 - acc: 0.9033 - val_loss: 0.4302 - val_acc: 0.8634\n",
      "Epoch 68/100\n",
      "391/391 [==============================] - 32s 81ms/step - loss: 0.2749 - acc: 0.9030 - val_loss: 0.4604 - val_acc: 0.8563\n",
      "Epoch 69/100\n",
      "391/391 [==============================] - 32s 81ms/step - loss: 0.2828 - acc: 0.9004 - val_loss: 0.4167 - val_acc: 0.8658\n",
      "Epoch 70/100\n",
      "391/391 [==============================] - 32s 82ms/step - loss: 0.2759 - acc: 0.9027 - val_loss: 0.4086 - val_acc: 0.8724\n",
      "Epoch 71/100\n",
      "391/391 [==============================] - 32s 81ms/step - loss: 0.2772 - acc: 0.9020 - val_loss: 0.4367 - val_acc: 0.8642\n",
      "Epoch 72/100\n",
      "391/391 [==============================] - 32s 81ms/step - loss: 0.2709 - acc: 0.9026 - val_loss: 0.4575 - val_acc: 0.8578\n",
      "Epoch 73/100\n",
      "391/391 [==============================] - 32s 81ms/step - loss: 0.2705 - acc: 0.9056 - val_loss: 0.4287 - val_acc: 0.8682\n",
      "Epoch 74/100\n",
      "391/391 [==============================] - 32s 81ms/step - loss: 0.2755 - acc: 0.9027 - val_loss: 0.4856 - val_acc: 0.8555\n",
      "Epoch 75/100\n",
      "391/391 [==============================] - 32s 82ms/step - loss: 0.2704 - acc: 0.9046 - val_loss: 0.4001 - val_acc: 0.8753\n",
      "Epoch 76/100\n",
      "391/391 [==============================] - 32s 82ms/step - loss: 0.2765 - acc: 0.9044 - val_loss: 0.4591 - val_acc: 0.8617\n",
      "Epoch 77/100\n",
      "391/391 [==============================] - 32s 81ms/step - loss: 0.2809 - acc: 0.9021 - val_loss: 0.4879 - val_acc: 0.8562\n",
      "Epoch 78/100\n",
      "391/391 [==============================] - 32s 82ms/step - loss: 0.2555 - acc: 0.9101 - val_loss: 0.4706 - val_acc: 0.8545\n",
      "Epoch 79/100\n",
      "391/391 [==============================] - 32s 82ms/step - loss: 0.2685 - acc: 0.9055 - val_loss: 0.4058 - val_acc: 0.8754\n",
      "Epoch 80/100\n",
      "391/391 [==============================] - 32s 82ms/step - loss: 0.2614 - acc: 0.9103 - val_loss: 0.4243 - val_acc: 0.8714\n",
      "Epoch 81/100\n",
      "391/391 [==============================] - 32s 81ms/step - loss: 0.2568 - acc: 0.9102 - val_loss: 0.4526 - val_acc: 0.8663\n",
      "Epoch 82/100\n",
      "391/391 [==============================] - 32s 81ms/step - loss: 0.2610 - acc: 0.9091 - val_loss: 0.4307 - val_acc: 0.8666\n",
      "Epoch 83/100\n",
      "391/391 [==============================] - 32s 82ms/step - loss: 0.2623 - acc: 0.9081 - val_loss: 0.4811 - val_acc: 0.8625\n",
      "Epoch 84/100\n",
      "391/391 [==============================] - 32s 81ms/step - loss: 0.2615 - acc: 0.9056 - val_loss: 0.4348 - val_acc: 0.8697\n",
      "Epoch 85/100\n",
      "391/391 [==============================] - 32s 82ms/step - loss: 0.2565 - acc: 0.9096 - val_loss: 0.4251 - val_acc: 0.8670\n",
      "Epoch 86/100\n",
      "391/391 [==============================] - 32s 81ms/step - loss: 0.2563 - acc: 0.9105 - val_loss: 0.4255 - val_acc: 0.8706\n",
      "Epoch 87/100\n",
      "391/391 [==============================] - 32s 81ms/step - loss: 0.2540 - acc: 0.9115 - val_loss: 0.4599 - val_acc: 0.8616\n",
      "Epoch 88/100\n",
      "391/391 [==============================] - 32s 82ms/step - loss: 0.2456 - acc: 0.9142 - val_loss: 0.4578 - val_acc: 0.8646\n",
      "Epoch 89/100\n",
      "391/391 [==============================] - 32s 83ms/step - loss: 0.2573 - acc: 0.9111 - val_loss: 0.4489 - val_acc: 0.8646\n",
      "Epoch 90/100\n",
      "391/391 [==============================] - 33s 84ms/step - loss: 0.2413 - acc: 0.9159 - val_loss: 0.4423 - val_acc: 0.8692\n",
      "Epoch 91/100\n",
      "391/391 [==============================] - 32s 83ms/step - loss: 0.2431 - acc: 0.9149 - val_loss: 0.4550 - val_acc: 0.8672\n",
      "Epoch 92/100\n",
      "391/391 [==============================] - 32s 82ms/step - loss: 0.2502 - acc: 0.9098 - val_loss: 0.4405 - val_acc: 0.8616\n",
      "Epoch 93/100\n",
      "391/391 [==============================] - 32s 83ms/step - loss: 0.2496 - acc: 0.9117 - val_loss: 0.4454 - val_acc: 0.8661\n",
      "Epoch 94/100\n",
      "391/391 [==============================] - 32s 82ms/step - loss: 0.2358 - acc: 0.9165 - val_loss: 0.4574 - val_acc: 0.8653\n",
      "Epoch 95/100\n",
      "391/391 [==============================] - 33s 83ms/step - loss: 0.2428 - acc: 0.9151 - val_loss: 0.4906 - val_acc: 0.8586\n",
      "Epoch 96/100\n",
      "391/391 [==============================] - 32s 82ms/step - loss: 0.2397 - acc: 0.9149 - val_loss: 0.4418 - val_acc: 0.8722\n",
      "Epoch 97/100\n",
      "391/391 [==============================] - 32s 82ms/step - loss: 0.2417 - acc: 0.9152 - val_loss: 0.4329 - val_acc: 0.8733\n",
      "Epoch 98/100\n",
      "391/391 [==============================] - 32s 83ms/step - loss: 0.2416 - acc: 0.9150 - val_loss: 0.4532 - val_acc: 0.8683\n",
      "Epoch 99/100\n",
      "391/391 [==============================] - 32s 82ms/step - loss: 0.2411 - acc: 0.9139 - val_loss: 0.5034 - val_acc: 0.8580\n",
      "Epoch 100/100\n",
      "391/391 [==============================] - 32s 81ms/step - loss: 0.2404 - acc: 0.9149 - val_loss: 0.4117 - val_acc: 0.8731\n"
     ]
    }
   ],
   "source": [
    "history_conv, conv_pool_cnn_file = compile_and_train_2(conv_pool_cnn_model, \n",
    "                                                     epochs, \n",
    "                                                     x_train, \n",
    "                                                     y_train, \n",
    "                                                     x_test, \n",
    "                                                     y_test, \n",
    "                                                     batch_size)"
   ]
  },
  {
   "cell_type": "code",
   "execution_count": 18,
   "metadata": {
    "colab": {
     "base_uri": "https://localhost:8080/",
     "height": 295
    },
    "id": "KtHcmvMuHeDg",
    "outputId": "45d553cb-58ce-4cf0-c441-b4c6b5f886be"
   },
   "outputs": [
    {
     "data": {
      "image/png": "[encoded data removed]",
      "text/plain": [
       "<Figure size 432x288 with 1 Axes>"
      ]
     },
     "metadata": {
      "needs_background": "light",
      "tags": []
     },
     "output_type": "display_data"
    }
   ],
   "source": [
    "plt.plot(history_conv.history['acc'], color='#00ddff')\n",
    "plt.plot(history_conv.history['val_acc'], color='#0055ff')\n",
    "plt.title('Model accuracy')\n",
    "plt.ylabel('Accuracy')\n",
    "plt.xlabel('Epoch')\n",
    "plt.show()"
   ]
  },
  {
   "cell_type": "code",
   "execution_count": null,
   "metadata": {
    "colab": {
     "base_uri": "https://localhost:8080/",
     "height": 295
    },
    "id": "N5uPMMHfIiwX",
    "outputId": "d62981d7-51a2-4ea1-d366-b0378c0345d9"
   },
   "outputs": [],
   "source": []
  }
 ],
 "metadata": {
  "accelerator": "GPU",
  "colab": {
   "name": "CNN_cifar10.ipynb",
   "provenance": []
  },
  "kernelspec": {
   "display_name": "Python 3",
   "language": "python",
   "name": "python3"
  },
  "language_info": {
   "codemirror_mode": {
    "name": "ipython",
    "version": 3
   },
   "file_extension": ".py",
   "mimetype": "text/x-python",
   "name": "python",
   "nbconvert_exporter": "python",
   "pygments_lexer": "ipython3",
   "version": "3.8.5"
  }
 },
 "nbformat": 4,
 "nbformat_minor": 1
}
